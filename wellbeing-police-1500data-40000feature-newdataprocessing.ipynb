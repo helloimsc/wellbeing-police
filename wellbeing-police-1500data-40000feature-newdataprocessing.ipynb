{
 "cells": [
  {
   "cell_type": "markdown",
   "metadata": {},
   "source": [
    "# Wellbeing Police\n",
    "\n",
    "From various subreddit, we have scraped close to 4000 posts. The subreddits include \"r/SuicideWatch\", \"r/BipolarReddit\", \"r/Anxiety\", \"r/AnxietyDepression\", \"r/Depression\", and \"r/Happy\". Each of the subreddit posts currently sitting within its own csv file. We will see what are the fields that are consistent across the CSV files and choose those applicable. Clean up the data, removed the columns not needed. \n",
    "\n",
    "As all the scrapes was created from the same script, the columns of the resulting csv are same across the files. \n",
    "We will proceed to label them according to the subreddit they came from and combine them into a single dataframe."
   ]
  },
  {
   "cell_type": "code",
   "execution_count": 1,
   "metadata": {},
   "outputs": [],
   "source": [
    "%load_ext autoreload\n",
    "%autoreload 2"
   ]
  },
  {
   "cell_type": "code",
   "execution_count": 2,
   "metadata": {},
   "outputs": [],
   "source": [
    "import numpy as np\n",
    "import pandas as pd\n",
    "import glob\n",
    "import os\n",
    "import spacy\n",
    "import re\n",
    "\n",
    "from wordcloud import WordCloud\n",
    "import matplotlib.pyplot as plt\n",
    "import seaborn as sns\n",
    "from collections import Counter\n",
    "\n",
    "from sklearn.feature_extraction.text import TfidfVectorizer\n",
    "from nltk.stem.porter import PorterStemmer\n",
    "from torchtext.data.utils import get_tokenizer\n",
    "from sklearn.metrics import classification_report\n",
    "\n",
    "from src.utils import color_func, get_mask, search,text_normalization"
   ]
  },
  {
   "cell_type": "markdown",
   "metadata": {},
   "source": [
    "### Data Combination and Labeling\n",
    "\n",
    "We retrieved posts in “Hot” section from various subreddits:\n",
    "`r/ptsd`,`r/Anxiety`,`r/SuicideWatch`,`r/depression`,`r/BipolarReddit`,`r/schizophrenia`,`r/EDAnonymous`,`r/EatingDisorders`"
   ]
  },
  {
   "cell_type": "code",
   "execution_count": 3,
   "metadata": {},
   "outputs": [
    {
     "name": "stdout",
     "output_type": "stream",
     "text": [
      "(34785, 3)\n",
      "(24291, 3)\n",
      "(24291, 3)\n",
      "(24291, 3)\n",
      "(24291, 3)\n"
     ]
    },
    {
     "data": {
      "text/html": [
       "<div>\n",
       "<style scoped>\n",
       "    .dataframe tbody tr th:only-of-type {\n",
       "        vertical-align: middle;\n",
       "    }\n",
       "\n",
       "    .dataframe tbody tr th {\n",
       "        vertical-align: top;\n",
       "    }\n",
       "\n",
       "    .dataframe thead th {\n",
       "        text-align: right;\n",
       "    }\n",
       "</style>\n",
       "<table border=\"1\" class=\"dataframe\">\n",
       "  <thead>\n",
       "    <tr style=\"text-align: right;\">\n",
       "      <th></th>\n",
       "      <th>title</th>\n",
       "      <th>subreddit</th>\n",
       "      <th>body</th>\n",
       "    </tr>\n",
       "  </thead>\n",
       "  <tbody>\n",
       "    <tr>\n",
       "      <th>2</th>\n",
       "      <td>Just swallowed half a bottle of Tylenol waitin...</td>\n",
       "      <td>SuicideWatch</td>\n",
       "      <td>Just swallowed half a bottle of Tylenol waitin...</td>\n",
       "    </tr>\n",
       "    <tr>\n",
       "      <th>3</th>\n",
       "      <td>I just want to be normal</td>\n",
       "      <td>SuicideWatch</td>\n",
       "      <td>I just want to be normal I’ve been depressed/s...</td>\n",
       "    </tr>\n",
       "    <tr>\n",
       "      <th>4</th>\n",
       "      <td>I am really struggling. I need help. Anything ...</td>\n",
       "      <td>SuicideWatch</td>\n",
       "      <td>I am really struggling. I need help. Anything ...</td>\n",
       "    </tr>\n",
       "    <tr>\n",
       "      <th>5</th>\n",
       "      <td>i discontinued my own suicide attempt</td>\n",
       "      <td>SuicideWatch</td>\n",
       "      <td>i discontinued my own suicide attempt i don‘t ...</td>\n",
       "    </tr>\n",
       "    <tr>\n",
       "      <th>6</th>\n",
       "      <td>I always look outside of the window, dreaming ...</td>\n",
       "      <td>SuicideWatch</td>\n",
       "      <td>I always look outside of the window, dreaming ...</td>\n",
       "    </tr>\n",
       "  </tbody>\n",
       "</table>\n",
       "</div>"
      ],
      "text/plain": [
       "                                               title     subreddit  \\\n",
       "2  Just swallowed half a bottle of Tylenol waitin...  SuicideWatch   \n",
       "3                           I just want to be normal  SuicideWatch   \n",
       "4  I am really struggling. I need help. Anything ...  SuicideWatch   \n",
       "5              i discontinued my own suicide attempt  SuicideWatch   \n",
       "6  I always look outside of the window, dreaming ...  SuicideWatch   \n",
       "\n",
       "                                                body  \n",
       "2  Just swallowed half a bottle of Tylenol waitin...  \n",
       "3  I just want to be normal I’ve been depressed/s...  \n",
       "4  I am really struggling. I need help. Anything ...  \n",
       "5  i discontinued my own suicide attempt i don‘t ...  \n",
       "6  I always look outside of the window, dreaming ...  "
      ]
     },
     "execution_count": 3,
     "metadata": {},
     "output_type": "execute_result"
    }
   ],
   "source": [
    "path = \"./reddit/csvs/\"\n",
    "all_csvs = glob.glob(os.path.join(path, \"*.csv\"))\n",
    "\n",
    "all_dfs = []\n",
    "for filename in all_csvs:\n",
    "    df = pd.read_csv(filename, index_col=None, header=0)\n",
    "    df = df[[\"title\", \"subreddit\", \"body\"]]\n",
    "    df = df[2:]\n",
    "    \n",
    "    # ## manually remove irrelevant pinned posts\n",
    "    # if df.iloc[0].subreddit in [\"ptsd\",'Anxiety',\"SuicideWatch\",'EDAnonymous']: \n",
    "    #     df=df[2:]\n",
    "    # if df.iloc[0].subreddit in ['BipolarReddit','schizophrenia','EatingDisorders']:\n",
    "    #     df=df[1:]\n",
    "        \n",
    "    all_dfs.append(df)\n",
    "\n",
    "# main_df = pd.concat(all_dfs)\n",
    "# print(main_df.shape)\n",
    "# main_df = main_df.drop_duplicates()\n",
    "# print(main_df.shape)\n",
    "# main_df = main_df.dropna()\n",
    "# print(main_df.shape)\n",
    "# main_df.head()\n",
    "\n",
    "\n",
    "# main_df[\"body\"] = main_df[\"title\"] + \" \" + main_df[\"body\"]\n",
    "# main_df = main_df.drop_duplicates()\n",
    "# print(main_df.shape)\n",
    "# main_df = main_df.dropna()\n",
    "# print(main_df.shape)\n",
    "# main_df.head()\n",
    "\n",
    "main_df = pd.concat(all_dfs)\n",
    "print(main_df.shape)\n",
    "main_df = main_df.fillna('')\n",
    "main_df[\"body\"] = main_df[\"title\"] + \" \" + main_df[\"body\"]\n",
    "main_df = main_df.drop_duplicates()\n",
    "print(main_df.shape)\n",
    "main_df = main_df.dropna()\n",
    "print(main_df.shape)\n",
    "main_df.head()\n",
    "\n",
    "\n",
    "main_df = main_df.drop_duplicates()\n",
    "print(main_df.shape)\n",
    "main_df = main_df.dropna()\n",
    "print(main_df.shape)\n",
    "main_df.head()\n"
   ]
  },
  {
   "cell_type": "markdown",
   "metadata": {},
   "source": [
    "A few of the subreddit is indicating the same underlying mental problems, we proceed to add an attribute such that these minor differentiation will be grouped for better and easier identification."
   ]
  },
  {
   "cell_type": "code",
   "execution_count": 4,
   "metadata": {},
   "outputs": [
    {
     "data": {
      "text/plain": [
       "<Axes: title={'center': 'Class Counts'}>"
      ]
     },
     "execution_count": 4,
     "metadata": {},
     "output_type": "execute_result"
    },
    {
     "data": {
      "image/png": "[encoded data removed]",
      "text/plain": [
       "<Figure size 640x480 with 1 Axes>"
      ]
     },
     "metadata": {},
     "output_type": "display_data"
    }
   ],
   "source": [
    "sub_problem_mapping = {\n",
    "    \"ptsd\": \"PTSD\",\n",
    "    \"CPTSD\": \"PTSD\",\n",
    "    \"Anxiety\": \"anxiety\",\n",
    "    \"Anxietyhelp\": \"anxiety\",\n",
    "    \"SuicideWatch\": \"suicidal\",\n",
    "    \"selfharm\": \"suicidal\",\n",
    "    \"depression\": \"depression\",\n",
    "    \"depression_help\": \"depression\", \n",
    "    \"BipolarReddit\": \"bipolar\", \n",
    "    \"bipolar\": \"bipolar\",\n",
    "    \"schizophrenia\": \"schizophrenia\",\n",
    "    \"EDAnonymous\": \"eating disorder\",\n",
    "    \"EatingDisorders\": \"eating disorder\",\n",
    "    \"happy\": \"control\",\n",
    "    \"MadeMeSmile\": \"control\"\n",
    "}\n",
    "\n",
    "main_df[\"problem\"] = [sub_problem_mapping[s] for s in main_df[\"subreddit\"]]\n",
    "main_df.head()\n",
    "main_df[\"problem\"].value_counts().plot.bar(rot=0, title=\"Class Counts\")\n",
    "\n",
    "#NEED TO DECIDE whether need to drop control."
   ]
  },
  {
   "cell_type": "code",
   "execution_count": 5,
   "metadata": {},
   "outputs": [],
   "source": [
    "df_PTSD = main_df[main_df['problem'] == 'PTSD']\n",
    "df_anxiety = main_df[main_df['problem'] == 'anxiety']\n",
    "df_suicidal = main_df[main_df['problem'] == 'suicidal']\n",
    "df_depression = main_df[main_df['problem'] == 'depression']\n",
    "df_bipolar = main_df[main_df['problem'] == 'bipolar']\n",
    "df_schizophrenia = main_df[main_df['problem'] == 'schizophrenia']\n",
    "df_eating_disorder = main_df[main_df['problem'] == 'eating disorder']\n",
    "df_control = main_df[main_df['problem'] == 'control']\n",
    "\n",
    "df_PTSD = df_PTSD[:1500]\n",
    "df_anxiety = df_anxiety[:1500]\n",
    "df_suicidal = df_suicidal[:1500]\n",
    "df_depression = df_depression[:1500]\n",
    "df_bipolar = df_bipolar[:1500]\n",
    "df_schizophrenia = df_schizophrenia[:1500]\n",
    "df_eating_disorder = df_eating_disorder[:1500]\n",
    "# df_control = df_control[:1500]\n",
    "all_dfs = []\n",
    "all_dfs.append(df_PTSD)\n",
    "all_dfs.append(df_anxiety)\n",
    "all_dfs.append(df_suicidal)\n",
    "all_dfs.append(df_depression)\n",
    "all_dfs.append(df_bipolar)\n",
    "all_dfs.append(df_schizophrenia)\n",
    "all_dfs.append(df_eating_disorder)\n",
    "all_dfs.append(df_control)\n",
    "main_df = pd.concat(all_dfs)"
   ]
  },
  {
   "cell_type": "code",
   "execution_count": 6,
   "metadata": {},
   "outputs": [
    {
     "data": {
      "text/plain": [
       "<Axes: title={'center': 'Class Counts'}>"
      ]
     },
     "execution_count": 6,
     "metadata": {},
     "output_type": "execute_result"
    },
    {
     "data": {
      "image/png": "[encoded data removed]",
      "text/plain": [
       "<Figure size 640x480 with 1 Axes>"
      ]
     },
     "metadata": {},
     "output_type": "display_data"
    }
   ],
   "source": [
    "main_df[\"problem\"].value_counts().plot.bar(rot=0, title=\"Class Counts\")"
   ]
  },
  {
   "cell_type": "code",
   "execution_count": 7,
   "metadata": {},
   "outputs": [],
   "source": [
    "\n",
    "# Normalization codes from the notebook\n",
    "# Note that we did not include removal of words in brackets as well as odd characters as\n",
    "# these may denote some emotion (anger for instance may lead to multiple !!!). \n",
    "def normalizer(s):\n",
    "    s = s.lower()                                                   # Lowercase whole sentence\n",
    "    s = re.sub(r'\\s+', ' ', s)                                      # Remove duplicate whitespaces\n",
    "    s = re.sub(r'([.]){2,}', ' ', s)                                # Remove ellipses ...\n",
    "    s = re.sub(r'([\\w.-]+)([,;])([\\w.-]+)', '\\g<1>\\g<2> \\g<3>', s)  # Add missing whitespace after , and ;\n",
    "    s = re.sub(r'(.+)\\1{2,}', '\\g<1>\\g<1>', s)                      # Reduce repeated sequences to 2\n",
    "    #s = re.sub(r'[\\(\\[].*?[\\)\\]]', ' ', s)                          # Remove all words in brackets\n",
    "    s = re.sub(r'(n\\'t)', ' not', s)                                # Resolve contraction \"-n't\"\n",
    "    # s = re.sub(r'[^a-zA-Z0-9_-]+', ' ', s)                         # Remove all \"odd\" characters\n",
    "    s = re.sub(r'\\s+', ' ', s)                                      # Remove duplicate whitespaces (again)\n",
    "    s = s.strip()                                                   # Remove trailing whitespaces\n",
    "    return s"
   ]
  },
  {
   "cell_type": "code",
   "execution_count": 8,
   "metadata": {},
   "outputs": [],
   "source": [
    "# Lemmatization was not used as it did not give good results during validation\n",
    "# A quick intuition as to why is that some similar meaning words can be used to convey different emotions\n",
    "\n",
    "# Lemmatization codes from provided notebook\n",
    "# Create our list of stopwords\n",
    "nlp = spacy.load('en_core_web_sm')\n",
    "stop_words = spacy.lang.en.stop_words.STOP_WORDS\n",
    "\n",
    "# Creating our tokenizer function\n",
    "def spacy_lemmatizer(sentence):\n",
    "    # Creating our token object, which is used to create documents with linguistic annotations.\n",
    "    mytokens = nlp(sentence)\n",
    "    # Lemmatizing each token and converting each token into lowercase\n",
    "    mytokens = [ word.lemma_ for word in mytokens ]\n",
    "    # Removing stop words\n",
    "    # mytokens = [ word for word in mytokens if word not in stop_words ]\n",
    "    # return preprocessed list of tokens\n",
    "    return \" \".join(mytokens)"
   ]
  },
  {
   "cell_type": "code",
   "execution_count": 9,
   "metadata": {},
   "outputs": [],
   "source": [
    "# Stemming was not used as it did not give good results during validation\n",
    "\n",
    "# Stemming codes from provided notebook\n",
    "stemmer = PorterStemmer()\n",
    "tokenizer = get_tokenizer(\"spacy\", \"en_core_web_sm\")\n",
    "\n",
    "def nltk_stemmer(s):\n",
    "    stemmed_words = []\n",
    "    token_list = tokenizer(s)\n",
    "    for word in token_list:\n",
    "        stemmed_words.append(stemmer.stem(word))\n",
    "    return \" \".join(stemmed_words)"
   ]
  },
  {
   "cell_type": "code",
   "execution_count": 10,
   "metadata": {},
   "outputs": [],
   "source": [
    "# Create the mapping from categorical label to its numerical encoding\n",
    "label_to_ind = {}\n",
    "ind_to_label = {}\n",
    "for ind, label in enumerate(main_df[\"problem\"].unique()):\n",
    "    label_to_ind[label] = ind\n",
    "    ind_to_label[ind] = label"
   ]
  },
  {
   "attachments": {},
   "cell_type": "markdown",
   "metadata": {},
   "source": [
    "### Text Cleaning and Processing\n",
    "- Remove emoticons and non-text characters\n",
    "- Remove excess newline and spacing characters added for emphasis (e.g., poetry paragraphing)\n",
    "- Remove hyperlinks and tags\n",
    "- Change text to lowercase\n",
    "- Simplify punctuation by removing repeated characters (e.g., \"?????\", \"!!!!\")"
   ]
  },
  {
   "cell_type": "code",
   "execution_count": 11,
   "metadata": {},
   "outputs": [],
   "source": [
    "from text_processing import text_processing"
   ]
  },
  {
   "cell_type": "code",
   "execution_count": 12,
   "metadata": {},
   "outputs": [
    {
     "data": {
      "text/html": [
       "<div>\n",
       "<style scoped>\n",
       "    .dataframe tbody tr th:only-of-type {\n",
       "        vertical-align: middle;\n",
       "    }\n",
       "\n",
       "    .dataframe tbody tr th {\n",
       "        vertical-align: top;\n",
       "    }\n",
       "\n",
       "    .dataframe thead th {\n",
       "        text-align: right;\n",
       "    }\n",
       "</style>\n",
       "<table border=\"1\" class=\"dataframe\">\n",
       "  <thead>\n",
       "    <tr style=\"text-align: right;\">\n",
       "      <th></th>\n",
       "      <th>title</th>\n",
       "      <th>subreddit</th>\n",
       "      <th>body</th>\n",
       "      <th>problem</th>\n",
       "    </tr>\n",
       "  </thead>\n",
       "  <tbody>\n",
       "    <tr>\n",
       "      <th>2</th>\n",
       "      <td>ptsd never getting better, don’t want to be al...</td>\n",
       "      <td>ptsd</td>\n",
       "      <td>ptsd never getting better, don’t want to be al...</td>\n",
       "      <td>PTSD</td>\n",
       "    </tr>\n",
       "    <tr>\n",
       "      <th>3</th>\n",
       "      <td>i can’t be bothered with people anymore</td>\n",
       "      <td>ptsd</td>\n",
       "      <td>i can’t be bothered with people anymore why do...</td>\n",
       "      <td>PTSD</td>\n",
       "    </tr>\n",
       "    <tr>\n",
       "      <th>4</th>\n",
       "      <td>i can't stop peeing my pants</td>\n",
       "      <td>ptsd</td>\n",
       "      <td>i can't stop peeing my pants this is incredibl...</td>\n",
       "      <td>PTSD</td>\n",
       "    </tr>\n",
       "    <tr>\n",
       "      <th>5</th>\n",
       "      <td>what tattoo should i get?</td>\n",
       "      <td>ptsd</td>\n",
       "      <td>what tattoo should i get? i was diagnosed with...</td>\n",
       "      <td>PTSD</td>\n",
       "    </tr>\n",
       "    <tr>\n",
       "      <th>6</th>\n",
       "      <td>migraines? visual issues</td>\n",
       "      <td>ptsd</td>\n",
       "      <td>migraines? visual issues trying to figure out ...</td>\n",
       "      <td>PTSD</td>\n",
       "    </tr>\n",
       "  </tbody>\n",
       "</table>\n",
       "</div>"
      ],
      "text/plain": [
       "                                               title subreddit  \\\n",
       "2  ptsd never getting better, don’t want to be al...      ptsd   \n",
       "3            i can’t be bothered with people anymore      ptsd   \n",
       "4                       i can't stop peeing my pants      ptsd   \n",
       "5                          what tattoo should i get?      ptsd   \n",
       "6                           migraines? visual issues      ptsd   \n",
       "\n",
       "                                                body problem  \n",
       "2  ptsd never getting better, don’t want to be al...    PTSD  \n",
       "3  i can’t be bothered with people anymore why do...    PTSD  \n",
       "4  i can't stop peeing my pants this is incredibl...    PTSD  \n",
       "5  what tattoo should i get? i was diagnosed with...    PTSD  \n",
       "6  migraines? visual issues trying to figure out ...    PTSD  "
      ]
     },
     "execution_count": 12,
     "metadata": {},
     "output_type": "execute_result"
    }
   ],
   "source": [
    "\n",
    "clean_text = text_processing()\n",
    "main_df = clean_text.process_data(main_df, headers = ['title', 'subreddit', 'body'])\n",
    "main_df.head()"
   ]
  },
  {
   "attachments": {},
   "cell_type": "markdown",
   "metadata": {},
   "source": [
    "### Apply further text normalization steps, tokenization and  lemmatization using spaCy\n",
    "\n",
    "We scrap common text abbreviations into a dictionary from below link and also manually added in some common abbreviate words. https://www.slicktext.com/blog/2019/02/text-abbreviations-guide/\n",
    "\n",
    "We use spaCy to perform tokenization and lemmatization."
   ]
  },
  {
   "cell_type": "code",
   "execution_count": 13,
   "metadata": {},
   "outputs": [],
   "source": [
    "# # Group the data by class label\n",
    "# groups = main_df.groupby('problem')\n",
    "\n",
    "# # Sample 2 rows from each group\n",
    "# sampled_data = groups.apply(lambda x: x.sample(n=100)).reset_index(drop=True)\n",
    "\n",
    "## Apply further cleaning steps before tokenization\n",
    "normalized_text = text_normalization()\n",
    "\n",
    "main_df = normalized_text.normalize_data(main_df)\n",
    "\n",
    "## save proccessed data for CNN use\n",
    "path = os.path.join(os.getcwd(),\"CNN\")\n",
    "main_df.to_csv(os.path.join(path,\"reddit_posts_proccessed.csv\"),index=False)"
   ]
  },
  {
   "cell_type": "code",
   "execution_count": 14,
   "metadata": {},
   "outputs": [],
   "source": [
    "# Apply text normalization\n",
    "# main_df[\"body\"] = main_df[\"body\"].apply(normalizer)\n",
    "# main_df[\"body\"] = main_df[\"body\"].apply(spacy_lemmatizer)\n",
    "# main_df[\"body\"] = main_df[\"body\"].apply(nltk_stemmer)\n",
    "\n",
    "# Encode labels\n",
    "main_df[\"problem\"] = main_df[\"problem\"].apply(lambda x: label_to_ind[x])"
   ]
  },
  {
   "cell_type": "markdown",
   "metadata": {},
   "source": [
    "### KNN-Classification\n",
    "\n",
    "#### Create Training & Test Set\n",
    "\n",
    "With the method `train_test_split()`, set the size of the test set to 20%."
   ]
  },
  {
   "cell_type": "code",
   "execution_count": 15,
   "metadata": {},
   "outputs": [],
   "source": [
    "from sklearn.feature_extraction.text import TfidfVectorizer\n",
    "from sklearn.neighbors import KNeighborsClassifier\n",
    "from sklearn.model_selection import train_test_split, cross_val_score, GridSearchCV\n",
    "from sklearn import metrics\n",
    "from sklearn.pipeline import Pipeline\n",
    "\n",
    "from tqdm import tqdm"
   ]
  },
  {
   "cell_type": "code",
   "execution_count": 16,
   "metadata": {},
   "outputs": [
    {
     "name": "stdout",
     "output_type": "stream",
     "text": [
      "Size of training set: 9445\n",
      "Size of test set: 2362\n"
     ]
    }
   ],
   "source": [
    "sentences = main_df.body\n",
    "labels = main_df.problem\n",
    "\n",
    "# Split sentences and labels into training and test set with a test set size of 20%\n",
    "sentences_train, sentences_test, labels_train, labels_test = train_test_split(sentences, labels, test_size=0.2, random_state=42)\n",
    "\n",
    "# We can directly convert the numerical class labels from lists to numpy arrays\n",
    "y_train = np.asarray(labels_train)\n",
    "y_test = np.asarray(labels_test)\n",
    "\n",
    "print(\"Size of training set: {}\".format(len(sentences_train)))\n",
    "print(\"Size of test set: {}\".format(len(sentences_test)))"
   ]
  },
  {
   "cell_type": "code",
   "execution_count": 17,
   "metadata": {},
   "outputs": [
    {
     "name": "stdout",
     "output_type": "stream",
     "text": [
      "49924\n"
     ]
    }
   ],
   "source": [
    "words = sentences_train.str.split().explode()\n",
    "unique_words = words.nunique()\n",
    "print(unique_words)"
   ]
  },
  {
   "cell_type": "markdown",
   "metadata": {},
   "source": [
    "#### KNN with Iteration to find best N-gram (1-3)"
   ]
  },
  {
   "cell_type": "code",
   "execution_count": 18,
   "metadata": {},
   "outputs": [
    {
     "name": "stderr",
     "output_type": "stream",
     "text": [
      "  2%|▏         | 1/60 [02:00<1:58:43, 120.74s/it]"
     ]
    },
    {
     "name": "stdout",
     "output_type": "stream",
     "text": [
      "======\n",
      "KNN/40000_new\\KNN_Ngram_1_K_7_f1_0.484.csv\n",
      "              precision    recall  f1-score   support\n",
      "\n",
      "           0       0.39      0.60      0.47       310\n",
      "           1       0.45      0.52      0.48       297\n",
      "           2       0.41      0.45      0.43       306\n",
      "           3       0.28      0.42      0.33       293\n",
      "           4       0.66      0.35      0.46       299\n",
      "           5       0.62      0.39      0.48       300\n",
      "           6       0.79      0.69      0.73       315\n",
      "           7       0.80      0.49      0.61       242\n",
      "\n",
      "    accuracy                           0.49      2362\n",
      "   macro avg       0.55      0.49      0.50      2362\n",
      "weighted avg       0.55      0.49      0.50      2362\n",
      "\n"
     ]
    },
    {
     "name": "stderr",
     "output_type": "stream",
     "text": [
      "  3%|▎         | 2/60 [04:23<2:08:57, 133.41s/it]"
     ]
    },
    {
     "name": "stdout",
     "output_type": "stream",
     "text": [
      "======\n",
      "KNN/40000_new\\KNN_Ngram_1_K_17_f1_0.502.csv\n",
      "              precision    recall  f1-score   support\n",
      "\n",
      "           0       0.42      0.64      0.51       310\n",
      "           1       0.58      0.51      0.54       297\n",
      "           2       0.44      0.44      0.44       306\n",
      "           3       0.28      0.54      0.37       293\n",
      "           4       0.74      0.38      0.51       299\n",
      "           5       0.69      0.40      0.50       300\n",
      "           6       0.75      0.72      0.73       315\n",
      "           7       0.86      0.47      0.61       242\n",
      "\n",
      "    accuracy                           0.52      2362\n",
      "   macro avg       0.59      0.51      0.53      2362\n",
      "weighted avg       0.59      0.52      0.53      2362\n",
      "\n"
     ]
    },
    {
     "name": "stderr",
     "output_type": "stream",
     "text": [
      "  5%|▌         | 3/60 [06:46<2:10:58, 137.87s/it]"
     ]
    },
    {
     "name": "stdout",
     "output_type": "stream",
     "text": [
      "======\n",
      "KNN/40000_new\\KNN_Ngram_1_K_27_f1_0.501.csv\n",
      "              precision    recall  f1-score   support\n",
      "\n",
      "           0       0.44      0.66      0.53       310\n",
      "           1       0.66      0.49      0.56       297\n",
      "           2       0.46      0.43      0.45       306\n",
      "           3       0.27      0.58      0.37       293\n",
      "           4       0.74      0.37      0.50       299\n",
      "           5       0.68      0.37      0.48       300\n",
      "           6       0.73      0.73      0.73       315\n",
      "           7       0.88      0.44      0.59       242\n",
      "\n",
      "    accuracy                           0.51      2362\n",
      "   macro avg       0.61      0.51      0.53      2362\n",
      "weighted avg       0.60      0.51      0.53      2362\n",
      "\n"
     ]
    },
    {
     "name": "stderr",
     "output_type": "stream",
     "text": [
      "  7%|▋         | 4/60 [09:13<2:12:15, 141.70s/it]"
     ]
    },
    {
     "name": "stdout",
     "output_type": "stream",
     "text": [
      "======\n",
      "KNN/40000_new\\KNN_Ngram_1_K_37_f1_0.496.csv\n",
      "              precision    recall  f1-score   support\n",
      "\n",
      "           0       0.43      0.66      0.52       310\n",
      "           1       0.72      0.51      0.59       297\n",
      "           2       0.45      0.41      0.43       306\n",
      "           3       0.25      0.57      0.35       293\n",
      "           4       0.76      0.38      0.51       299\n",
      "           5       0.71      0.38      0.50       300\n",
      "           6       0.74      0.74      0.74       315\n",
      "           7       0.89      0.41      0.56       242\n",
      "\n",
      "    accuracy                           0.51      2362\n",
      "   macro avg       0.62      0.51      0.53      2362\n",
      "weighted avg       0.61      0.51      0.53      2362\n",
      "\n"
     ]
    },
    {
     "name": "stderr",
     "output_type": "stream",
     "text": [
      "  8%|▊         | 5/60 [11:38<2:10:47, 142.68s/it]"
     ]
    },
    {
     "name": "stdout",
     "output_type": "stream",
     "text": [
      "======\n",
      "KNN/40000_new\\KNN_Ngram_1_K_47_f1_0.492.csv\n",
      "              precision    recall  f1-score   support\n",
      "\n",
      "           0       0.43      0.66      0.52       310\n",
      "           1       0.72      0.51      0.60       297\n",
      "           2       0.46      0.41      0.44       306\n",
      "           3       0.26      0.61      0.36       293\n",
      "           4       0.75      0.38      0.50       299\n",
      "           5       0.77      0.35      0.48       300\n",
      "           6       0.74      0.75      0.74       315\n",
      "           7       0.91      0.38      0.54       242\n",
      "\n",
      "    accuracy                           0.51      2362\n",
      "   macro avg       0.63      0.51      0.52      2362\n",
      "weighted avg       0.62      0.51      0.52      2362\n",
      "\n"
     ]
    },
    {
     "name": "stderr",
     "output_type": "stream",
     "text": [
      " 10%|█         | 6/60 [14:06<2:10:07, 144.59s/it]"
     ]
    },
    {
     "name": "stdout",
     "output_type": "stream",
     "text": [
      "======\n",
      "KNN/40000_new\\KNN_Ngram_1_K_57_f1_0.486.csv\n",
      "              precision    recall  f1-score   support\n",
      "\n",
      "           0       0.44      0.67      0.53       310\n",
      "           1       0.76      0.51      0.61       297\n",
      "           2       0.46      0.40      0.43       306\n",
      "           3       0.26      0.64      0.37       293\n",
      "           4       0.75      0.38      0.50       299\n",
      "           5       0.76      0.34      0.47       300\n",
      "           6       0.74      0.72      0.73       315\n",
      "           7       0.92      0.38      0.54       242\n",
      "\n",
      "    accuracy                           0.51      2362\n",
      "   macro avg       0.64      0.51      0.52      2362\n",
      "weighted avg       0.63      0.51      0.52      2362\n",
      "\n"
     ]
    },
    {
     "name": "stderr",
     "output_type": "stream",
     "text": [
      " 12%|█▏        | 7/60 [16:26<2:06:21, 143.05s/it]"
     ]
    },
    {
     "name": "stdout",
     "output_type": "stream",
     "text": [
      "======\n",
      "KNN/40000_new\\KNN_Ngram_1_K_67_f1_0.474.csv\n",
      "              precision    recall  f1-score   support\n",
      "\n",
      "           0       0.45      0.68      0.54       310\n",
      "           1       0.77      0.49      0.60       297\n",
      "           2       0.46      0.39      0.42       306\n",
      "           3       0.25      0.66      0.36       293\n",
      "           4       0.73      0.35      0.47       299\n",
      "           5       0.80      0.34      0.48       300\n",
      "           6       0.73      0.72      0.72       315\n",
      "           7       0.92      0.36      0.51       242\n",
      "\n",
      "    accuracy                           0.50      2362\n",
      "   macro avg       0.64      0.50      0.51      2362\n",
      "weighted avg       0.63      0.50      0.52      2362\n",
      "\n"
     ]
    },
    {
     "name": "stderr",
     "output_type": "stream",
     "text": [
      " 13%|█▎        | 8/60 [18:43<2:02:22, 141.19s/it]"
     ]
    },
    {
     "name": "stdout",
     "output_type": "stream",
     "text": [
      "======\n",
      "KNN/40000_new\\KNN_Ngram_1_K_77_f1_0.471.csv\n",
      "              precision    recall  f1-score   support\n",
      "\n",
      "           0       0.44      0.69      0.54       310\n",
      "           1       0.79      0.49      0.61       297\n",
      "           2       0.45      0.38      0.41       306\n",
      "           3       0.24      0.63      0.35       293\n",
      "           4       0.73      0.37      0.49       299\n",
      "           5       0.81      0.32      0.46       300\n",
      "           6       0.73      0.71      0.72       315\n",
      "           7       0.92      0.33      0.49       242\n",
      "\n",
      "    accuracy                           0.50      2362\n",
      "   macro avg       0.64      0.49      0.51      2362\n",
      "weighted avg       0.63      0.50      0.51      2362\n",
      "\n"
     ]
    },
    {
     "name": "stderr",
     "output_type": "stream",
     "text": [
      " 15%|█▌        | 9/60 [20:51<1:56:37, 137.20s/it]"
     ]
    },
    {
     "name": "stdout",
     "output_type": "stream",
     "text": [
      "======\n",
      "KNN/40000_new\\KNN_Ngram_1_K_87_f1_0.468.csv\n",
      "              precision    recall  f1-score   support\n",
      "\n",
      "           0       0.44      0.69      0.53       310\n",
      "           1       0.78      0.48      0.59       297\n",
      "           2       0.46      0.37      0.41       306\n",
      "           3       0.24      0.65      0.35       293\n",
      "           4       0.72      0.35      0.47       299\n",
      "           5       0.80      0.31      0.45       300\n",
      "           6       0.72      0.69      0.70       315\n",
      "           7       0.93      0.33      0.49       242\n",
      "\n",
      "    accuracy                           0.49      2362\n",
      "   macro avg       0.64      0.48      0.50      2362\n",
      "weighted avg       0.63      0.49      0.50      2362\n",
      "\n"
     ]
    },
    {
     "name": "stderr",
     "output_type": "stream",
     "text": [
      " 17%|█▋        | 10/60 [22:59<1:51:51, 134.22s/it]"
     ]
    },
    {
     "name": "stdout",
     "output_type": "stream",
     "text": [
      "======\n",
      "KNN/40000_new\\KNN_Ngram_1_K_97_f1_0.466.csv\n",
      "              precision    recall  f1-score   support\n",
      "\n",
      "           0       0.44      0.69      0.53       310\n",
      "           1       0.78      0.46      0.58       297\n",
      "           2       0.46      0.37      0.41       306\n",
      "           3       0.24      0.67      0.36       293\n",
      "           4       0.71      0.35      0.47       299\n",
      "           5       0.79      0.29      0.43       300\n",
      "           6       0.71      0.69      0.70       315\n",
      "           7       0.94      0.32      0.48       242\n",
      "\n",
      "    accuracy                           0.48      2362\n",
      "   macro avg       0.63      0.48      0.49      2362\n",
      "weighted avg       0.63      0.48      0.50      2362\n",
      "\n"
     ]
    },
    {
     "name": "stderr",
     "output_type": "stream",
     "text": [
      " 18%|█▊        | 11/60 [25:07<1:48:00, 132.26s/it]"
     ]
    },
    {
     "name": "stdout",
     "output_type": "stream",
     "text": [
      "======\n",
      "KNN/40000_new\\KNN_Ngram_1_K_150_f1_0.446.csv\n",
      "              precision    recall  f1-score   support\n",
      "\n",
      "           0       0.42      0.68      0.52       310\n",
      "           1       0.80      0.45      0.57       297\n",
      "           2       0.46      0.36      0.40       306\n",
      "           3       0.24      0.69      0.36       293\n",
      "           4       0.69      0.34      0.46       299\n",
      "           5       0.81      0.29      0.42       300\n",
      "           6       0.71      0.68      0.69       315\n",
      "           7       0.95      0.26      0.41       242\n",
      "\n",
      "    accuracy                           0.47      2362\n",
      "   macro avg       0.64      0.47      0.48      2362\n",
      "weighted avg       0.63      0.47      0.48      2362\n",
      "\n"
     ]
    },
    {
     "name": "stderr",
     "output_type": "stream",
     "text": [
      " 20%|██        | 12/60 [27:19<1:45:42, 132.14s/it]"
     ]
    },
    {
     "name": "stdout",
     "output_type": "stream",
     "text": [
      "======\n",
      "KNN/40000_new\\KNN_Ngram_1_K_200_f1_0.437.csv\n",
      "              precision    recall  f1-score   support\n",
      "\n",
      "           0       0.41      0.69      0.51       310\n",
      "           1       0.82      0.45      0.58       297\n",
      "           2       0.47      0.33      0.39       306\n",
      "           3       0.24      0.72      0.36       293\n",
      "           4       0.69      0.33      0.45       299\n",
      "           5       0.83      0.26      0.40       300\n",
      "           6       0.72      0.68      0.70       315\n",
      "           7       0.96      0.23      0.37       242\n",
      "\n",
      "    accuracy                           0.47      2362\n",
      "   macro avg       0.64      0.46      0.47      2362\n",
      "weighted avg       0.64      0.47      0.47      2362\n",
      "\n"
     ]
    },
    {
     "name": "stderr",
     "output_type": "stream",
     "text": [
      " 22%|██▏       | 13/60 [33:15<2:36:38, 199.96s/it]"
     ]
    },
    {
     "name": "stdout",
     "output_type": "stream",
     "text": [
      "======\n",
      "KNN/40000_new\\KNN_Ngram_2_K_7_f1_0.122.csv\n",
      "              precision    recall  f1-score   support\n",
      "\n",
      "           0       0.00      0.00      0.00       310\n",
      "           1       0.00      0.00      0.00       297\n",
      "           2       0.00      0.00      0.00       306\n",
      "           3       0.00      0.00      0.00       293\n",
      "           4       0.00      0.00      0.00       299\n",
      "           5       0.94      0.06      0.11       300\n",
      "           6       0.00      0.00      0.00       315\n",
      "           7       0.10      1.00      0.19       242\n",
      "\n",
      "    accuracy                           0.11      2362\n",
      "   macro avg       0.13      0.13      0.04      2362\n",
      "weighted avg       0.13      0.11      0.03      2362\n",
      "\n"
     ]
    },
    {
     "name": "stderr",
     "output_type": "stream",
     "text": [
      "c:\\Users\\jaka_\\anaconda3\\envs\\newsapi\\lib\\site-packages\\sklearn\\metrics\\_classification.py:1344: UndefinedMetricWarning: Precision and F-score are ill-defined and being set to 0.0 in labels with no predicted samples. Use `zero_division` parameter to control this behavior.\n",
      "  _warn_prf(average, modifier, msg_start, len(result))\n",
      "c:\\Users\\jaka_\\anaconda3\\envs\\newsapi\\lib\\site-packages\\sklearn\\metrics\\_classification.py:1344: UndefinedMetricWarning: Precision and F-score are ill-defined and being set to 0.0 in labels with no predicted samples. Use `zero_division` parameter to control this behavior.\n",
      "  _warn_prf(average, modifier, msg_start, len(result))\n",
      "c:\\Users\\jaka_\\anaconda3\\envs\\newsapi\\lib\\site-packages\\sklearn\\metrics\\_classification.py:1344: UndefinedMetricWarning: Precision and F-score are ill-defined and being set to 0.0 in labels with no predicted samples. Use `zero_division` parameter to control this behavior.\n",
      "  _warn_prf(average, modifier, msg_start, len(result))\n",
      " 23%|██▎       | 14/60 [39:56<3:19:58, 260.84s/it]"
     ]
    },
    {
     "name": "stdout",
     "output_type": "stream",
     "text": [
      "======\n",
      "KNN/40000_new\\KNN_Ngram_2_K_17_f1_0.263.csv\n",
      "              precision    recall  f1-score   support\n",
      "\n",
      "           0       1.00      0.01      0.03       310\n",
      "           1       1.00      0.03      0.05       297\n",
      "           2       0.75      0.01      0.02       306\n",
      "           3       0.00      0.00      0.00       293\n",
      "           4       0.73      0.19      0.31       299\n",
      "           5       0.82      0.24      0.38       300\n",
      "           6       1.00      0.10      0.17       315\n",
      "           7       0.11      0.99      0.20       242\n",
      "\n",
      "    accuracy                           0.18      2362\n",
      "   macro avg       0.68      0.20      0.14      2362\n",
      "weighted avg       0.70      0.18      0.14      2362\n",
      "\n"
     ]
    },
    {
     "name": "stderr",
     "output_type": "stream",
     "text": [
      "c:\\Users\\jaka_\\anaconda3\\envs\\newsapi\\lib\\site-packages\\sklearn\\metrics\\_classification.py:1344: UndefinedMetricWarning: Precision and F-score are ill-defined and being set to 0.0 in labels with no predicted samples. Use `zero_division` parameter to control this behavior.\n",
      "  _warn_prf(average, modifier, msg_start, len(result))\n",
      "c:\\Users\\jaka_\\anaconda3\\envs\\newsapi\\lib\\site-packages\\sklearn\\metrics\\_classification.py:1344: UndefinedMetricWarning: Precision and F-score are ill-defined and being set to 0.0 in labels with no predicted samples. Use `zero_division` parameter to control this behavior.\n",
      "  _warn_prf(average, modifier, msg_start, len(result))\n",
      "c:\\Users\\jaka_\\anaconda3\\envs\\newsapi\\lib\\site-packages\\sklearn\\metrics\\_classification.py:1344: UndefinedMetricWarning: Precision and F-score are ill-defined and being set to 0.0 in labels with no predicted samples. Use `zero_division` parameter to control this behavior.\n",
      "  _warn_prf(average, modifier, msg_start, len(result))\n",
      " 25%|██▌       | 15/60 [46:43<3:48:30, 304.67s/it]"
     ]
    },
    {
     "name": "stdout",
     "output_type": "stream",
     "text": [
      "======\n",
      "KNN/40000_new\\KNN_Ngram_2_K_27_f1_0.467.csv\n",
      "              precision    recall  f1-score   support\n",
      "\n",
      "           0       0.59      0.40      0.48       310\n",
      "           1       0.85      0.32      0.46       297\n",
      "           2       0.51      0.31      0.39       306\n",
      "           3       0.33      0.22      0.27       293\n",
      "           4       0.52      0.43      0.47       299\n",
      "           5       0.54      0.42      0.47       300\n",
      "           6       0.84      0.53      0.65       315\n",
      "           7       0.22      0.88      0.35       242\n",
      "\n",
      "    accuracy                           0.43      2362\n",
      "   macro avg       0.55      0.44      0.44      2362\n",
      "weighted avg       0.56      0.43      0.45      2362\n",
      "\n"
     ]
    },
    {
     "name": "stderr",
     "output_type": "stream",
     "text": [
      " 27%|██▋       | 16/60 [53:31<4:06:14, 335.78s/it]"
     ]
    },
    {
     "name": "stdout",
     "output_type": "stream",
     "text": [
      "======\n",
      "KNN/40000_new\\KNN_Ngram_2_K_37_f1_0.521.csv\n",
      "              precision    recall  f1-score   support\n",
      "\n",
      "           0       0.43      0.65      0.52       310\n",
      "           1       0.77      0.45      0.57       297\n",
      "           2       0.47      0.40      0.43       306\n",
      "           3       0.31      0.41      0.35       293\n",
      "           4       0.59      0.45      0.51       299\n",
      "           5       0.59      0.42      0.49       300\n",
      "           6       0.81      0.64      0.72       315\n",
      "           7       0.49      0.78      0.60       242\n",
      "\n",
      "    accuracy                           0.52      2362\n",
      "   macro avg       0.56      0.52      0.52      2362\n",
      "weighted avg       0.56      0.52      0.52      2362\n",
      "\n"
     ]
    },
    {
     "name": "stderr",
     "output_type": "stream",
     "text": [
      " 28%|██▊       | 17/60 [1:00:11<4:14:30, 355.12s/it]"
     ]
    },
    {
     "name": "stdout",
     "output_type": "stream",
     "text": [
      "======\n",
      "KNN/40000_new\\KNN_Ngram_2_K_47_f1_0.525.csv\n",
      "              precision    recall  f1-score   support\n",
      "\n",
      "           0       0.42      0.71      0.53       310\n",
      "           1       0.83      0.44      0.58       297\n",
      "           2       0.46      0.42      0.44       306\n",
      "           3       0.30      0.45      0.36       293\n",
      "           4       0.63      0.46      0.53       299\n",
      "           5       0.60      0.41      0.49       300\n",
      "           6       0.78      0.66      0.72       315\n",
      "           7       0.66      0.73      0.69       242\n",
      "\n",
      "    accuracy                           0.53      2362\n",
      "   macro avg       0.58      0.53      0.54      2362\n",
      "weighted avg       0.58      0.53      0.54      2362\n",
      "\n"
     ]
    },
    {
     "name": "stderr",
     "output_type": "stream",
     "text": [
      " 30%|███       | 18/60 [1:06:52<4:18:13, 368.89s/it]"
     ]
    },
    {
     "name": "stdout",
     "output_type": "stream",
     "text": [
      "======\n",
      "KNN/40000_new\\KNN_Ngram_2_K_57_f1_0.521.csv\n",
      "              precision    recall  f1-score   support\n",
      "\n",
      "           0       0.42      0.75      0.54       310\n",
      "           1       0.84      0.48      0.61       297\n",
      "           2       0.48      0.43      0.46       306\n",
      "           3       0.30      0.49      0.38       293\n",
      "           4       0.65      0.43      0.52       299\n",
      "           5       0.66      0.41      0.50       300\n",
      "           6       0.78      0.66      0.72       315\n",
      "           7       0.73      0.71      0.72       242\n",
      "\n",
      "    accuracy                           0.54      2362\n",
      "   macro avg       0.61      0.55      0.56      2362\n",
      "weighted avg       0.61      0.54      0.55      2362\n",
      "\n"
     ]
    },
    {
     "name": "stderr",
     "output_type": "stream",
     "text": [
      " 32%|███▏      | 19/60 [1:13:31<4:18:19, 378.03s/it]"
     ]
    },
    {
     "name": "stdout",
     "output_type": "stream",
     "text": [
      "======\n",
      "KNN/40000_new\\KNN_Ngram_2_K_67_f1_0.512.csv\n",
      "              precision    recall  f1-score   support\n",
      "\n",
      "           0       0.41      0.77      0.54       310\n",
      "           1       0.86      0.47      0.61       297\n",
      "           2       0.45      0.43      0.44       306\n",
      "           3       0.32      0.52      0.40       293\n",
      "           4       0.63      0.41      0.50       299\n",
      "           5       0.70      0.38      0.49       300\n",
      "           6       0.78      0.68      0.73       315\n",
      "           7       0.75      0.69      0.72       242\n",
      "\n",
      "    accuracy                           0.54      2362\n",
      "   macro avg       0.61      0.54      0.55      2362\n",
      "weighted avg       0.61      0.54      0.55      2362\n",
      "\n"
     ]
    },
    {
     "name": "stderr",
     "output_type": "stream",
     "text": [
      " 33%|███▎      | 20/60 [1:20:00<4:14:14, 381.36s/it]"
     ]
    },
    {
     "name": "stdout",
     "output_type": "stream",
     "text": [
      "======\n",
      "KNN/40000_new\\KNN_Ngram_2_K_77_f1_0.505.csv\n",
      "              precision    recall  f1-score   support\n",
      "\n",
      "           0       0.40      0.79      0.53       310\n",
      "           1       0.85      0.47      0.61       297\n",
      "           2       0.46      0.43      0.44       306\n",
      "           3       0.32      0.52      0.39       293\n",
      "           4       0.62      0.42      0.50       299\n",
      "           5       0.68      0.34      0.46       300\n",
      "           6       0.78      0.66      0.71       315\n",
      "           7       0.78      0.66      0.71       242\n",
      "\n",
      "    accuracy                           0.53      2362\n",
      "   macro avg       0.61      0.54      0.55      2362\n",
      "weighted avg       0.61      0.53      0.54      2362\n",
      "\n"
     ]
    },
    {
     "name": "stderr",
     "output_type": "stream",
     "text": [
      " 35%|███▌      | 21/60 [1:26:32<4:09:59, 384.59s/it]"
     ]
    },
    {
     "name": "stdout",
     "output_type": "stream",
     "text": [
      "======\n",
      "KNN/40000_new\\KNN_Ngram_2_K_87_f1_0.503.csv\n",
      "              precision    recall  f1-score   support\n",
      "\n",
      "           0       0.40      0.80      0.53       310\n",
      "           1       0.86      0.47      0.61       297\n",
      "           2       0.47      0.43      0.45       306\n",
      "           3       0.31      0.52      0.39       293\n",
      "           4       0.63      0.42      0.51       299\n",
      "           5       0.72      0.35      0.47       300\n",
      "           6       0.76      0.67      0.71       315\n",
      "           7       0.82      0.63      0.71       242\n",
      "\n",
      "    accuracy                           0.54      2362\n",
      "   macro avg       0.62      0.54      0.55      2362\n",
      "weighted avg       0.62      0.54      0.54      2362\n",
      "\n"
     ]
    },
    {
     "name": "stderr",
     "output_type": "stream",
     "text": [
      " 37%|███▋      | 22/60 [1:32:55<4:03:16, 384.13s/it]"
     ]
    },
    {
     "name": "stdout",
     "output_type": "stream",
     "text": [
      "======\n",
      "KNN/40000_new\\KNN_Ngram_2_K_97_f1_0.499.csv\n",
      "              precision    recall  f1-score   support\n",
      "\n",
      "           0       0.39      0.83      0.53       310\n",
      "           1       0.85      0.46      0.60       297\n",
      "           2       0.46      0.42      0.44       306\n",
      "           3       0.31      0.52      0.39       293\n",
      "           4       0.64      0.42      0.51       299\n",
      "           5       0.74      0.33      0.46       300\n",
      "           6       0.76      0.66      0.70       315\n",
      "           7       0.83      0.59      0.69       242\n",
      "\n",
      "    accuracy                           0.53      2362\n",
      "   macro avg       0.62      0.53      0.54      2362\n",
      "weighted avg       0.62      0.53      0.54      2362\n",
      "\n"
     ]
    },
    {
     "name": "stderr",
     "output_type": "stream",
     "text": [
      " 38%|███▊      | 23/60 [1:39:31<3:58:58, 387.52s/it]"
     ]
    },
    {
     "name": "stdout",
     "output_type": "stream",
     "text": [
      "======\n",
      "KNN/40000_new\\KNN_Ngram_2_K_150_f1_0.476.csv\n",
      "              precision    recall  f1-score   support\n",
      "\n",
      "           0       0.35      0.82      0.49       310\n",
      "           1       0.85      0.45      0.59       297\n",
      "           2       0.49      0.42      0.45       306\n",
      "           3       0.30      0.53      0.38       293\n",
      "           4       0.64      0.39      0.49       299\n",
      "           5       0.80      0.30      0.44       300\n",
      "           6       0.75      0.65      0.70       315\n",
      "           7       0.89      0.45      0.60       242\n",
      "\n",
      "    accuracy                           0.51      2362\n",
      "   macro avg       0.63      0.50      0.52      2362\n",
      "weighted avg       0.63      0.51      0.52      2362\n",
      "\n"
     ]
    },
    {
     "name": "stderr",
     "output_type": "stream",
     "text": [
      " 40%|████      | 24/60 [1:46:15<3:55:34, 392.63s/it]"
     ]
    },
    {
     "name": "stdout",
     "output_type": "stream",
     "text": [
      "======\n",
      "KNN/40000_new\\KNN_Ngram_2_K_200_f1_0.465.csv\n",
      "              precision    recall  f1-score   support\n",
      "\n",
      "           0       0.34      0.83      0.48       310\n",
      "           1       0.86      0.43      0.57       297\n",
      "           2       0.48      0.40      0.44       306\n",
      "           3       0.29      0.54      0.38       293\n",
      "           4       0.63      0.37      0.47       299\n",
      "           5       0.81      0.29      0.43       300\n",
      "           6       0.77      0.64      0.70       315\n",
      "           7       0.94      0.41      0.57       242\n",
      "\n",
      "    accuracy                           0.49      2362\n",
      "   macro avg       0.64      0.49      0.50      2362\n",
      "weighted avg       0.63      0.49      0.50      2362\n",
      "\n"
     ]
    },
    {
     "name": "stderr",
     "output_type": "stream",
     "text": [
      " 42%|████▏     | 25/60 [1:54:06<4:02:44, 416.12s/it]"
     ]
    },
    {
     "name": "stdout",
     "output_type": "stream",
     "text": [
      "======\n",
      "KNN/40000_new\\KNN_Ngram_3_K_7_f1_0.123.csv\n",
      "              precision    recall  f1-score   support\n",
      "\n",
      "           0       0.00      0.00      0.00       310\n",
      "           1       0.00      0.00      0.00       297\n",
      "           2       1.00      0.00      0.01       306\n",
      "           3       0.00      0.00      0.00       293\n",
      "           4       0.00      0.00      0.00       299\n",
      "           5       0.95      0.06      0.11       300\n",
      "           6       0.00      0.00      0.00       315\n",
      "           7       0.10      1.00      0.19       242\n",
      "\n",
      "    accuracy                           0.11      2362\n",
      "   macro avg       0.26      0.13      0.04      2362\n",
      "weighted avg       0.26      0.11      0.03      2362\n",
      "\n"
     ]
    },
    {
     "name": "stderr",
     "output_type": "stream",
     "text": [
      "c:\\Users\\jaka_\\anaconda3\\envs\\newsapi\\lib\\site-packages\\sklearn\\metrics\\_classification.py:1344: UndefinedMetricWarning: Precision and F-score are ill-defined and being set to 0.0 in labels with no predicted samples. Use `zero_division` parameter to control this behavior.\n",
      "  _warn_prf(average, modifier, msg_start, len(result))\n",
      "c:\\Users\\jaka_\\anaconda3\\envs\\newsapi\\lib\\site-packages\\sklearn\\metrics\\_classification.py:1344: UndefinedMetricWarning: Precision and F-score are ill-defined and being set to 0.0 in labels with no predicted samples. Use `zero_division` parameter to control this behavior.\n",
      "  _warn_prf(average, modifier, msg_start, len(result))\n",
      "c:\\Users\\jaka_\\anaconda3\\envs\\newsapi\\lib\\site-packages\\sklearn\\metrics\\_classification.py:1344: UndefinedMetricWarning: Precision and F-score are ill-defined and being set to 0.0 in labels with no predicted samples. Use `zero_division` parameter to control this behavior.\n",
      "  _warn_prf(average, modifier, msg_start, len(result))\n",
      " 43%|████▎     | 26/60 [2:01:45<4:03:05, 428.99s/it]"
     ]
    },
    {
     "name": "stdout",
     "output_type": "stream",
     "text": [
      "======\n",
      "KNN/40000_new\\KNN_Ngram_3_K_17_f1_0.171.csv\n",
      "              precision    recall  f1-score   support\n",
      "\n",
      "           0       0.00      0.00      0.00       310\n",
      "           1       0.00      0.00      0.00       297\n",
      "           2       0.00      0.00      0.00       306\n",
      "           3       0.00      0.00      0.00       293\n",
      "           4       0.89      0.03      0.05       299\n",
      "           5       0.94      0.16      0.27       300\n",
      "           6       0.00      0.00      0.00       315\n",
      "           7       0.11      1.00      0.19       242\n",
      "\n",
      "    accuracy                           0.13      2362\n",
      "   macro avg       0.24      0.15      0.06      2362\n",
      "weighted avg       0.24      0.13      0.06      2362\n",
      "\n"
     ]
    },
    {
     "name": "stderr",
     "output_type": "stream",
     "text": [
      "c:\\Users\\jaka_\\anaconda3\\envs\\newsapi\\lib\\site-packages\\sklearn\\metrics\\_classification.py:1344: UndefinedMetricWarning: Precision and F-score are ill-defined and being set to 0.0 in labels with no predicted samples. Use `zero_division` parameter to control this behavior.\n",
      "  _warn_prf(average, modifier, msg_start, len(result))\n",
      "c:\\Users\\jaka_\\anaconda3\\envs\\newsapi\\lib\\site-packages\\sklearn\\metrics\\_classification.py:1344: UndefinedMetricWarning: Precision and F-score are ill-defined and being set to 0.0 in labels with no predicted samples. Use `zero_division` parameter to control this behavior.\n",
      "  _warn_prf(average, modifier, msg_start, len(result))\n",
      "c:\\Users\\jaka_\\anaconda3\\envs\\newsapi\\lib\\site-packages\\sklearn\\metrics\\_classification.py:1344: UndefinedMetricWarning: Precision and F-score are ill-defined and being set to 0.0 in labels with no predicted samples. Use `zero_division` parameter to control this behavior.\n",
      "  _warn_prf(average, modifier, msg_start, len(result))\n",
      " 45%|████▌     | 27/60 [2:09:37<4:02:59, 441.81s/it]"
     ]
    },
    {
     "name": "stdout",
     "output_type": "stream",
     "text": [
      "======\n",
      "KNN/40000_new\\KNN_Ngram_3_K_27_f1_0.377.csv\n",
      "              precision    recall  f1-score   support\n",
      "\n",
      "           0       0.72      0.20      0.31       310\n",
      "           1       0.94      0.21      0.34       297\n",
      "           2       0.55      0.16      0.25       306\n",
      "           3       0.41      0.06      0.10       293\n",
      "           4       0.64      0.31      0.42       299\n",
      "           5       0.53      0.43      0.48       300\n",
      "           6       0.89      0.38      0.53       315\n",
      "           7       0.15      0.94      0.25       242\n",
      "\n",
      "    accuracy                           0.32      2362\n",
      "   macro avg       0.60      0.34      0.34      2362\n",
      "weighted avg       0.62      0.32      0.34      2362\n",
      "\n"
     ]
    },
    {
     "name": "stderr",
     "output_type": "stream",
     "text": [
      " 47%|████▋     | 28/60 [2:17:23<3:59:34, 449.21s/it]"
     ]
    },
    {
     "name": "stdout",
     "output_type": "stream",
     "text": [
      "======\n",
      "KNN/40000_new\\KNN_Ngram_3_K_37_f1_0.492.csv\n",
      "              precision    recall  f1-score   support\n",
      "\n",
      "           0       0.52      0.52      0.52       310\n",
      "           1       0.85      0.37      0.52       297\n",
      "           2       0.48      0.36      0.41       306\n",
      "           3       0.37      0.34      0.35       293\n",
      "           4       0.58      0.45      0.51       299\n",
      "           5       0.46      0.47      0.46       300\n",
      "           6       0.85      0.57      0.68       315\n",
      "           7       0.30      0.84      0.44       242\n",
      "\n",
      "    accuracy                           0.48      2362\n",
      "   macro avg       0.55      0.49      0.49      2362\n",
      "weighted avg       0.56      0.48      0.49      2362\n",
      "\n"
     ]
    },
    {
     "name": "stderr",
     "output_type": "stream",
     "text": [
      " 48%|████▊     | 29/60 [2:25:10<3:54:46, 454.41s/it]"
     ]
    },
    {
     "name": "stdout",
     "output_type": "stream",
     "text": [
      "======\n",
      "KNN/40000_new\\KNN_Ngram_3_K_47_f1_0.517.csv\n",
      "              precision    recall  f1-score   support\n",
      "\n",
      "           0       0.43      0.68      0.53       310\n",
      "           1       0.79      0.40      0.53       297\n",
      "           2       0.47      0.40      0.43       306\n",
      "           3       0.32      0.41      0.36       293\n",
      "           4       0.60      0.43      0.50       299\n",
      "           5       0.55      0.45      0.50       300\n",
      "           6       0.81      0.64      0.72       315\n",
      "           7       0.51      0.77      0.61       242\n",
      "\n",
      "    accuracy                           0.52      2362\n",
      "   macro avg       0.56      0.53      0.52      2362\n",
      "weighted avg       0.56      0.52      0.52      2362\n",
      "\n"
     ]
    },
    {
     "name": "stderr",
     "output_type": "stream",
     "text": [
      " 50%|█████     | 30/60 [2:32:56<3:49:00, 458.01s/it]"
     ]
    },
    {
     "name": "stdout",
     "output_type": "stream",
     "text": [
      "======\n",
      "KNN/40000_new\\KNN_Ngram_3_K_57_f1_0.516.csv\n",
      "              precision    recall  f1-score   support\n",
      "\n",
      "           0       0.40      0.72      0.51       310\n",
      "           1       0.80      0.42      0.55       297\n",
      "           2       0.48      0.42      0.44       306\n",
      "           3       0.33      0.45      0.38       293\n",
      "           4       0.62      0.43      0.51       299\n",
      "           5       0.60      0.43      0.50       300\n",
      "           6       0.77      0.63      0.69       315\n",
      "           7       0.61      0.74      0.67       242\n",
      "\n",
      "    accuracy                           0.53      2362\n",
      "   macro avg       0.57      0.53      0.53      2362\n",
      "weighted avg       0.57      0.53      0.53      2362\n",
      "\n"
     ]
    },
    {
     "name": "stderr",
     "output_type": "stream",
     "text": [
      " 52%|█████▏    | 31/60 [2:40:51<3:43:51, 463.14s/it]"
     ]
    },
    {
     "name": "stdout",
     "output_type": "stream",
     "text": [
      "======\n",
      "KNN/40000_new\\KNN_Ngram_3_K_67_f1_0.512.csv\n",
      "              precision    recall  f1-score   support\n",
      "\n",
      "           0       0.39      0.72      0.51       310\n",
      "           1       0.80      0.44      0.57       297\n",
      "           2       0.45      0.41      0.43       306\n",
      "           3       0.31      0.45      0.37       293\n",
      "           4       0.63      0.40      0.49       299\n",
      "           5       0.63      0.41      0.50       300\n",
      "           6       0.77      0.64      0.70       315\n",
      "           7       0.67      0.73      0.70       242\n",
      "\n",
      "    accuracy                           0.52      2362\n",
      "   macro avg       0.58      0.53      0.53      2362\n",
      "weighted avg       0.58      0.52      0.53      2362\n",
      "\n"
     ]
    },
    {
     "name": "stderr",
     "output_type": "stream",
     "text": [
      " 53%|█████▎    | 32/60 [2:48:41<3:37:04, 465.16s/it]"
     ]
    },
    {
     "name": "stdout",
     "output_type": "stream",
     "text": [
      "======\n",
      "KNN/40000_new\\KNN_Ngram_3_K_77_f1_0.509.csv\n",
      "              precision    recall  f1-score   support\n",
      "\n",
      "           0       0.38      0.76      0.50       310\n",
      "           1       0.83      0.44      0.57       297\n",
      "           2       0.48      0.43      0.45       306\n",
      "           3       0.32      0.47      0.38       293\n",
      "           4       0.63      0.41      0.50       299\n",
      "           5       0.67      0.39      0.49       300\n",
      "           6       0.77      0.64      0.70       315\n",
      "           7       0.73      0.70      0.71       242\n",
      "\n",
      "    accuracy                           0.53      2362\n",
      "   macro avg       0.60      0.53      0.54      2362\n",
      "weighted avg       0.60      0.53      0.54      2362\n",
      "\n"
     ]
    },
    {
     "name": "stderr",
     "output_type": "stream",
     "text": [
      " 55%|█████▌    | 33/60 [2:56:26<3:29:15, 465.01s/it]"
     ]
    },
    {
     "name": "stdout",
     "output_type": "stream",
     "text": [
      "======\n",
      "KNN/40000_new\\KNN_Ngram_3_K_87_f1_0.505.csv\n",
      "              precision    recall  f1-score   support\n",
      "\n",
      "           0       0.38      0.79      0.51       310\n",
      "           1       0.85      0.46      0.60       297\n",
      "           2       0.47      0.42      0.44       306\n",
      "           3       0.31      0.47      0.38       293\n",
      "           4       0.65      0.42      0.51       299\n",
      "           5       0.70      0.38      0.49       300\n",
      "           6       0.76      0.64      0.70       315\n",
      "           7       0.74      0.67      0.70       242\n",
      "\n",
      "    accuracy                           0.53      2362\n",
      "   macro avg       0.61      0.53      0.54      2362\n",
      "weighted avg       0.61      0.53      0.54      2362\n",
      "\n"
     ]
    },
    {
     "name": "stderr",
     "output_type": "stream",
     "text": [
      " 57%|█████▋    | 34/60 [3:04:12<3:21:38, 465.32s/it]"
     ]
    },
    {
     "name": "stdout",
     "output_type": "stream",
     "text": [
      "======\n",
      "KNN/40000_new\\KNN_Ngram_3_K_97_f1_0.501.csv\n",
      "              precision    recall  f1-score   support\n",
      "\n",
      "           0       0.37      0.79      0.50       310\n",
      "           1       0.82      0.45      0.58       297\n",
      "           2       0.47      0.42      0.44       306\n",
      "           3       0.32      0.48      0.38       293\n",
      "           4       0.64      0.42      0.51       299\n",
      "           5       0.72      0.36      0.48       300\n",
      "           6       0.77      0.64      0.70       315\n",
      "           7       0.79      0.66      0.72       242\n",
      "\n",
      "    accuracy                           0.53      2362\n",
      "   macro avg       0.61      0.53      0.54      2362\n",
      "weighted avg       0.61      0.53      0.54      2362\n",
      "\n"
     ]
    },
    {
     "name": "stderr",
     "output_type": "stream",
     "text": [
      " 58%|█████▊    | 35/60 [3:11:52<3:13:10, 463.61s/it]"
     ]
    },
    {
     "name": "stdout",
     "output_type": "stream",
     "text": [
      "======\n",
      "KNN/40000_new\\KNN_Ngram_3_K_150_f1_0.480.csv\n",
      "              precision    recall  f1-score   support\n",
      "\n",
      "           0       0.33      0.83      0.48       310\n",
      "           1       0.84      0.45      0.58       297\n",
      "           2       0.51      0.43      0.47       306\n",
      "           3       0.32      0.52      0.40       293\n",
      "           4       0.64      0.39      0.48       299\n",
      "           5       0.77      0.32      0.45       300\n",
      "           6       0.77      0.63      0.69       315\n",
      "           7       0.87      0.50      0.64       242\n",
      "\n",
      "    accuracy                           0.51      2362\n",
      "   macro avg       0.63      0.51      0.52      2362\n",
      "weighted avg       0.63      0.51      0.52      2362\n",
      "\n"
     ]
    },
    {
     "name": "stderr",
     "output_type": "stream",
     "text": [
      " 60%|██████    | 36/60 [3:19:28<3:04:34, 461.42s/it]"
     ]
    },
    {
     "name": "stdout",
     "output_type": "stream",
     "text": [
      "======\n",
      "KNN/40000_new\\KNN_Ngram_3_K_200_f1_0.465.csv\n",
      "              precision    recall  f1-score   support\n",
      "\n",
      "           0       0.31      0.83      0.45       310\n",
      "           1       0.86      0.43      0.57       297\n",
      "           2       0.50      0.41      0.45       306\n",
      "           3       0.30      0.50      0.37       293\n",
      "           4       0.69      0.39      0.50       299\n",
      "           5       0.80      0.30      0.44       300\n",
      "           6       0.78      0.63      0.70       315\n",
      "           7       0.89      0.44      0.59       242\n",
      "\n",
      "    accuracy                           0.49      2362\n",
      "   macro avg       0.64      0.49      0.51      2362\n",
      "weighted avg       0.64      0.49      0.51      2362\n",
      "\n"
     ]
    },
    {
     "name": "stderr",
     "output_type": "stream",
     "text": [
      " 62%|██████▏   | 37/60 [3:27:56<3:02:12, 475.31s/it]"
     ]
    },
    {
     "name": "stdout",
     "output_type": "stream",
     "text": [
      "======\n",
      "KNN/40000_new\\KNN_Ngram_4_K_7_f1_0.123.csv\n",
      "              precision    recall  f1-score   support\n",
      "\n",
      "           0       0.00      0.00      0.00       310\n",
      "           1       0.00      0.00      0.00       297\n",
      "           2       1.00      0.00      0.01       306\n",
      "           3       0.00      0.00      0.00       293\n",
      "           4       0.00      0.00      0.00       299\n",
      "           5       0.95      0.06      0.11       300\n",
      "           6       0.00      0.00      0.00       315\n",
      "           7       0.10      1.00      0.19       242\n",
      "\n",
      "    accuracy                           0.11      2362\n",
      "   macro avg       0.26      0.13      0.04      2362\n",
      "weighted avg       0.26      0.11      0.03      2362\n",
      "\n"
     ]
    },
    {
     "name": "stderr",
     "output_type": "stream",
     "text": [
      "c:\\Users\\jaka_\\anaconda3\\envs\\newsapi\\lib\\site-packages\\sklearn\\metrics\\_classification.py:1344: UndefinedMetricWarning: Precision and F-score are ill-defined and being set to 0.0 in labels with no predicted samples. Use `zero_division` parameter to control this behavior.\n",
      "  _warn_prf(average, modifier, msg_start, len(result))\n",
      "c:\\Users\\jaka_\\anaconda3\\envs\\newsapi\\lib\\site-packages\\sklearn\\metrics\\_classification.py:1344: UndefinedMetricWarning: Precision and F-score are ill-defined and being set to 0.0 in labels with no predicted samples. Use `zero_division` parameter to control this behavior.\n",
      "  _warn_prf(average, modifier, msg_start, len(result))\n",
      "c:\\Users\\jaka_\\anaconda3\\envs\\newsapi\\lib\\site-packages\\sklearn\\metrics\\_classification.py:1344: UndefinedMetricWarning: Precision and F-score are ill-defined and being set to 0.0 in labels with no predicted samples. Use `zero_division` parameter to control this behavior.\n",
      "  _warn_prf(average, modifier, msg_start, len(result))\n",
      " 63%|██████▎   | 38/60 [3:35:44<2:53:28, 473.10s/it]"
     ]
    },
    {
     "name": "stdout",
     "output_type": "stream",
     "text": [
      "======\n",
      "KNN/40000_new\\KNN_Ngram_4_K_17_f1_0.140.csv\n",
      "              precision    recall  f1-score   support\n",
      "\n",
      "           0       0.00      0.00      0.00       310\n",
      "           1       0.00      0.00      0.00       297\n",
      "           2       0.00      0.00      0.00       306\n",
      "           3       0.00      0.00      0.00       293\n",
      "           4       0.00      0.00      0.00       299\n",
      "           5       0.95      0.07      0.12       300\n",
      "           6       0.00      0.00      0.00       315\n",
      "           7       0.10      1.00      0.19       242\n",
      "\n",
      "    accuracy                           0.11      2362\n",
      "   macro avg       0.13      0.13      0.04      2362\n",
      "weighted avg       0.13      0.11      0.04      2362\n",
      "\n"
     ]
    },
    {
     "name": "stderr",
     "output_type": "stream",
     "text": [
      "c:\\Users\\jaka_\\anaconda3\\envs\\newsapi\\lib\\site-packages\\sklearn\\metrics\\_classification.py:1344: UndefinedMetricWarning: Precision and F-score are ill-defined and being set to 0.0 in labels with no predicted samples. Use `zero_division` parameter to control this behavior.\n",
      "  _warn_prf(average, modifier, msg_start, len(result))\n",
      "c:\\Users\\jaka_\\anaconda3\\envs\\newsapi\\lib\\site-packages\\sklearn\\metrics\\_classification.py:1344: UndefinedMetricWarning: Precision and F-score are ill-defined and being set to 0.0 in labels with no predicted samples. Use `zero_division` parameter to control this behavior.\n",
      "  _warn_prf(average, modifier, msg_start, len(result))\n",
      "c:\\Users\\jaka_\\anaconda3\\envs\\newsapi\\lib\\site-packages\\sklearn\\metrics\\_classification.py:1344: UndefinedMetricWarning: Precision and F-score are ill-defined and being set to 0.0 in labels with no predicted samples. Use `zero_division` parameter to control this behavior.\n",
      "  _warn_prf(average, modifier, msg_start, len(result))\n",
      " 65%|██████▌   | 39/60 [3:43:41<2:45:59, 474.27s/it]"
     ]
    },
    {
     "name": "stdout",
     "output_type": "stream",
     "text": [
      "======\n",
      "KNN/40000_new\\KNN_Ngram_4_K_27_f1_0.296.csv\n",
      "              precision    recall  f1-score   support\n",
      "\n",
      "           0       0.84      0.07      0.13       310\n",
      "           1       1.00      0.08      0.16       297\n",
      "           2       0.68      0.05      0.09       306\n",
      "           3       0.50      0.00      0.01       293\n",
      "           4       0.77      0.19      0.31       299\n",
      "           5       0.53      0.39      0.45       300\n",
      "           6       0.98      0.21      0.34       315\n",
      "           7       0.12      0.96      0.21       242\n",
      "\n",
      "    accuracy                           0.23      2362\n",
      "   macro avg       0.68      0.24      0.21      2362\n",
      "weighted avg       0.70      0.23      0.21      2362\n",
      "\n"
     ]
    },
    {
     "name": "stderr",
     "output_type": "stream",
     "text": [
      " 67%|██████▋   | 40/60 [3:51:19<2:36:29, 469.49s/it]"
     ]
    },
    {
     "name": "stdout",
     "output_type": "stream",
     "text": [
      "======\n",
      "KNN/40000_new\\KNN_Ngram_4_K_37_f1_0.446.csv\n",
      "              precision    recall  f1-score   support\n",
      "\n",
      "           0       0.61      0.37      0.46       310\n",
      "           1       0.90      0.27      0.42       297\n",
      "           2       0.53      0.27      0.36       306\n",
      "           3       0.40      0.20      0.27       293\n",
      "           4       0.68      0.34      0.46       299\n",
      "           5       0.41      0.50      0.45       300\n",
      "           6       0.89      0.45      0.59       315\n",
      "           7       0.20      0.90      0.33       242\n",
      "\n",
      "    accuracy                           0.40      2362\n",
      "   macro avg       0.58      0.41      0.42      2362\n",
      "weighted avg       0.59      0.40      0.42      2362\n",
      "\n"
     ]
    },
    {
     "name": "stderr",
     "output_type": "stream",
     "text": [
      " 68%|██████▊   | 41/60 [3:59:27<2:30:28, 475.18s/it]"
     ]
    },
    {
     "name": "stdout",
     "output_type": "stream",
     "text": [
      "======\n",
      "KNN/40000_new\\KNN_Ngram_4_K_47_f1_0.507.csv\n",
      "              precision    recall  f1-score   support\n",
      "\n",
      "           0       0.45      0.61      0.52       310\n",
      "           1       0.80      0.38      0.51       297\n",
      "           2       0.48      0.36      0.41       306\n",
      "           3       0.36      0.39      0.37       293\n",
      "           4       0.62      0.39      0.48       299\n",
      "           5       0.46      0.49      0.47       300\n",
      "           6       0.81      0.59      0.69       315\n",
      "           7       0.38      0.82      0.52       242\n",
      "\n",
      "    accuracy                           0.50      2362\n",
      "   macro avg       0.54      0.50      0.50      2362\n",
      "weighted avg       0.55      0.50      0.50      2362\n",
      "\n"
     ]
    },
    {
     "name": "stderr",
     "output_type": "stream",
     "text": [
      " 70%|███████   | 42/60 [4:07:13<2:21:42, 472.36s/it]"
     ]
    },
    {
     "name": "stdout",
     "output_type": "stream",
     "text": [
      "======\n",
      "KNN/40000_new\\KNN_Ngram_4_K_57_f1_0.516.csv\n",
      "              precision    recall  f1-score   support\n",
      "\n",
      "           0       0.42      0.70      0.52       310\n",
      "           1       0.77      0.41      0.54       297\n",
      "           2       0.45      0.39      0.41       306\n",
      "           3       0.34      0.42      0.37       293\n",
      "           4       0.62      0.41      0.49       299\n",
      "           5       0.53      0.46      0.49       300\n",
      "           6       0.78      0.63      0.70       315\n",
      "           7       0.55      0.78      0.65       242\n",
      "\n",
      "    accuracy                           0.52      2362\n",
      "   macro avg       0.56      0.53      0.52      2362\n",
      "weighted avg       0.56      0.52      0.52      2362\n",
      "\n"
     ]
    },
    {
     "name": "stderr",
     "output_type": "stream",
     "text": [
      " 72%|███████▏  | 43/60 [4:14:57<2:13:08, 469.91s/it]"
     ]
    },
    {
     "name": "stdout",
     "output_type": "stream",
     "text": [
      "======\n",
      "KNN/40000_new\\KNN_Ngram_4_K_67_f1_0.518.csv\n",
      "              precision    recall  f1-score   support\n",
      "\n",
      "           0       0.40      0.72      0.51       310\n",
      "           1       0.82      0.44      0.57       297\n",
      "           2       0.45      0.38      0.41       306\n",
      "           3       0.32      0.44      0.37       293\n",
      "           4       0.65      0.41      0.50       299\n",
      "           5       0.57      0.45      0.50       300\n",
      "           6       0.77      0.63      0.69       315\n",
      "           7       0.62      0.75      0.68       242\n",
      "\n",
      "    accuracy                           0.52      2362\n",
      "   macro avg       0.57      0.53      0.53      2362\n",
      "weighted avg       0.57      0.52      0.53      2362\n",
      "\n"
     ]
    },
    {
     "name": "stderr",
     "output_type": "stream",
     "text": [
      " 73%|███████▎  | 44/60 [4:22:56<2:06:01, 472.60s/it]"
     ]
    },
    {
     "name": "stdout",
     "output_type": "stream",
     "text": [
      "======\n",
      "KNN/40000_new\\KNN_Ngram_4_K_77_f1_0.514.csv\n",
      "              precision    recall  f1-score   support\n",
      "\n",
      "           0       0.38      0.74      0.50       310\n",
      "           1       0.83      0.45      0.58       297\n",
      "           2       0.47      0.42      0.44       306\n",
      "           3       0.32      0.44      0.37       293\n",
      "           4       0.64      0.40      0.49       299\n",
      "           5       0.60      0.42      0.50       300\n",
      "           6       0.77      0.64      0.70       315\n",
      "           7       0.67      0.73      0.70       242\n",
      "\n",
      "    accuracy                           0.53      2362\n",
      "   macro avg       0.58      0.53      0.54      2362\n",
      "weighted avg       0.58      0.53      0.53      2362\n",
      "\n"
     ]
    },
    {
     "name": "stderr",
     "output_type": "stream",
     "text": [
      " 75%|███████▌  | 45/60 [4:30:41<1:57:33, 470.21s/it]"
     ]
    },
    {
     "name": "stdout",
     "output_type": "stream",
     "text": [
      "======\n",
      "KNN/40000_new\\KNN_Ngram_4_K_87_f1_0.509.csv\n",
      "              precision    recall  f1-score   support\n",
      "\n",
      "           0       0.37      0.77      0.50       310\n",
      "           1       0.84      0.45      0.58       297\n",
      "           2       0.47      0.42      0.44       306\n",
      "           3       0.32      0.46      0.38       293\n",
      "           4       0.63      0.40      0.49       299\n",
      "           5       0.63      0.40      0.49       300\n",
      "           6       0.76      0.63      0.69       315\n",
      "           7       0.72      0.70      0.71       242\n",
      "\n",
      "    accuracy                           0.53      2362\n",
      "   macro avg       0.59      0.53      0.54      2362\n",
      "weighted avg       0.59      0.53      0.53      2362\n",
      "\n"
     ]
    },
    {
     "name": "stderr",
     "output_type": "stream",
     "text": [
      " 77%|███████▋  | 46/60 [4:38:42<1:50:28, 473.49s/it]"
     ]
    },
    {
     "name": "stdout",
     "output_type": "stream",
     "text": [
      "======\n",
      "KNN/40000_new\\KNN_Ngram_4_K_97_f1_0.504.csv\n",
      "              precision    recall  f1-score   support\n",
      "\n",
      "           0       0.36      0.77      0.49       310\n",
      "           1       0.82      0.45      0.59       297\n",
      "           2       0.48      0.43      0.46       306\n",
      "           3       0.33      0.47      0.39       293\n",
      "           4       0.65      0.42      0.51       299\n",
      "           5       0.67      0.38      0.48       300\n",
      "           6       0.77      0.64      0.70       315\n",
      "           7       0.75      0.67      0.70       242\n",
      "\n",
      "    accuracy                           0.53      2362\n",
      "   macro avg       0.60      0.53      0.54      2362\n",
      "weighted avg       0.60      0.53      0.54      2362\n",
      "\n"
     ]
    },
    {
     "name": "stderr",
     "output_type": "stream",
     "text": [
      " 78%|███████▊  | 47/60 [4:46:39<1:42:50, 474.64s/it]"
     ]
    },
    {
     "name": "stdout",
     "output_type": "stream",
     "text": [
      "======\n",
      "KNN/40000_new\\KNN_Ngram_4_K_150_f1_0.482.csv\n",
      "              precision    recall  f1-score   support\n",
      "\n",
      "           0       0.34      0.84      0.48       310\n",
      "           1       0.85      0.45      0.59       297\n",
      "           2       0.52      0.43      0.47       306\n",
      "           3       0.33      0.51      0.40       293\n",
      "           4       0.65      0.38      0.48       299\n",
      "           5       0.74      0.34      0.47       300\n",
      "           6       0.78      0.62      0.69       315\n",
      "           7       0.84      0.54      0.66       242\n",
      "\n",
      "    accuracy                           0.52      2362\n",
      "   macro avg       0.63      0.51      0.53      2362\n",
      "weighted avg       0.63      0.52      0.53      2362\n",
      "\n"
     ]
    },
    {
     "name": "stderr",
     "output_type": "stream",
     "text": [
      " 80%|████████  | 48/60 [4:54:45<1:35:36, 478.06s/it]"
     ]
    },
    {
     "name": "stdout",
     "output_type": "stream",
     "text": [
      "======\n",
      "KNN/40000_new\\KNN_Ngram_4_K_200_f1_0.465.csv\n",
      "              precision    recall  f1-score   support\n",
      "\n",
      "           0       0.31      0.84      0.45       310\n",
      "           1       0.85      0.43      0.58       297\n",
      "           2       0.49      0.40      0.44       306\n",
      "           3       0.31      0.49      0.38       293\n",
      "           4       0.69      0.39      0.50       299\n",
      "           5       0.78      0.31      0.44       300\n",
      "           6       0.78      0.62      0.69       315\n",
      "           7       0.90      0.46      0.61       242\n",
      "\n",
      "    accuracy                           0.50      2362\n",
      "   macro avg       0.64      0.49      0.51      2362\n",
      "weighted avg       0.63      0.50      0.51      2362\n",
      "\n"
     ]
    },
    {
     "name": "stderr",
     "output_type": "stream",
     "text": [
      " 82%|████████▏ | 49/60 [5:03:25<1:29:54, 490.45s/it]"
     ]
    },
    {
     "name": "stdout",
     "output_type": "stream",
     "text": [
      "======\n",
      "KNN/40000_new\\KNN_Ngram_5_K_7_f1_0.123.csv\n",
      "              precision    recall  f1-score   support\n",
      "\n",
      "           0       0.00      0.00      0.00       310\n",
      "           1       0.00      0.00      0.00       297\n",
      "           2       1.00      0.00      0.01       306\n",
      "           3       0.00      0.00      0.00       293\n",
      "           4       0.00      0.00      0.00       299\n",
      "           5       0.95      0.06      0.12       300\n",
      "           6       0.00      0.00      0.00       315\n",
      "           7       0.10      1.00      0.19       242\n",
      "\n",
      "    accuracy                           0.11      2362\n",
      "   macro avg       0.26      0.13      0.04      2362\n",
      "weighted avg       0.26      0.11      0.04      2362\n",
      "\n"
     ]
    },
    {
     "name": "stderr",
     "output_type": "stream",
     "text": [
      "c:\\Users\\jaka_\\anaconda3\\envs\\newsapi\\lib\\site-packages\\sklearn\\metrics\\_classification.py:1344: UndefinedMetricWarning: Precision and F-score are ill-defined and being set to 0.0 in labels with no predicted samples. Use `zero_division` parameter to control this behavior.\n",
      "  _warn_prf(average, modifier, msg_start, len(result))\n",
      "c:\\Users\\jaka_\\anaconda3\\envs\\newsapi\\lib\\site-packages\\sklearn\\metrics\\_classification.py:1344: UndefinedMetricWarning: Precision and F-score are ill-defined and being set to 0.0 in labels with no predicted samples. Use `zero_division` parameter to control this behavior.\n",
      "  _warn_prf(average, modifier, msg_start, len(result))\n",
      "c:\\Users\\jaka_\\anaconda3\\envs\\newsapi\\lib\\site-packages\\sklearn\\metrics\\_classification.py:1344: UndefinedMetricWarning: Precision and F-score are ill-defined and being set to 0.0 in labels with no predicted samples. Use `zero_division` parameter to control this behavior.\n",
      "  _warn_prf(average, modifier, msg_start, len(result))\n",
      " 83%|████████▎ | 50/60 [5:11:20<1:20:57, 485.80s/it]"
     ]
    },
    {
     "name": "stdout",
     "output_type": "stream",
     "text": [
      "======\n",
      "KNN/40000_new\\KNN_Ngram_5_K_17_f1_0.139.csv\n",
      "              precision    recall  f1-score   support\n",
      "\n",
      "           0       0.00      0.00      0.00       310\n",
      "           1       0.00      0.00      0.00       297\n",
      "           2       0.00      0.00      0.00       306\n",
      "           3       0.00      0.00      0.00       293\n",
      "           4       0.00      0.00      0.00       299\n",
      "           5       0.95      0.06      0.12       300\n",
      "           6       0.00      0.00      0.00       315\n",
      "           7       0.10      1.00      0.19       242\n",
      "\n",
      "    accuracy                           0.11      2362\n",
      "   macro avg       0.13      0.13      0.04      2362\n",
      "weighted avg       0.13      0.11      0.03      2362\n",
      "\n"
     ]
    },
    {
     "name": "stderr",
     "output_type": "stream",
     "text": [
      "c:\\Users\\jaka_\\anaconda3\\envs\\newsapi\\lib\\site-packages\\sklearn\\metrics\\_classification.py:1344: UndefinedMetricWarning: Precision and F-score are ill-defined and being set to 0.0 in labels with no predicted samples. Use `zero_division` parameter to control this behavior.\n",
      "  _warn_prf(average, modifier, msg_start, len(result))\n",
      "c:\\Users\\jaka_\\anaconda3\\envs\\newsapi\\lib\\site-packages\\sklearn\\metrics\\_classification.py:1344: UndefinedMetricWarning: Precision and F-score are ill-defined and being set to 0.0 in labels with no predicted samples. Use `zero_division` parameter to control this behavior.\n",
      "  _warn_prf(average, modifier, msg_start, len(result))\n",
      "c:\\Users\\jaka_\\anaconda3\\envs\\newsapi\\lib\\site-packages\\sklearn\\metrics\\_classification.py:1344: UndefinedMetricWarning: Precision and F-score are ill-defined and being set to 0.0 in labels with no predicted samples. Use `zero_division` parameter to control this behavior.\n",
      "  _warn_prf(average, modifier, msg_start, len(result))\n",
      " 85%|████████▌ | 51/60 [5:19:09<1:12:06, 480.75s/it]"
     ]
    },
    {
     "name": "stdout",
     "output_type": "stream",
     "text": [
      "======\n",
      "KNN/40000_new\\KNN_Ngram_5_K_27_f1_0.295.csv\n",
      "              precision    recall  f1-score   support\n",
      "\n",
      "           0       0.87      0.06      0.12       310\n",
      "           1       1.00      0.08      0.16       297\n",
      "           2       0.60      0.05      0.09       306\n",
      "           3       1.00      0.00      0.01       293\n",
      "           4       0.76      0.18      0.30       299\n",
      "           5       0.51      0.37      0.43       300\n",
      "           6       0.98      0.19      0.32       315\n",
      "           7       0.12      0.96      0.21       242\n",
      "\n",
      "    accuracy                           0.22      2362\n",
      "   macro avg       0.73      0.24      0.20      2362\n",
      "weighted avg       0.75      0.22      0.21      2362\n",
      "\n"
     ]
    },
    {
     "name": "stderr",
     "output_type": "stream",
     "text": [
      " 87%|████████▋ | 52/60 [5:26:25<1:02:18, 467.36s/it]"
     ]
    },
    {
     "name": "stdout",
     "output_type": "stream",
     "text": [
      "======\n",
      "KNN/40000_new\\KNN_Ngram_5_K_37_f1_0.443.csv\n",
      "              precision    recall  f1-score   support\n",
      "\n",
      "           0       0.62      0.38      0.47       310\n",
      "           1       0.92      0.27      0.42       297\n",
      "           2       0.55      0.29      0.38       306\n",
      "           3       0.40      0.20      0.27       293\n",
      "           4       0.68      0.35      0.46       299\n",
      "           5       0.41      0.50      0.45       300\n",
      "           6       0.89      0.45      0.60       315\n",
      "           7       0.20      0.91      0.33       242\n",
      "\n",
      "    accuracy                           0.41      2362\n",
      "   macro avg       0.58      0.42      0.42      2362\n",
      "weighted avg       0.59      0.41      0.43      2362\n",
      "\n"
     ]
    },
    {
     "name": "stderr",
     "output_type": "stream",
     "text": [
      " 88%|████████▊ | 53/60 [5:32:18<50:31, 433.02s/it]  "
     ]
    },
    {
     "name": "stdout",
     "output_type": "stream",
     "text": [
      "======\n",
      "KNN/40000_new\\KNN_Ngram_5_K_47_f1_0.506.csv\n",
      "              precision    recall  f1-score   support\n",
      "\n",
      "           0       0.45      0.59      0.51       310\n",
      "           1       0.77      0.37      0.50       297\n",
      "           2       0.50      0.39      0.44       306\n",
      "           3       0.35      0.39      0.37       293\n",
      "           4       0.61      0.38      0.47       299\n",
      "           5       0.45      0.48      0.46       300\n",
      "           6       0.82      0.60      0.69       315\n",
      "           7       0.40      0.83      0.54       242\n",
      "\n",
      "    accuracy                           0.50      2362\n",
      "   macro avg       0.54      0.50      0.50      2362\n",
      "weighted avg       0.55      0.50      0.50      2362\n",
      "\n"
     ]
    },
    {
     "name": "stderr",
     "output_type": "stream",
     "text": [
      " 90%|█████████ | 54/60 [5:38:02<40:37, 406.31s/it]"
     ]
    },
    {
     "name": "stdout",
     "output_type": "stream",
     "text": [
      "======\n",
      "KNN/40000_new\\KNN_Ngram_5_K_57_f1_0.516.csv\n",
      "              precision    recall  f1-score   support\n",
      "\n",
      "           0       0.42      0.70      0.52       310\n",
      "           1       0.77      0.41      0.54       297\n",
      "           2       0.46      0.40      0.43       306\n",
      "           3       0.34      0.42      0.38       293\n",
      "           4       0.63      0.43      0.51       299\n",
      "           5       0.53      0.45      0.49       300\n",
      "           6       0.78      0.63      0.69       315\n",
      "           7       0.54      0.77      0.63       242\n",
      "\n",
      "    accuracy                           0.52      2362\n",
      "   macro avg       0.56      0.53      0.52      2362\n",
      "weighted avg       0.56      0.52      0.52      2362\n",
      "\n"
     ]
    },
    {
     "name": "stderr",
     "output_type": "stream",
     "text": [
      " 92%|█████████▏| 55/60 [5:43:33<31:59, 383.95s/it]"
     ]
    },
    {
     "name": "stdout",
     "output_type": "stream",
     "text": [
      "======\n",
      "KNN/40000_new\\KNN_Ngram_5_K_67_f1_0.518.csv\n",
      "              precision    recall  f1-score   support\n",
      "\n",
      "           0       0.39      0.71      0.50       310\n",
      "           1       0.81      0.42      0.55       297\n",
      "           2       0.46      0.40      0.43       306\n",
      "           3       0.32      0.44      0.37       293\n",
      "           4       0.64      0.40      0.49       299\n",
      "           5       0.59      0.46      0.51       300\n",
      "           6       0.76      0.62      0.68       315\n",
      "           7       0.61      0.75      0.67       242\n",
      "\n",
      "    accuracy                           0.52      2362\n",
      "   macro avg       0.57      0.52      0.53      2362\n",
      "weighted avg       0.57      0.52      0.52      2362\n",
      "\n"
     ]
    },
    {
     "name": "stderr",
     "output_type": "stream",
     "text": [
      " 93%|█████████▎| 56/60 [5:49:21<24:52, 373.03s/it]"
     ]
    },
    {
     "name": "stdout",
     "output_type": "stream",
     "text": [
      "======\n",
      "KNN/40000_new\\KNN_Ngram_5_K_77_f1_0.516.csv\n",
      "              precision    recall  f1-score   support\n",
      "\n",
      "           0       0.38      0.74      0.51       310\n",
      "           1       0.83      0.45      0.58       297\n",
      "           2       0.47      0.42      0.45       306\n",
      "           3       0.32      0.43      0.36       293\n",
      "           4       0.65      0.41      0.50       299\n",
      "           5       0.61      0.42      0.50       300\n",
      "           6       0.78      0.64      0.70       315\n",
      "           7       0.65      0.74      0.69       242\n",
      "\n",
      "    accuracy                           0.53      2362\n",
      "   macro avg       0.59      0.53      0.54      2362\n",
      "weighted avg       0.58      0.53      0.53      2362\n",
      "\n"
     ]
    },
    {
     "name": "stderr",
     "output_type": "stream",
     "text": [
      " 95%|█████████▌| 57/60 [5:55:10<18:17, 365.76s/it]"
     ]
    },
    {
     "name": "stdout",
     "output_type": "stream",
     "text": [
      "======\n",
      "KNN/40000_new\\KNN_Ngram_5_K_87_f1_0.509.csv\n",
      "              precision    recall  f1-score   support\n",
      "\n",
      "           0       0.38      0.78      0.51       310\n",
      "           1       0.83      0.45      0.58       297\n",
      "           2       0.48      0.43      0.45       306\n",
      "           3       0.33      0.45      0.38       293\n",
      "           4       0.63      0.40      0.49       299\n",
      "           5       0.63      0.39      0.48       300\n",
      "           6       0.77      0.64      0.70       315\n",
      "           7       0.70      0.69      0.70       242\n",
      "\n",
      "    accuracy                           0.53      2362\n",
      "   macro avg       0.59      0.53      0.54      2362\n",
      "weighted avg       0.59      0.53      0.53      2362\n",
      "\n"
     ]
    },
    {
     "name": "stderr",
     "output_type": "stream",
     "text": [
      " 97%|█████████▋| 58/60 [6:01:00<12:02, 361.19s/it]"
     ]
    },
    {
     "name": "stdout",
     "output_type": "stream",
     "text": [
      "======\n",
      "KNN/40000_new\\KNN_Ngram_5_K_97_f1_0.506.csv\n",
      "              precision    recall  f1-score   support\n",
      "\n",
      "           0       0.36      0.76      0.49       310\n",
      "           1       0.81      0.45      0.58       297\n",
      "           2       0.50      0.43      0.46       306\n",
      "           3       0.34      0.49      0.40       293\n",
      "           4       0.65      0.42      0.51       299\n",
      "           5       0.68      0.38      0.49       300\n",
      "           6       0.77      0.63      0.70       315\n",
      "           7       0.74      0.68      0.71       242\n",
      "\n",
      "    accuracy                           0.53      2362\n",
      "   macro avg       0.60      0.53      0.54      2362\n",
      "weighted avg       0.60      0.53      0.54      2362\n",
      "\n"
     ]
    },
    {
     "name": "stderr",
     "output_type": "stream",
     "text": [
      " 98%|█████████▊| 59/60 [6:06:49<05:57, 357.48s/it]"
     ]
    },
    {
     "name": "stdout",
     "output_type": "stream",
     "text": [
      "======\n",
      "KNN/40000_new\\KNN_Ngram_5_K_150_f1_0.482.csv\n",
      "              precision    recall  f1-score   support\n",
      "\n",
      "           0       0.34      0.84      0.48       310\n",
      "           1       0.85      0.44      0.58       297\n",
      "           2       0.50      0.42      0.46       306\n",
      "           3       0.31      0.50      0.39       293\n",
      "           4       0.66      0.39      0.49       299\n",
      "           5       0.77      0.34      0.48       300\n",
      "           6       0.78      0.62      0.69       315\n",
      "           7       0.86      0.55      0.67       242\n",
      "\n",
      "    accuracy                           0.51      2362\n",
      "   macro avg       0.64      0.51      0.53      2362\n",
      "weighted avg       0.63      0.51      0.53      2362\n",
      "\n"
     ]
    },
    {
     "name": "stderr",
     "output_type": "stream",
     "text": [
      "100%|██████████| 60/60 [6:13:55<00:00, 373.93s/it]"
     ]
    },
    {
     "name": "stdout",
     "output_type": "stream",
     "text": [
      "======\n",
      "KNN/40000_new\\KNN_Ngram_5_K_200_f1_0.467.csv\n",
      "              precision    recall  f1-score   support\n",
      "\n",
      "           0       0.31      0.84      0.45       310\n",
      "           1       0.86      0.42      0.56       297\n",
      "           2       0.49      0.40      0.44       306\n",
      "           3       0.31      0.49      0.38       293\n",
      "           4       0.69      0.40      0.50       299\n",
      "           5       0.79      0.31      0.44       300\n",
      "           6       0.78      0.63      0.69       315\n",
      "           7       0.89      0.45      0.60       242\n",
      "\n",
      "    accuracy                           0.49      2362\n",
      "   macro avg       0.64      0.49      0.51      2362\n",
      "weighted avg       0.63      0.49      0.51      2362\n",
      "\n"
     ]
    },
    {
     "name": "stderr",
     "output_type": "stream",
     "text": [
      "\n"
     ]
    }
   ],
   "source": [
    "k_sizes = [7, 17, 27, 37, 47, 57, 67, 77, 87, 97, 150, 200]\n",
    "\n",
    "max_ngram_size = 5\n",
    "num_k = len(k_sizes)\n",
    "\n",
    "# Number runs = number traing/test a KNN classifier\n",
    "num_runs = max_ngram_size * num_k\n",
    "\n",
    "# numpy array to keep track of all results\n",
    "knn_results = np.zeros((max_ngram_size, num_k))\n",
    "\n",
    "tfidf_vectorizer_arr = []\n",
    "\n",
    "with tqdm(total=num_runs) as pbar:\n",
    "    for i, ngram in enumerate(range(1, max_ngram_size+1)):\n",
    "        # Create Document-Term Matrix for different n-gram sizes\n",
    "        tfidf_vectorizer = TfidfVectorizer(ngram_range=(1, ngram), max_features=40000)\n",
    "        tfidf_vectorizer_arr.append(tfidf_vectorizer)\n",
    "        #tfidf_vectorizer = TfidfVectorizer(norm='l1',ngram_range=(1, ngram),max_features=40000)\n",
    "        X_train = tfidf_vectorizer.fit_transform(sentences_train)\n",
    "        X_test = tfidf_vectorizer.transform(sentences_test)\n",
    "        # Train & test model using cross validation\n",
    "        for j, k in enumerate(k_sizes):\n",
    "            knn = KNeighborsClassifier(n_neighbors=k).fit(X_train, y_train)\n",
    "            scores = cross_val_score(knn, X_train, y_train, cv=10, scoring=\"f1_micro\")\n",
    "            mean_score = np.mean(scores)\n",
    "            knn_results[i,j] = mean_score\n",
    "            pbar.update(1)\n",
    "\n",
    "            #output result\n",
    "            y_pred = knn.predict(X_test)\n",
    "            filename = \"KNN/40000_new\\KNN_\"+\"Ngram_\"+str(ngram)+\"_K_\"+str(k)+\"_f1_\"+\"{:.3f}\".format(mean_score)+\".csv\"\n",
    "            df_output = pd.DataFrame(y_pred, columns=['Predicted'])\n",
    "            df_output.to_csv(filename)\n",
    "\n",
    "            print(\"======\")\n",
    "            print(filename)\n",
    "            print(classification_report(y_test, y_pred))"
   ]
  },
  {
   "cell_type": "code",
   "execution_count": 19,
   "metadata": {},
   "outputs": [
    {
     "data": {
      "image/png": "[encoded data removed]",
      "text/plain": [
       "<Figure size 640x480 with 2 Axes>"
      ]
     },
     "metadata": {},
     "output_type": "display_data"
    }
   ],
   "source": [
    "# Use the heatmap function from the seaborn package\n",
    "plt.figure()\n",
    "\n",
    "sns.heatmap(knn_results, annot=True, cmap=\"crest\", xticklabels=k_sizes, yticklabels=list(range(1,max_ngram_size+1)))\n",
    "\n",
    "plt.xticks(fontsize=14)\n",
    "plt.yticks(fontsize=14)\n",
    "plt.ylabel('Maximum N-Gram Size', fontsize=16)\n",
    "plt.xlabel('Number of Neighbors (k)', fontsize=16)\n",
    "\n",
    "plt.show()"
   ]
  },
  {
   "attachments": {},
   "cell_type": "markdown",
   "metadata": {},
   "source": [
    "### TEST2: Naive Bayes Classifier"
   ]
  },
  {
   "cell_type": "code",
   "execution_count": 20,
   "metadata": {},
   "outputs": [
    {
     "name": "stderr",
     "output_type": "stream",
     "text": [
      " 25%|██▌       | 1/4 [00:31<01:35, 31.98s/it]"
     ]
    },
    {
     "name": "stdout",
     "output_type": "stream",
     "text": [
      "======\n",
      "Bayes/40000_new\\Bayes_Ngram_1_f1_0.599.csv\n",
      "              precision    recall  f1-score   support\n",
      "\n",
      "           0       0.51      0.82      0.63       310\n",
      "           1       0.75      0.64      0.69       297\n",
      "           2       0.59      0.57      0.58       306\n",
      "           3       0.36      0.56      0.44       293\n",
      "           4       0.62      0.64      0.63       299\n",
      "           5       0.84      0.36      0.51       300\n",
      "           6       0.88      0.88      0.88       315\n",
      "           7       0.94      0.41      0.57       242\n",
      "\n",
      "    accuracy                           0.62      2362\n",
      "   macro avg       0.69      0.61      0.62      2362\n",
      "weighted avg       0.68      0.62      0.62      2362\n",
      "\n"
     ]
    },
    {
     "name": "stderr",
     "output_type": "stream",
     "text": [
      " 50%|█████     | 2/4 [00:34<00:29, 14.90s/it]"
     ]
    },
    {
     "name": "stdout",
     "output_type": "stream",
     "text": [
      "======\n",
      "Bayes/40000_new\\Bayes_Ngram_2_f1_0.566.csv\n",
      "              precision    recall  f1-score   support\n",
      "\n",
      "           0       0.53      0.81      0.64       310\n",
      "           1       0.75      0.59      0.66       297\n",
      "           2       0.63      0.39      0.48       306\n",
      "           3       0.30      0.72      0.42       293\n",
      "           4       0.63      0.61      0.62       299\n",
      "           5       0.84      0.30      0.45       300\n",
      "           6       0.90      0.87      0.89       315\n",
      "           7       0.97      0.26      0.41       242\n",
      "\n",
      "    accuracy                           0.58      2362\n",
      "   macro avg       0.69      0.57      0.57      2362\n",
      "weighted avg       0.69      0.58      0.58      2362\n",
      "\n"
     ]
    },
    {
     "name": "stderr",
     "output_type": "stream",
     "text": [
      " 75%|███████▌  | 3/4 [00:41<00:11, 11.14s/it]"
     ]
    },
    {
     "name": "stdout",
     "output_type": "stream",
     "text": [
      "======\n",
      "Bayes/40000_new\\Bayes_Ngram_3_f1_0.597.csv\n",
      "              precision    recall  f1-score   support\n",
      "\n",
      "           0       0.52      0.83      0.64       310\n",
      "           1       0.77      0.64      0.70       297\n",
      "           2       0.61      0.52      0.56       306\n",
      "           3       0.35      0.65      0.45       293\n",
      "           4       0.63      0.63      0.63       299\n",
      "           5       0.86      0.35      0.50       300\n",
      "           6       0.89      0.88      0.89       315\n",
      "           7       0.96      0.35      0.51       242\n",
      "\n",
      "    accuracy                           0.62      2362\n",
      "   macro avg       0.70      0.61      0.61      2362\n",
      "weighted avg       0.69      0.62      0.62      2362\n",
      "\n"
     ]
    },
    {
     "name": "stderr",
     "output_type": "stream",
     "text": [
      "100%|██████████| 4/4 [00:55<00:00, 12.16s/it]"
     ]
    },
    {
     "name": "stdout",
     "output_type": "stream",
     "text": [
      "======\n",
      "Bayes/40000_new\\Bayes_Ngram_4_f1_0.600.csv\n",
      "              precision    recall  f1-score   support\n",
      "\n",
      "           0       0.52      0.82      0.64       310\n",
      "           1       0.76      0.66      0.70       297\n",
      "           2       0.60      0.57      0.59       306\n",
      "           3       0.37      0.59      0.45       293\n",
      "           4       0.63      0.65      0.64       299\n",
      "           5       0.84      0.37      0.51       300\n",
      "           6       0.88      0.87      0.88       315\n",
      "           7       0.94      0.40      0.57       242\n",
      "\n",
      "    accuracy                           0.62      2362\n",
      "   macro avg       0.69      0.62      0.62      2362\n",
      "weighted avg       0.69      0.62      0.63      2362\n",
      "\n"
     ]
    },
    {
     "name": "stderr",
     "output_type": "stream",
     "text": [
      "5it [01:19, 15.86s/it]                       "
     ]
    },
    {
     "name": "stdout",
     "output_type": "stream",
     "text": [
      "======\n",
      "Bayes/40000_new\\Bayes_Ngram_5_f1_0.599.csv\n",
      "              precision    recall  f1-score   support\n",
      "\n",
      "           0       0.52      0.82      0.63       310\n",
      "           1       0.75      0.65      0.69       297\n",
      "           2       0.60      0.57      0.58       306\n",
      "           3       0.36      0.57      0.44       293\n",
      "           4       0.62      0.65      0.63       299\n",
      "           5       0.84      0.36      0.51       300\n",
      "           6       0.88      0.88      0.88       315\n",
      "           7       0.94      0.41      0.57       242\n",
      "\n",
      "    accuracy                           0.62      2362\n",
      "   macro avg       0.69      0.61      0.62      2362\n",
      "weighted avg       0.68      0.62      0.62      2362\n",
      "\n"
     ]
    },
    {
     "name": "stderr",
     "output_type": "stream",
     "text": [
      "\n"
     ]
    }
   ],
   "source": [
    "#Naive Bayes\n",
    "from sklearn.naive_bayes import MultinomialNB\n",
    "\n",
    "min_ngram_size = 1\n",
    "max_ngram_size = 5\n",
    "\n",
    "num_runs = max_ngram_size - min_ngram_size\n",
    "\n",
    "# numpy array to keep track of all results\n",
    "results = []\n",
    "\n",
    "max\n",
    "with tqdm(total=num_runs) as pbar:\n",
    "    for i, ngram in enumerate(range(min_ngram_size, max_ngram_size+1)):\n",
    "        # Create Document-Term Matrix for different n-gram sizes\n",
    "        tfidf_vectorizer = tfidf_vectorizer_arr[i-1]\n",
    "        X_train = tfidf_vectorizer.fit_transform(sentences_train)\n",
    "        X_test = tfidf_vectorizer.transform(sentences_test)\n",
    "        # Train & test model using cross validation\n",
    "        model = MultinomialNB().fit(X_train, y_train)\n",
    "        y_pred = model.predict(X_test)\n",
    "        scores = cross_val_score(model, X_train, y_train, cv=10, scoring=\"f1_micro\")\n",
    "        mean_score = np.mean(scores)\n",
    "        results.append((ngram, mean_score))\n",
    "        pbar.update(1)\n",
    "\n",
    "        #output result\n",
    "        filename = \"Bayes/40000_new\\Bayes_\"+\"Ngram_\"+str(ngram)+\"_f1_\"+\"{:.3f}\".format(mean_score)+\".csv\"\n",
    "        df_output = pd.DataFrame(y_pred, columns=['Predicted'])\n",
    "        df_output.to_csv(filename)\n",
    "\n",
    "        print(\"======\")\n",
    "        print(filename)\n",
    "        print(classification_report(y_test, y_pred))"
   ]
  },
  {
   "cell_type": "code",
   "execution_count": 21,
   "metadata": {},
   "outputs": [
    {
     "data": {
      "image/png": "[encoded data removed]",
      "text/plain": [
       "<Figure size 640x480 with 1 Axes>"
      ]
     },
     "metadata": {},
     "output_type": "display_data"
    }
   ],
   "source": [
    "plt.figure()\n",
    "plt.plot([s[0] for s in results], [s[1] for s in results], lw=3)\n",
    "font_axes = {'family':'serif','color':'black','size':16}\n",
    "plt.xticks(fontsize=14)\n",
    "plt.yticks(fontsize=14)\n",
    "plt.xlabel(\"Max N-Gram Size\", fontdict=font_axes)\n",
    "plt.ylabel(\"F1 Score\", fontdict=font_axes)\n",
    "plt.tight_layout()\n",
    "plt.show()"
   ]
  },
  {
   "cell_type": "code",
   "execution_count": 22,
   "metadata": {},
   "outputs": [],
   "source": [
    "### TEST 3: Logistic Regression"
   ]
  },
  {
   "cell_type": "code",
   "execution_count": 23,
   "metadata": {},
   "outputs": [
    {
     "name": "stderr",
     "output_type": "stream",
     "text": [
      " 25%|██▌       | 1/4 [04:58<14:56, 298.80s/it]"
     ]
    },
    {
     "name": "stdout",
     "output_type": "stream",
     "text": [
      "======\n",
      "LogisticRegression/40000_new\\LR_Ngram_1_f1_0.707.csv\n",
      "              precision    recall  f1-score   support\n",
      "\n",
      "           0       0.75      0.75      0.75       310\n",
      "           1       0.80      0.73      0.76       297\n",
      "           2       0.58      0.65      0.61       306\n",
      "           3       0.45      0.48      0.47       293\n",
      "           4       0.76      0.66      0.71       299\n",
      "           5       0.72      0.60      0.65       300\n",
      "           6       0.94      0.88      0.91       315\n",
      "           7       0.67      0.90      0.77       242\n",
      "\n",
      "    accuracy                           0.70      2362\n",
      "   macro avg       0.71      0.71      0.70      2362\n",
      "weighted avg       0.71      0.70      0.70      2362\n",
      "\n"
     ]
    },
    {
     "name": "stderr",
     "output_type": "stream",
     "text": [
      " 50%|█████     | 2/4 [07:42<07:18, 219.07s/it]"
     ]
    },
    {
     "name": "stdout",
     "output_type": "stream",
     "text": [
      "======\n",
      "LogisticRegression/40000_new\\LR_Ngram_2_f1_0.710.csv\n",
      "              precision    recall  f1-score   support\n",
      "\n",
      "           0       0.77      0.77      0.77       310\n",
      "           1       0.81      0.74      0.77       297\n",
      "           2       0.59      0.62      0.61       306\n",
      "           3       0.46      0.49      0.48       293\n",
      "           4       0.78      0.68      0.73       299\n",
      "           5       0.72      0.61      0.66       300\n",
      "           6       0.94      0.88      0.91       315\n",
      "           7       0.66      0.91      0.76       242\n",
      "\n",
      "    accuracy                           0.71      2362\n",
      "   macro avg       0.72      0.71      0.71      2362\n",
      "weighted avg       0.72      0.71      0.71      2362\n",
      "\n"
     ]
    },
    {
     "name": "stderr",
     "output_type": "stream",
     "text": [
      " 75%|███████▌  | 3/4 [12:13<04:02, 242.82s/it]"
     ]
    },
    {
     "name": "stdout",
     "output_type": "stream",
     "text": [
      "======\n",
      "LogisticRegression/40000_new\\LR_Ngram_3_f1_0.709.csv\n",
      "              precision    recall  f1-score   support\n",
      "\n",
      "           0       0.75      0.75      0.75       310\n",
      "           1       0.82      0.73      0.77       297\n",
      "           2       0.60      0.65      0.62       306\n",
      "           3       0.47      0.52      0.49       293\n",
      "           4       0.77      0.67      0.72       299\n",
      "           5       0.72      0.59      0.65       300\n",
      "           6       0.95      0.88      0.91       315\n",
      "           7       0.66      0.91      0.77       242\n",
      "\n",
      "    accuracy                           0.71      2362\n",
      "   macro avg       0.72      0.71      0.71      2362\n",
      "weighted avg       0.72      0.71      0.71      2362\n",
      "\n"
     ]
    },
    {
     "name": "stderr",
     "output_type": "stream",
     "text": [
      "100%|██████████| 4/4 [16:50<00:00, 256.27s/it]"
     ]
    },
    {
     "name": "stdout",
     "output_type": "stream",
     "text": [
      "======\n",
      "LogisticRegression/40000_new\\LR_Ngram_4_f1_0.708.csv\n",
      "              precision    recall  f1-score   support\n",
      "\n",
      "           0       0.75      0.74      0.75       310\n",
      "           1       0.80      0.73      0.76       297\n",
      "           2       0.58      0.65      0.61       306\n",
      "           3       0.46      0.49      0.47       293\n",
      "           4       0.77      0.67      0.71       299\n",
      "           5       0.71      0.60      0.65       300\n",
      "           6       0.95      0.88      0.91       315\n",
      "           7       0.67      0.91      0.77       242\n",
      "\n",
      "    accuracy                           0.70      2362\n",
      "   macro avg       0.71      0.71      0.70      2362\n",
      "weighted avg       0.71      0.70      0.70      2362\n",
      "\n"
     ]
    },
    {
     "name": "stderr",
     "output_type": "stream",
     "text": [
      "5it [21:20, 256.07s/it]                       "
     ]
    },
    {
     "name": "stdout",
     "output_type": "stream",
     "text": [
      "======\n",
      "LogisticRegression/40000_new\\LR_Ngram_5_f1_0.707.csv\n",
      "              precision    recall  f1-score   support\n",
      "\n",
      "           0       0.75      0.75      0.75       310\n",
      "           1       0.80      0.73      0.76       297\n",
      "           2       0.58      0.65      0.61       306\n",
      "           3       0.46      0.48      0.47       293\n",
      "           4       0.76      0.66      0.71       299\n",
      "           5       0.72      0.60      0.65       300\n",
      "           6       0.95      0.88      0.91       315\n",
      "           7       0.67      0.91      0.77       242\n",
      "\n",
      "    accuracy                           0.70      2362\n",
      "   macro avg       0.71      0.71      0.71      2362\n",
      "weighted avg       0.71      0.70      0.71      2362\n",
      "\n"
     ]
    },
    {
     "name": "stderr",
     "output_type": "stream",
     "text": [
      "\n"
     ]
    }
   ],
   "source": [
    "#Logistic Regression\n",
    "from sklearn.linear_model import LogisticRegression\n",
    "\n",
    "min_ngram_size = 1\n",
    "max_ngram_size = 5\n",
    "\n",
    "num_runs = max_ngram_size - min_ngram_size\n",
    "\n",
    "# numpy array to keep track of all results\n",
    "results = []\n",
    "\n",
    "with tqdm(total=num_runs) as pbar:\n",
    "    for i, ngram in enumerate(range(min_ngram_size, max_ngram_size+1)):\n",
    "        # Create Document-Term Matrix for different n-gram sizes\n",
    "        tfidf_vectorizer = tfidf_vectorizer_arr[i-1]\n",
    "        X_train = tfidf_vectorizer.fit_transform(sentences_train)\n",
    "        X_test = tfidf_vectorizer.transform(sentences_test)\n",
    "        # Train & test model using cross validation\n",
    "        model = LogisticRegression(max_iter=500).fit(X_train, y_train)\n",
    "        y_pred = model.predict(X_test)\n",
    "        scores = cross_val_score(model, X_train, y_train, cv=10, scoring=\"f1_micro\")\n",
    "        mean_score = np.mean(scores)\n",
    "        results.append((ngram, mean_score))\n",
    "        pbar.update(1)\n",
    "\n",
    "        #output result\n",
    "        filename = \"LogisticRegression/40000_new\\LR_\"+\"Ngram_\"+str(ngram)+\"_f1_\"+\"{:.3f}\".format(mean_score)+\".csv\"\n",
    "        df_output = pd.DataFrame(y_pred, columns=['Predicted'])\n",
    "        df_output.to_csv(filename)\n",
    "\n",
    "        print(\"======\")\n",
    "        print(filename)\n",
    "        print(classification_report(y_test, y_pred))"
   ]
  },
  {
   "cell_type": "code",
   "execution_count": 24,
   "metadata": {},
   "outputs": [
    {
     "data": {
      "image/png": "[encoded data removed]",
      "text/plain": [
       "<Figure size 640x480 with 1 Axes>"
      ]
     },
     "metadata": {},
     "output_type": "display_data"
    }
   ],
   "source": [
    "plt.figure()\n",
    "plt.plot([s[0] for s in results], [s[1] for s in results], lw=3)\n",
    "font_axes = {'family':'serif','color':'black','size':16}\n",
    "plt.xticks(fontsize=14)\n",
    "plt.yticks(fontsize=14)\n",
    "plt.xlabel(\"Max N-Gram Size\", fontdict=font_axes)\n",
    "plt.ylabel(\"F1 Score\", fontdict=font_axes)\n",
    "plt.tight_layout()\n",
    "plt.show()"
   ]
  }
 ],
 "metadata": {
  "kernelspec": {
   "display_name": "newsapi",
   "language": "python",
   "name": "python3"
  },
  "language_info": {
   "codemirror_mode": {
    "name": "ipython",
    "version": 3
   },
   "file_extension": ".py",
   "mimetype": "text/x-python",
   "name": "python",
   "nbconvert_exporter": "python",
   "pygments_lexer": "ipython3",
   "version": "3.9.16"
  },
  "vscode": {
   "interpreter": {
    "hash": "a2ba62319aaa37485adafec6256227f58818f389d94ef50b70467cdbcd924512"
   }
  }
 },
 "nbformat": 4,
 "nbformat_minor": 2
}
