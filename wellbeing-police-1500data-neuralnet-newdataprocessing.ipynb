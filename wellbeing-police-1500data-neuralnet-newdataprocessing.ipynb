{
 "cells": [
  {
   "cell_type": "markdown",
   "metadata": {},
   "source": [
    "# Wellbeing Police\n",
    "\n",
    "From various subreddit, we have scraped close to 4000 posts. The subreddits include \"r/SuicideWatch\", \"r/BipolarReddit\", \"r/Anxiety\", \"r/AnxietyDepression\", \"r/Depression\", and \"r/Happy\". Each of the subreddit posts currently sitting within its own csv file. We will see what are the fields that are consistent across the CSV files and choose those applicable. Clean up the data, removed the columns not needed. \n",
    "\n",
    "As all the scrapes was created from the same script, the columns of the resulting csv are same across the files. \n",
    "We will proceed to label them according to the subreddit they came from and combine them into a single dataframe."
   ]
  },
  {
   "cell_type": "code",
   "execution_count": 1,
   "metadata": {},
   "outputs": [],
   "source": [
    "%load_ext autoreload\n",
    "%autoreload 2"
   ]
  },
  {
   "cell_type": "code",
   "execution_count": 2,
   "metadata": {},
   "outputs": [],
   "source": [
    "import numpy as np\n",
    "import pandas as pd\n",
    "import glob\n",
    "import os\n",
    "import spacy\n",
    "import re\n",
    "import torch\n",
    "import torch.nn as nn\n",
    "import torch.nn.functional as F\n",
    "import torch.optim as optim\n",
    "\n",
    "from wordcloud import WordCloud\n",
    "import matplotlib.pyplot as plt\n",
    "import seaborn as sns\n",
    "from collections import Counter\n",
    "\n",
    "from sklearn.feature_extraction.text import TfidfVectorizer\n",
    "from sklearn.metrics import f1_score, accuracy_score, classification_report\n",
    "from sklearn.model_selection import train_test_split\n",
    "from nltk.stem.porter import PorterStemmer\n",
    "import torch\n",
    "from torchtext.data.utils import get_tokenizer\n",
    "from torchtext.vocab import build_vocab_from_iterator\n",
    "from torchtext.vocab import GloVe\n",
    "\n",
    "\n",
    "from src.utils import color_func, get_mask, search,text_normalization\n",
    "from src.nn import *"
   ]
  },
  {
   "cell_type": "markdown",
   "metadata": {},
   "source": [
    "### Data Combination and Labeling\n",
    "\n",
    "We retrieved posts in “Hot” section from various subreddits:\n",
    "`r/ptsd`,`r/Anxiety`,`r/SuicideWatch`,`r/depression`,`r/BipolarReddit`,`r/schizophrenia`,`r/EDAnonymous`,`r/EatingDisorders`"
   ]
  },
  {
   "cell_type": "code",
   "execution_count": 3,
   "metadata": {},
   "outputs": [
    {
     "name": "stdout",
     "output_type": "stream",
     "text": [
      "(34785, 3)\n",
      "(23706, 3)\n",
      "(23706, 3)\n",
      "(23706, 3)\n",
      "(23706, 3)\n"
     ]
    },
    {
     "data": {
      "text/html": [
       "<div>\n",
       "<style scoped>\n",
       "    .dataframe tbody tr th:only-of-type {\n",
       "        vertical-align: middle;\n",
       "    }\n",
       "\n",
       "    .dataframe tbody tr th {\n",
       "        vertical-align: top;\n",
       "    }\n",
       "\n",
       "    .dataframe thead th {\n",
       "        text-align: right;\n",
       "    }\n",
       "</style>\n",
       "<table border=\"1\" class=\"dataframe\">\n",
       "  <thead>\n",
       "    <tr style=\"text-align: right;\">\n",
       "      <th></th>\n",
       "      <th>title</th>\n",
       "      <th>subreddit</th>\n",
       "      <th>body</th>\n",
       "    </tr>\n",
       "  </thead>\n",
       "  <tbody>\n",
       "    <tr>\n",
       "      <th>2</th>\n",
       "      <td>Processing my trauma requires feeling safe but...</td>\n",
       "      <td>ptsd</td>\n",
       "      <td>Processing my trauma requires feeling safe but...</td>\n",
       "    </tr>\n",
       "    <tr>\n",
       "      <th>3</th>\n",
       "      <td>My sister is the strongest person I know. She’...</td>\n",
       "      <td>ptsd</td>\n",
       "      <td>My sister is the strongest person I know. She’...</td>\n",
       "    </tr>\n",
       "    <tr>\n",
       "      <th>4</th>\n",
       "      <td>Has anyone else found mushrooms helped?</td>\n",
       "      <td>ptsd</td>\n",
       "      <td>Has anyone else found mushrooms helped? At a p...</td>\n",
       "    </tr>\n",
       "    <tr>\n",
       "      <th>5</th>\n",
       "      <td>Interview About War Trauma</td>\n",
       "      <td>ptsd</td>\n",
       "      <td>Interview About War Trauma Hello, my name is Z...</td>\n",
       "    </tr>\n",
       "    <tr>\n",
       "      <th>6</th>\n",
       "      <td>Reached Out to 60 Therapists, Only got on Wait...</td>\n",
       "      <td>ptsd</td>\n",
       "      <td>Reached Out to 60 Therapists, Only got on Wait...</td>\n",
       "    </tr>\n",
       "  </tbody>\n",
       "</table>\n",
       "</div>"
      ],
      "text/plain": [
       "                                               title subreddit  \\\n",
       "2  Processing my trauma requires feeling safe but...      ptsd   \n",
       "3  My sister is the strongest person I know. She’...      ptsd   \n",
       "4            Has anyone else found mushrooms helped?      ptsd   \n",
       "5                         Interview About War Trauma      ptsd   \n",
       "6  Reached Out to 60 Therapists, Only got on Wait...      ptsd   \n",
       "\n",
       "                                                body  \n",
       "2  Processing my trauma requires feeling safe but...  \n",
       "3  My sister is the strongest person I know. She’...  \n",
       "4  Has anyone else found mushrooms helped? At a p...  \n",
       "5  Interview About War Trauma Hello, my name is Z...  \n",
       "6  Reached Out to 60 Therapists, Only got on Wait...  "
      ]
     },
     "execution_count": 3,
     "metadata": {},
     "output_type": "execute_result"
    }
   ],
   "source": [
    "path = \"./reddit/csvs/\"\n",
    "all_csvs = glob.glob(os.path.join(path, \"*.csv\"))\n",
    "\n",
    "all_dfs = []\n",
    "for filename in all_csvs:\n",
    "    df = pd.read_csv(filename, index_col=None, header=0)\n",
    "    df = df[[\"title\", \"subreddit\", \"body\"]]\n",
    "    df = df[2:]\n",
    "    \n",
    "    # ## manually remove irrelevant pinned posts\n",
    "    # if df.iloc[0].subreddit in [\"ptsd\",'Anxiety',\"SuicideWatch\",'EDAnonymous']: \n",
    "    #     df=df[2:]\n",
    "    # if df.iloc[0].subreddit in ['BipolarReddit','schizophrenia','EatingDisorders']:\n",
    "    #     df=df[1:]\n",
    "        \n",
    "    all_dfs.append(df)\n",
    "\n",
    "# main_df = pd.concat(all_dfs)\n",
    "# print(main_df.shape)\n",
    "# main_df = main_df.drop_duplicates()\n",
    "# print(main_df.shape)\n",
    "# main_df = main_df.dropna()\n",
    "# print(main_df.shape)\n",
    "# main_df.head()\n",
    "\n",
    "\n",
    "# main_df[\"body\"] = main_df[\"title\"] + \" \" + main_df[\"body\"]\n",
    "# main_df = main_df.drop_duplicates()\n",
    "# print(main_df.shape)\n",
    "# main_df = main_df.dropna()\n",
    "# print(main_df.shape)\n",
    "# main_df.head()\n",
    "\n",
    "main_df = pd.concat(all_dfs)\n",
    "print(main_df.shape)\n",
    "main_df = main_df.fillna('')\n",
    "main_df[\"body\"] = main_df[\"title\"] + \" \" + main_df[\"body\"]\n",
    "main_df = main_df.drop_duplicates()\n",
    "print(main_df.shape)\n",
    "main_df = main_df.dropna()\n",
    "print(main_df.shape)\n",
    "main_df.head()\n",
    "\n",
    "\n",
    "main_df = main_df.drop_duplicates()\n",
    "print(main_df.shape)\n",
    "main_df = main_df.dropna()\n",
    "print(main_df.shape)\n",
    "main_df.head()\n"
   ]
  },
  {
   "cell_type": "markdown",
   "metadata": {},
   "source": [
    "A few of the subreddit is indicating the same underlying mental problems, we proceed to add an attribute such that these minor differentiation will be grouped for better and easier identification."
   ]
  },
  {
   "cell_type": "code",
   "execution_count": 4,
   "metadata": {},
   "outputs": [
    {
     "data": {
      "text/plain": [
       "<AxesSubplot: title={'center': 'Class Counts'}>"
      ]
     },
     "execution_count": 4,
     "metadata": {},
     "output_type": "execute_result"
    },
    {
     "data": {
      "image/png": "[encoded data removed]",
      "text/plain": [
       "<Figure size 640x480 with 1 Axes>"
      ]
     },
     "metadata": {},
     "output_type": "display_data"
    }
   ],
   "source": [
    "sub_problem_mapping = {\n",
    "    \"ptsd\": \"PTSD\",\n",
    "    \"CPTSD\": \"PTSD\",\n",
    "    \"Anxiety\": \"anxiety\",\n",
    "    \"Anxietyhelp\": \"anxiety\",\n",
    "    \"SuicideWatch\": \"suicidal\",\n",
    "    \"selfharm\": \"suicidal\",\n",
    "    \"depression\": \"depression\",\n",
    "    \"depression_help\": \"depression\", \n",
    "    \"BipolarReddit\": \"bipolar\", \n",
    "    \"bipolar\": \"bipolar\",\n",
    "    \"schizophrenia\": \"schizophrenia\",\n",
    "    \"EDAnonymous\": \"eating disorder\",\n",
    "    \"EatingDisorders\": \"eating disorder\",\n",
    "    \"happy\": \"control\",\n",
    "    \"MadeMeSmile\": \"control\"\n",
    "}\n",
    "\n",
    "main_df[\"problem\"] = [sub_problem_mapping[s] for s in main_df[\"subreddit\"]]\n",
    "main_df.head()\n",
    "main_df[\"problem\"].value_counts().plot.bar(rot=0, title=\"Class Counts\")\n",
    "\n",
    "#NEED TO DECIDE whether need to drop control."
   ]
  },
  {
   "cell_type": "code",
   "execution_count": 5,
   "metadata": {},
   "outputs": [],
   "source": [
    "df_PTSD = main_df[main_df['problem'] == 'PTSD']\n",
    "df_anxiety = main_df[main_df['problem'] == 'anxiety']\n",
    "df_suicidal = main_df[main_df['problem'] == 'suicidal']\n",
    "df_depression = main_df[main_df['problem'] == 'depression']\n",
    "df_bipolar = main_df[main_df['problem'] == 'bipolar']\n",
    "df_schizophrenia = main_df[main_df['problem'] == 'schizophrenia']\n",
    "df_eating_disorder = main_df[main_df['problem'] == 'eating disorder']\n",
    "df_control = main_df[main_df['problem'] == 'control']\n",
    "\n",
    "df_PTSD = df_PTSD[:1500]\n",
    "df_anxiety = df_anxiety[:1500]\n",
    "df_suicidal = df_suicidal[:1500]\n",
    "df_depression = df_depression[:1500]\n",
    "df_bipolar = df_bipolar[:1500]\n",
    "df_schizophrenia = df_schizophrenia[:1500]\n",
    "df_eating_disorder = df_eating_disorder[:1500]\n",
    "# df_control = df_control[:1500]\n",
    "all_dfs = []\n",
    "all_dfs.append(df_PTSD)\n",
    "all_dfs.append(df_anxiety)\n",
    "all_dfs.append(df_suicidal)\n",
    "all_dfs.append(df_depression)\n",
    "all_dfs.append(df_bipolar)\n",
    "all_dfs.append(df_schizophrenia)\n",
    "all_dfs.append(df_eating_disorder)\n",
    "all_dfs.append(df_control)\n",
    "main_df = pd.concat(all_dfs)"
   ]
  },
  {
   "cell_type": "code",
   "execution_count": 6,
   "metadata": {},
   "outputs": [
    {
     "data": {
      "text/plain": [
       "<AxesSubplot: title={'center': 'Class Counts'}>"
      ]
     },
     "execution_count": 6,
     "metadata": {},
     "output_type": "execute_result"
    },
    {
     "data": {
      "image/png": "[encoded data removed]",
      "text/plain": [
       "<Figure size 640x480 with 1 Axes>"
      ]
     },
     "metadata": {},
     "output_type": "display_data"
    }
   ],
   "source": [
    "main_df[\"problem\"].value_counts().plot.bar(rot=0, title=\"Class Counts\")"
   ]
  },
  {
   "cell_type": "code",
   "execution_count": 7,
   "metadata": {},
   "outputs": [],
   "source": [
    "\n",
    "# Normalization codes from the notebook\n",
    "# Note that we did not include removal of words in brackets as well as odd characters as\n",
    "# these may denote some emotion (anger for instance may lead to multiple !!!). \n",
    "def normalizer(s):\n",
    "    s = s.lower()                                                   # Lowercase whole sentence\n",
    "    s = re.sub(r'\\s+', ' ', s)                                      # Remove duplicate whitespaces\n",
    "    s = re.sub(r'([.]){2,}', ' ', s)                                # Remove ellipses ...\n",
    "    s = re.sub(r'([\\w.-]+)([,;])([\\w.-]+)', '\\g<1>\\g<2> \\g<3>', s)  # Add missing whitespace after , and ;\n",
    "    s = re.sub(r'(.+)\\1{2,}', '\\g<1>\\g<1>', s)                      # Reduce repeated sequences to 2\n",
    "    #s = re.sub(r'[\\(\\[].*?[\\)\\]]', ' ', s)                          # Remove all words in brackets\n",
    "    s = re.sub(r'(n\\'t)', ' not', s)                                # Resolve contraction \"-n't\"\n",
    "    # s = re.sub(r'[^a-zA-Z0-9_-]+', ' ', s)                         # Remove all \"odd\" characters\n",
    "    s = re.sub(r'\\s+', ' ', s)                                      # Remove duplicate whitespaces (again)\n",
    "    s = s.strip()                                                   # Remove trailing whitespaces\n",
    "    return s"
   ]
  },
  {
   "cell_type": "code",
   "execution_count": 8,
   "metadata": {},
   "outputs": [],
   "source": [
    "# Lemmatization was not used as it did not give good results during validation\n",
    "# A quick intuition as to why is that some similar meaning words can be used to convey different emotions\n",
    "\n",
    "# Lemmatization codes from provided notebook\n",
    "# Create our list of stopwords\n",
    "nlp = spacy.load('en_core_web_sm')\n",
    "stop_words = spacy.lang.en.stop_words.STOP_WORDS\n",
    "\n",
    "# Creating our tokenizer function\n",
    "def spacy_lemmatizer(sentence):\n",
    "    # Creating our token object, which is used to create documents with linguistic annotations.\n",
    "    mytokens = nlp(sentence)\n",
    "    # Lemmatizing each token and converting each token into lowercase\n",
    "    mytokens = [ word.lemma_ for word in mytokens ]\n",
    "    # Removing stop words\n",
    "    # mytokens = [ word for word in mytokens if word not in stop_words ]\n",
    "    # return preprocessed list of tokens\n",
    "    return \" \".join(mytokens)"
   ]
  },
  {
   "cell_type": "code",
   "execution_count": 9,
   "metadata": {},
   "outputs": [],
   "source": [
    "# Stemming was not used as it did not give good results during validation\n",
    "\n",
    "# Stemming codes from provided notebook\n",
    "stemmer = PorterStemmer()\n",
    "tokenizer = get_tokenizer(\"spacy\", \"en_core_web_sm\")\n",
    "\n",
    "def nltk_stemmer(s):\n",
    "    stemmed_words = []\n",
    "    token_list = tokenizer(s)\n",
    "    for word in token_list:\n",
    "        stemmed_words.append(stemmer.stem(word))\n",
    "    return \" \".join(stemmed_words)"
   ]
  },
  {
   "cell_type": "code",
   "execution_count": 10,
   "metadata": {},
   "outputs": [],
   "source": [
    "# Create the mapping from categorical label to its numerical encoding\n",
    "label_to_ind = {}\n",
    "ind_to_label = {}\n",
    "for ind, label in enumerate(main_df[\"problem\"].unique()):\n",
    "    label_to_ind[label] = ind\n",
    "    ind_to_label[ind] = label"
   ]
  },
  {
   "attachments": {},
   "cell_type": "markdown",
   "metadata": {},
   "source": [
    "### Text Cleaning and Processing\n",
    "- Remove emoticons and non-text characters\n",
    "- Remove excess newline and spacing characters added for emphasis (e.g., poetry paragraphing)\n",
    "- Remove hyperlinks and tags\n",
    "- Change text to lowercase\n",
    "- Simplify punctuation by removing repeated characters (e.g., \"?????\", \"!!!!\")"
   ]
  },
  {
   "cell_type": "code",
   "execution_count": 11,
   "metadata": {},
   "outputs": [],
   "source": [
    "from text_processing import text_processing"
   ]
  },
  {
   "cell_type": "code",
   "execution_count": 12,
   "metadata": {},
   "outputs": [
    {
     "data": {
      "text/html": [
       "<div>\n",
       "<style scoped>\n",
       "    .dataframe tbody tr th:only-of-type {\n",
       "        vertical-align: middle;\n",
       "    }\n",
       "\n",
       "    .dataframe tbody tr th {\n",
       "        vertical-align: top;\n",
       "    }\n",
       "\n",
       "    .dataframe thead th {\n",
       "        text-align: right;\n",
       "    }\n",
       "</style>\n",
       "<table border=\"1\" class=\"dataframe\">\n",
       "  <thead>\n",
       "    <tr style=\"text-align: right;\">\n",
       "      <th></th>\n",
       "      <th>title</th>\n",
       "      <th>subreddit</th>\n",
       "      <th>body</th>\n",
       "      <th>problem</th>\n",
       "    </tr>\n",
       "  </thead>\n",
       "  <tbody>\n",
       "    <tr>\n",
       "      <th>2</th>\n",
       "      <td>processing my trauma requires feeling safe but...</td>\n",
       "      <td>ptsd</td>\n",
       "      <td>processing my trauma requires feeling safe but...</td>\n",
       "      <td>PTSD</td>\n",
       "    </tr>\n",
       "    <tr>\n",
       "      <th>3</th>\n",
       "      <td>my sister is the strongest person i know. she’...</td>\n",
       "      <td>ptsd</td>\n",
       "      <td>my sister is the strongest person i know. she’...</td>\n",
       "      <td>PTSD</td>\n",
       "    </tr>\n",
       "    <tr>\n",
       "      <th>4</th>\n",
       "      <td>has anyone else found mushrooms helped?</td>\n",
       "      <td>ptsd</td>\n",
       "      <td>has anyone else found mushrooms helped? at a p...</td>\n",
       "      <td>PTSD</td>\n",
       "    </tr>\n",
       "    <tr>\n",
       "      <th>5</th>\n",
       "      <td>interview about war trauma</td>\n",
       "      <td>ptsd</td>\n",
       "      <td>interview about war trauma hello, my name is z...</td>\n",
       "      <td>PTSD</td>\n",
       "    </tr>\n",
       "    <tr>\n",
       "      <th>6</th>\n",
       "      <td>reached out to 60 therapists, only got on wait...</td>\n",
       "      <td>ptsd</td>\n",
       "      <td>reached out to 60 therapists, only got on wait...</td>\n",
       "      <td>PTSD</td>\n",
       "    </tr>\n",
       "  </tbody>\n",
       "</table>\n",
       "</div>"
      ],
      "text/plain": [
       "                                               title subreddit  \\\n",
       "2  processing my trauma requires feeling safe but...      ptsd   \n",
       "3  my sister is the strongest person i know. she’...      ptsd   \n",
       "4            has anyone else found mushrooms helped?      ptsd   \n",
       "5                         interview about war trauma      ptsd   \n",
       "6  reached out to 60 therapists, only got on wait...      ptsd   \n",
       "\n",
       "                                                body problem  \n",
       "2  processing my trauma requires feeling safe but...    PTSD  \n",
       "3  my sister is the strongest person i know. she’...    PTSD  \n",
       "4  has anyone else found mushrooms helped? at a p...    PTSD  \n",
       "5  interview about war trauma hello, my name is z...    PTSD  \n",
       "6  reached out to 60 therapists, only got on wait...    PTSD  "
      ]
     },
     "execution_count": 12,
     "metadata": {},
     "output_type": "execute_result"
    }
   ],
   "source": [
    "\n",
    "clean_text = text_processing()\n",
    "main_df = clean_text.process_data(main_df, headers = ['title', 'subreddit', 'body'])\n",
    "main_df.head()"
   ]
  },
  {
   "attachments": {},
   "cell_type": "markdown",
   "metadata": {},
   "source": [
    "### Apply further text normalization steps, tokenization and  lemmatization using spaCy\n",
    "\n",
    "We scrap common text abbreviations into a dictionary from below link and also manually added in some common abbreviate words. https://www.slicktext.com/blog/2019/02/text-abbreviations-guide/\n",
    "\n",
    "We use spaCy to perform tokenization and lemmatization."
   ]
  },
  {
   "cell_type": "code",
   "execution_count": 13,
   "metadata": {},
   "outputs": [],
   "source": [
    "# # Group the data by class label\n",
    "# groups = main_df.groupby('problem')\n",
    "\n",
    "# # Sample 2 rows from each group\n",
    "# sampled_data = groups.apply(lambda x: x.sample(n=100)).reset_index(drop=True)\n",
    "\n",
    "## Apply further cleaning steps before tokenization\n",
    "normalized_text = text_normalization()\n",
    "\n",
    "main_df = normalized_text.normalize_data(main_df)\n",
    "\n",
    "## save proccessed data for CNN use\n",
    "path = os.path.join(os.getcwd(),\"CNN\")\n",
    "main_df.to_csv(os.path.join(path,\"reddit_posts_proccessed.csv\"),index=False)"
   ]
  },
  {
   "cell_type": "code",
   "execution_count": 14,
   "metadata": {},
   "outputs": [],
   "source": [
    "# Apply text normalization\n",
    "# main_df[\"body\"] = main_df[\"body\"].apply(normalizer)\n",
    "# main_df[\"body\"] = main_df[\"body\"].apply(spacy_lemmatizer)\n",
    "# main_df[\"body\"] = main_df[\"body\"].apply(nltk_stemmer)\n",
    "\n",
    "# Encode labels\n",
    "main_df[\"problem\"] = main_df[\"problem\"].apply(lambda x: label_to_ind[x])"
   ]
  },
  {
   "attachments": {},
   "cell_type": "markdown",
   "metadata": {},
   "source": [
    "# Neural Networks"
   ]
  },
  {
   "cell_type": "code",
   "execution_count": 15,
   "metadata": {},
   "outputs": [],
   "source": [
    "# Split the inputs and the labels\n",
    "df_inputs = main_df[\"body\"].to_list()\n",
    "df_labels = main_df[\"problem\"].to_list()"
   ]
  },
  {
   "cell_type": "code",
   "execution_count": 16,
   "metadata": {},
   "outputs": [],
   "source": [
    "device = torch.device(\"cuda\" if torch.cuda.is_available() else \"cpu\")\n",
    "num_classes = len(set(df_labels))\n",
    "\n",
    "# Split training set into train and val set\n",
    "train_inputs, val_inputs, train_labels, val_labels = train_test_split(df_inputs, df_labels, test_size=0.2, random_state=42)"
   ]
  },
  {
   "cell_type": "code",
   "execution_count": 17,
   "metadata": {},
   "outputs": [
    {
     "ename": "TypeError",
     "evalue": "build_vocab_from_iterator() got an unexpected keyword argument 'min_freq'",
     "output_type": "error",
     "traceback": [
      "\u001b[0;31m---------------------------------------------------------------------------\u001b[0m",
      "\u001b[0;31mTypeError\u001b[0m                                 Traceback (most recent call last)",
      "Cell \u001b[0;32mIn[17], line 10\u001b[0m\n\u001b[1;32m      8\u001b[0m unk_ind \u001b[39m=\u001b[39m \u001b[39m0\u001b[39m\n\u001b[1;32m      9\u001b[0m pad_ind \u001b[39m=\u001b[39m \u001b[39m1\u001b[39m\n\u001b[0;32m---> 10\u001b[0m vocab_encoder \u001b[39m=\u001b[39m build_vocab_from_iterator(\n\u001b[1;32m     11\u001b[0m             getTokens(train_inputs),\n\u001b[1;32m     12\u001b[0m             min_freq \u001b[39m=\u001b[39;49m \u001b[39m1\u001b[39;49m,\n\u001b[1;32m     13\u001b[0m             specials \u001b[39m=\u001b[39;49m [\u001b[39m\"\u001b[39;49m\u001b[39m<UNK>\u001b[39;49m\u001b[39m\"\u001b[39;49m, \u001b[39m\"\u001b[39;49m\u001b[39m<PAD>\u001b[39;49m\u001b[39m\"\u001b[39;49m],\n\u001b[1;32m     14\u001b[0m             special_first \u001b[39m=\u001b[39;49m \u001b[39mTrue\u001b[39;49;00m\n\u001b[1;32m     15\u001b[0m         )\n\u001b[1;32m     16\u001b[0m vocab_encoder\u001b[39m.\u001b[39mset_default_index(unk_ind)\n",
      "\u001b[0;31mTypeError\u001b[0m: build_vocab_from_iterator() got an unexpected keyword argument 'min_freq'"
     ]
    }
   ],
   "source": [
    "# Create tokenizer and vocab encoder (for nn.Embedding layer)\n",
    "# Though ended up not using vocab encoder due to poor performance and used Glove encodings instead\n",
    "tokenizer = get_tokenizer(\"spacy\", \"en_core_web_sm\")\n",
    "def getTokens(lines):\n",
    "    for line in lines:\n",
    "        yield tokenizer(line)\n",
    "\n",
    "unk_ind = 0\n",
    "pad_ind = 1\n",
    "vocab_encoder = build_vocab_from_iterator(\n",
    "            getTokens(train_inputs),\n",
    "            min_freq = 1,\n",
    "            specials = [\"<UNK>\", \"<PAD>\"],\n",
    "            special_first = True\n",
    "        )\n",
    "vocab_encoder.set_default_index(unk_ind)"
   ]
  },
  {
   "cell_type": "code",
   "execution_count": 20,
   "metadata": {},
   "outputs": [
    {
     "ename": "NameError",
     "evalue": "name 'vocab_encoder' is not defined",
     "output_type": "error",
     "traceback": [
      "\u001b[0;31m---------------------------------------------------------------------------\u001b[0m",
      "\u001b[0;31mNameError\u001b[0m                                 Traceback (most recent call last)",
      "Cell \u001b[0;32mIn[20], line 4\u001b[0m\n\u001b[1;32m      1\u001b[0m \u001b[39m# Split training set into train and val set\u001b[39;00m\n\u001b[1;32m      2\u001b[0m train_inputs, val_inputs, train_labels, val_labels \u001b[39m=\u001b[39m train_test_split(df_inputs, df_labels, test_size\u001b[39m=\u001b[39m\u001b[39m0.2\u001b[39m, random_state\u001b[39m=\u001b[39m\u001b[39m42\u001b[39m)\n\u001b[0;32m----> 4\u001b[0m train_dataset \u001b[39m=\u001b[39m CustomDataset(train_inputs, train_labels, tokenizer, vocab_encoder, max_length \u001b[39m=\u001b[39m \u001b[39m100\u001b[39m)\n\u001b[1;32m      5\u001b[0m train_dataloader \u001b[39m=\u001b[39m DataLoader(train_dataset, batch_size \u001b[39m=\u001b[39m \u001b[39m16\u001b[39m, shuffle\u001b[39m=\u001b[39m\u001b[39mTrue\u001b[39;00m)\n\u001b[1;32m      6\u001b[0m seq_len \u001b[39m=\u001b[39m \u001b[39mlen\u001b[39m(\u001b[39mnext\u001b[39m(\u001b[39miter\u001b[39m(train_dataset))[\u001b[39m0\u001b[39m])\n",
      "\u001b[0;31mNameError\u001b[0m: name 'vocab_encoder' is not defined"
     ]
    }
   ],
   "source": [
    "# Split training set into train and val set\n",
    "train_inputs, val_inputs, train_labels, val_labels = train_test_split(df_inputs, df_labels, test_size=0.2, random_state=42)\n",
    "\n",
    "train_dataset = CustomDataset(train_inputs, train_labels, tokenizer, vocab_encoder, max_length = 100)\n",
    "train_dataloader = DataLoader(train_dataset, batch_size = 16, shuffle=True)\n",
    "seq_len = len(next(iter(train_dataset))[0])\n",
    "\n",
    "val_dataset = CustomDataset(val_inputs, val_labels, tokenizer, vocab_encoder, max_length = seq_len, impose_len = True)\n",
    "val_dataloader = DataLoader(val_dataset, batch_size = 16, shuffle=False)\n",
    "\n",
    "\n",
    "# Initialize Glove\n",
    "glove = GloVe(\"840B\", dim=300)\n",
    "\n",
    "glove_train_dataset = GloveDataset(glove, train_inputs, train_labels, tokenizer, max_length = 100)\n",
    "glove_train_dataloader = DataLoader(glove_train_dataset, batch_size = 16, shuffle=True)\n",
    "seq_len = len(next(iter(train_dataset))[0])\n",
    "\n",
    "glove_val_dataset = GloveDataset(glove, val_inputs, val_labels, tokenizer, max_length = seq_len, impose_len = True)\n",
    "glove_val_dataloader = DataLoader(glove_val_dataset, batch_size = 16, shuffle=False)"
   ]
  },
  {
   "cell_type": "code",
   "execution_count": 27,
   "metadata": {},
   "outputs": [
    {
     "name": "stdout",
     "output_type": "stream",
     "text": [
      "Epoch 1\n",
      "train loss: 303.6297615903468\n",
      "val loss: 1041.2151994188391\n",
      "0.3348856900931414\n",
      "Epoch 2\n",
      "train loss: 182.84316887105817\n",
      "val loss: 606.4827200167266\n",
      "0.6769686706181203\n",
      "Epoch 3\n",
      "train loss: 127.12496582195834\n",
      "val loss: 516.1234101786844\n",
      "0.7320067739204065\n",
      "Epoch 4\n",
      "train loss: 108.284314200006\n",
      "val loss: 494.9464341728087\n",
      "0.7383573243014394\n",
      "Epoch 5\n",
      "train loss: 97.6251027077957\n",
      "val loss: 506.487633973032\n",
      "0.7349703640982218\n",
      "Epoch 6\n",
      "train loss: 86.72282928004348\n",
      "val loss: 506.0006293273396\n",
      "0.7430143945808637\n",
      "Epoch 7\n",
      "train loss: 73.39180800067868\n",
      "val loss: 541.7905110080397\n",
      "0.729043183742591\n",
      "Epoch 8\n",
      "train loss: 61.37329641317425\n",
      "val loss: 565.8850406598581\n",
      "0.731160033869602\n",
      "Epoch 9\n",
      "train loss: 46.16666278743188\n",
      "val loss: 627.9883554219492\n",
      "0.7163420829805249\n",
      "Epoch 10\n",
      "train loss: 34.414363836661536\n",
      "val loss: 734.8278858821136\n",
      "0.7138018628281118\n"
     ]
    }
   ],
   "source": [
    "# Code used for single estimator and hyperparameter tuning\n",
    "model = RNNGloveClassifier(output_size=num_classes,hidden_size=256, num_layers = 4)\n",
    "#model = CNNGloveClassifier(num_classes, seq_len = seq_len)\n",
    "train_inputs, val_inputs, train_labels, val_labels = train_test_split(df_inputs, df_labels, test_size=0.2, random_state=42)\n",
    "glove = GloVe(\"840B\", dim=300)\n",
    "glove_train_dataset = GloveDataset(glove, train_inputs, train_labels, tokenizer, max_length = 100)\n",
    "seq_len = len(next(iter(glove_train_dataset))[0])\n",
    "glove_train_dataloader = DataLoader(glove_train_dataset, batch_size = 64, shuffle=True)\n",
    "glove_val_dataset = GloveDataset(glove, val_inputs, val_labels, tokenizer, max_length = seq_len, impose_len = True)\n",
    "glove_val_dataloader = DataLoader(glove_val_dataset, batch_size = 16, shuffle=False)\n",
    "model.to(device)\n",
    "criterion = nn.CrossEntropyLoss()\n",
    "optimizer = optim.Adam(model.parameters(), lr=0.001)\n",
    "num_epochs = 10\n",
    "for i in range(num_epochs):\n",
    "    print(f\"Epoch {i+1}\")\n",
    "    train_loss = 0\n",
    "    val_loss = 0\n",
    "\n",
    "    model.train()\n",
    "    for inputs, labels in glove_train_dataloader:\n",
    "        inputs = inputs.to(device)\n",
    "        labels = labels.to(device)\n",
    "        predictions = model(inputs)\n",
    "        loss = criterion(predictions, labels)\n",
    "        optimizer.zero_grad()\n",
    "        loss.backward()\n",
    "        optimizer.step()\n",
    "        train_loss += loss.item()\n",
    "    print(f\"train loss: {(train_loss/len(glove_train_dataset))*10000}\")\n",
    "\n",
    "    model.eval()\n",
    "    val_predictions = []\n",
    "    val_targets = []\n",
    "    with torch.no_grad():\n",
    "        for inputs, labels in glove_val_dataloader:\n",
    "            inputs = inputs.to(device)\n",
    "            labels = labels.to(device)\n",
    "            predictions = model(inputs)\n",
    "            loss = criterion(predictions, labels)\n",
    "            val_loss += loss.item()\n",
    "            val_targets += labels.cpu()\n",
    "            val_predictions += predictions.cpu().argmax(dim=1)\n",
    "\n",
    "    print(f\"val loss: {(val_loss/len(glove_val_dataset))*10000}\")\n",
    "    print(accuracy_score(val_predictions, val_targets))"
   ]
  },
  {
   "cell_type": "code",
   "execution_count": 26,
   "metadata": {},
   "outputs": [
    {
     "name": "stdout",
     "output_type": "stream",
     "text": [
      "======\n",
      "0.7231160033869601\n",
      "              precision    recall  f1-score   support\n",
      "\n",
      "           0       0.80      0.68      0.73       363\n",
      "           1       0.79      0.74      0.76       320\n",
      "           2       0.55      0.77      0.64       219\n",
      "           3       0.60      0.54      0.57       325\n",
      "           4       0.62      0.70      0.66       261\n",
      "           5       0.72      0.72      0.72       298\n",
      "           6       0.86      0.89      0.88       304\n",
      "           7       0.87      0.77      0.82       272\n",
      "\n",
      "    accuracy                           0.72      2362\n",
      "   macro avg       0.73      0.73      0.72      2362\n",
      "weighted avg       0.73      0.72      0.72      2362\n",
      "\n"
     ]
    }
   ],
   "source": [
    "print(\"======\")\n",
    "print(f1_score(val_predictions, val_targets, average=\"micro\"))\n",
    "print(classification_report(val_predictions, val_targets))\n"
   ]
  },
  {
   "cell_type": "code",
   "execution_count": null,
   "metadata": {},
   "outputs": [],
   "source": []
  }
 ],
 "metadata": {
  "kernelspec": {
   "display_name": "newsapi",
   "language": "python",
   "name": "python3"
  },
  "language_info": {
   "codemirror_mode": {
    "name": "ipython",
    "version": 3
   },
   "file_extension": ".py",
   "mimetype": "text/x-python",
   "name": "python",
   "nbconvert_exporter": "python",
   "pygments_lexer": "ipython3",
   "version": "3.9.16"
  },
  "vscode": {
   "interpreter": {
    "hash": "a2ba62319aaa37485adafec6256227f58818f389d94ef50b70467cdbcd924512"
   }
  }
 },
 "nbformat": 4,
 "nbformat_minor": 2
}
