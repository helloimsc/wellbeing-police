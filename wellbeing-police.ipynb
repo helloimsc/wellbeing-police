{
 "cells": [
  {
   "attachments": {},
   "cell_type": "markdown",
   "metadata": {},
   "source": [
    "# Wellbeing Police\n",
    "\n",
    "From various subreddit, we have scraped close to 4000 posts. The subreddits include \"r/SuicideWatch\", \"r/BipolarReddit\", \"r/Anxiety\", \"r/AnxietyDepression\", \"r/Depression\", and \"r/Happy\". Each of the subreddit posts currently sitting within its own csv file. We will see what are the fields that are consistent across the CSV files and choose those applicable. Clean up the data, removed the columns not needed. \n",
    "\n",
    "As all the scrapes was created from the same script, the columns of the resulting csv are same across the files. \n",
    "We will proceed to label them according to the subreddit they came from and combine them into a single dataframe."
   ]
  },
  {
   "cell_type": "code",
   "execution_count": 39,
   "metadata": {},
   "outputs": [
    {
     "name": "stdout",
     "output_type": "stream",
     "text": [
      "The autoreload extension is already loaded. To reload it, use:\n",
      "  %reload_ext autoreload\n"
     ]
    }
   ],
   "source": [
    "%load_ext autoreload\n",
    "%autoreload 2"
   ]
  },
  {
   "cell_type": "code",
   "execution_count": 40,
   "metadata": {},
   "outputs": [],
   "source": [
    "import pandas as pd\n",
    "import glob\n",
    "import os"
   ]
  },
  {
   "cell_type": "code",
   "execution_count": 41,
   "metadata": {},
   "outputs": [
    {
     "name": "stdout",
     "output_type": "stream",
     "text": [
      "(8899, 3)\n"
     ]
    },
    {
     "data": {
      "text/html": [
       "<div>\n",
       "<style scoped>\n",
       "    .dataframe tbody tr th:only-of-type {\n",
       "        vertical-align: middle;\n",
       "    }\n",
       "\n",
       "    .dataframe tbody tr th {\n",
       "        vertical-align: top;\n",
       "    }\n",
       "\n",
       "    .dataframe thead th {\n",
       "        text-align: right;\n",
       "    }\n",
       "</style>\n",
       "<table border=\"1\" class=\"dataframe\">\n",
       "  <thead>\n",
       "    <tr style=\"text-align: right;\">\n",
       "      <th></th>\n",
       "      <th>title</th>\n",
       "      <th>subreddit</th>\n",
       "      <th>body</th>\n",
       "    </tr>\n",
       "  </thead>\n",
       "  <tbody>\n",
       "    <tr>\n",
       "      <th>0</th>\n",
       "      <td>Weekly thread: Do I have an eating disorder?</td>\n",
       "      <td>EatingDisorders</td>\n",
       "      <td>This is a weekly thread to ask about eating di...</td>\n",
       "    </tr>\n",
       "    <tr>\n",
       "      <th>1</th>\n",
       "      <td>I hope this message helps someone</td>\n",
       "      <td>EatingDisorders</td>\n",
       "      <td>[https://www.pinterest.com/pin/932245191595710...</td>\n",
       "    </tr>\n",
       "    <tr>\n",
       "      <th>2</th>\n",
       "      <td>Should I have this bit of cake? 🤔</td>\n",
       "      <td>EatingDisorders</td>\n",
       "      <td>Was my boyfriend birthday a few days ago, not ...</td>\n",
       "    </tr>\n",
       "    <tr>\n",
       "      <th>3</th>\n",
       "      <td>Constant illness preventing weight gain in rec...</td>\n",
       "      <td>EatingDisorders</td>\n",
       "      <td>I(25F) have had AN now for over half my life. ...</td>\n",
       "    </tr>\n",
       "    <tr>\n",
       "      <th>4</th>\n",
       "      <td>how to stay consistent in eating?</td>\n",
       "      <td>EatingDisorders</td>\n",
       "      <td>i’m not sure if i have an eating disorder, but...</td>\n",
       "    </tr>\n",
       "  </tbody>\n",
       "</table>\n",
       "</div>"
      ],
      "text/plain": [
       "                                               title  ...                                               body\n",
       "0       Weekly thread: Do I have an eating disorder?  ...  This is a weekly thread to ask about eating di...\n",
       "1                  I hope this message helps someone  ...  [https://www.pinterest.com/pin/932245191595710...\n",
       "2                  Should I have this bit of cake? 🤔  ...  Was my boyfriend birthday a few days ago, not ...\n",
       "3  Constant illness preventing weight gain in rec...  ...  I(25F) have had AN now for over half my life. ...\n",
       "4                  how to stay consistent in eating?  ...  i’m not sure if i have an eating disorder, but...\n",
       "\n",
       "[5 rows x 3 columns]"
      ]
     },
     "execution_count": 41,
     "metadata": {},
     "output_type": "execute_result"
    }
   ],
   "source": [
    "path = \"./reddit/csvs/\"\n",
    "all_csvs = glob.glob(os.path.join(path, \"*.csv\"))\n",
    "\n",
    "all_dfs = []\n",
    "for filename in all_csvs:\n",
    "    df = pd.read_csv(filename, index_col=None, header=0)\n",
    "    df = df[[\"title\", \"subreddit\", \"body\"]]\n",
    "    all_dfs.append(df)\n",
    "\n",
    "main_df = pd.concat(all_dfs)\n",
    "print(main_df.shape)\n",
    "main_df.head()\n",
    "    "
   ]
  },
  {
   "attachments": {},
   "cell_type": "markdown",
   "metadata": {},
   "source": [
    "A few of the subreddit is indicating the same underlying mental problems, we proceed to add an attribute such that these minor differentiation will be grouped for better and easier identification."
   ]
  },
  {
   "cell_type": "code",
   "execution_count": 42,
   "metadata": {},
   "outputs": [
    {
     "data": {
      "text/html": [
       "<div>\n",
       "<style scoped>\n",
       "    .dataframe tbody tr th:only-of-type {\n",
       "        vertical-align: middle;\n",
       "    }\n",
       "\n",
       "    .dataframe tbody tr th {\n",
       "        vertical-align: top;\n",
       "    }\n",
       "\n",
       "    .dataframe thead th {\n",
       "        text-align: right;\n",
       "    }\n",
       "</style>\n",
       "<table border=\"1\" class=\"dataframe\">\n",
       "  <thead>\n",
       "    <tr style=\"text-align: right;\">\n",
       "      <th></th>\n",
       "      <th>title</th>\n",
       "      <th>subreddit</th>\n",
       "      <th>body</th>\n",
       "      <th>problem</th>\n",
       "    </tr>\n",
       "  </thead>\n",
       "  <tbody>\n",
       "    <tr>\n",
       "      <th>0</th>\n",
       "      <td>Weekly thread: Do I have an eating disorder?</td>\n",
       "      <td>EatingDisorders</td>\n",
       "      <td>This is a weekly thread to ask about eating di...</td>\n",
       "      <td>eating disorder</td>\n",
       "    </tr>\n",
       "    <tr>\n",
       "      <th>1</th>\n",
       "      <td>I hope this message helps someone</td>\n",
       "      <td>EatingDisorders</td>\n",
       "      <td>[https://www.pinterest.com/pin/932245191595710...</td>\n",
       "      <td>eating disorder</td>\n",
       "    </tr>\n",
       "    <tr>\n",
       "      <th>2</th>\n",
       "      <td>Should I have this bit of cake? 🤔</td>\n",
       "      <td>EatingDisorders</td>\n",
       "      <td>Was my boyfriend birthday a few days ago, not ...</td>\n",
       "      <td>eating disorder</td>\n",
       "    </tr>\n",
       "    <tr>\n",
       "      <th>3</th>\n",
       "      <td>Constant illness preventing weight gain in rec...</td>\n",
       "      <td>EatingDisorders</td>\n",
       "      <td>I(25F) have had AN now for over half my life. ...</td>\n",
       "      <td>eating disorder</td>\n",
       "    </tr>\n",
       "    <tr>\n",
       "      <th>4</th>\n",
       "      <td>how to stay consistent in eating?</td>\n",
       "      <td>EatingDisorders</td>\n",
       "      <td>i’m not sure if i have an eating disorder, but...</td>\n",
       "      <td>eating disorder</td>\n",
       "    </tr>\n",
       "  </tbody>\n",
       "</table>\n",
       "</div>"
      ],
      "text/plain": [
       "                                               title  ...          problem\n",
       "0       Weekly thread: Do I have an eating disorder?  ...  eating disorder\n",
       "1                  I hope this message helps someone  ...  eating disorder\n",
       "2                  Should I have this bit of cake? 🤔  ...  eating disorder\n",
       "3  Constant illness preventing weight gain in rec...  ...  eating disorder\n",
       "4                  how to stay consistent in eating?  ...  eating disorder\n",
       "\n",
       "[5 rows x 4 columns]"
      ]
     },
     "execution_count": 42,
     "metadata": {},
     "output_type": "execute_result"
    }
   ],
   "source": [
    "sub_problem_mapping = {\n",
    "    \"ptsd\": \"PTSD\",\n",
    "    \"Anxiety\": \"anxiety\",\n",
    "    \"AnxietyDepression\": \"anxiety\",\n",
    "    \"SuicideWatch\": \"suicidal\",\n",
    "    \"depression\": \"depression\", \n",
    "    \"BipolarReddit\": \"bipolar\",\n",
    "    \"schizophrenia\": \"schizophrenia\",\n",
    "    \"EDAnonymous\": \"eating disorder\",\n",
    "    \"EatingDisorders\": \"eating disorder\"\n",
    "}\n",
    "\n",
    "main_df[\"problem\"] = [sub_problem_mapping[s] for s in main_df[\"subreddit\"]]\n",
    "main_df.head()"
   ]
  },
  {
   "cell_type": "code",
   "execution_count": 43,
   "metadata": {},
   "outputs": [],
   "source": [
    "from text_processing import text_processing"
   ]
  },
  {
   "cell_type": "code",
   "execution_count": 55,
   "metadata": {},
   "outputs": [
    {
     "data": {
      "text/html": [
       "<div>\n",
       "<style scoped>\n",
       "    .dataframe tbody tr th:only-of-type {\n",
       "        vertical-align: middle;\n",
       "    }\n",
       "\n",
       "    .dataframe tbody tr th {\n",
       "        vertical-align: top;\n",
       "    }\n",
       "\n",
       "    .dataframe thead th {\n",
       "        text-align: right;\n",
       "    }\n",
       "</style>\n",
       "<table border=\"1\" class=\"dataframe\">\n",
       "  <thead>\n",
       "    <tr style=\"text-align: right;\">\n",
       "      <th></th>\n",
       "      <th>title</th>\n",
       "      <th>subreddit</th>\n",
       "      <th>body</th>\n",
       "      <th>problem</th>\n",
       "    </tr>\n",
       "  </thead>\n",
       "  <tbody>\n",
       "    <tr>\n",
       "      <th>0</th>\n",
       "      <td>weekly thread: do i have an eating disorder?</td>\n",
       "      <td>eatingdisorders</td>\n",
       "      <td>this is a weekly thread to ask about eating di...</td>\n",
       "      <td>eating disorder</td>\n",
       "    </tr>\n",
       "    <tr>\n",
       "      <th>2</th>\n",
       "      <td>should i have this bit of cake?</td>\n",
       "      <td>eatingdisorders</td>\n",
       "      <td>was my boyfriend birthday a few days ago, not ...</td>\n",
       "      <td>eating disorder</td>\n",
       "    </tr>\n",
       "    <tr>\n",
       "      <th>3</th>\n",
       "      <td>constant illness preventing weight gain in rec...</td>\n",
       "      <td>eatingdisorders</td>\n",
       "      <td>i(25f) have had an now for over half my life. ...</td>\n",
       "      <td>eating disorder</td>\n",
       "    </tr>\n",
       "    <tr>\n",
       "      <th>4</th>\n",
       "      <td>how to stay consistent in eating?</td>\n",
       "      <td>eatingdisorders</td>\n",
       "      <td>i’m not sure if i have an eating disorder, but...</td>\n",
       "      <td>eating disorder</td>\n",
       "    </tr>\n",
       "    <tr>\n",
       "      <th>5</th>\n",
       "      <td>hypochondriac with an ed. could use advice</td>\n",
       "      <td>eatingdisorders</td>\n",
       "      <td>i'm a textbook hypochondriac and bulimic. sinc...</td>\n",
       "      <td>eating disorder</td>\n",
       "    </tr>\n",
       "  </tbody>\n",
       "</table>\n",
       "</div>"
      ],
      "text/plain": [
       "                                               title  ...          problem\n",
       "0       weekly thread: do i have an eating disorder?  ...  eating disorder\n",
       "2                    should i have this bit of cake?  ...  eating disorder\n",
       "3  constant illness preventing weight gain in rec...  ...  eating disorder\n",
       "4                  how to stay consistent in eating?  ...  eating disorder\n",
       "5         hypochondriac with an ed. could use advice  ...  eating disorder\n",
       "\n",
       "[5 rows x 4 columns]"
      ]
     },
     "execution_count": 55,
     "metadata": {},
     "output_type": "execute_result"
    }
   ],
   "source": [
    "clean_text = text_processing()\n",
    "\n",
    "clean_text.process_data(main_df, headers = ['title', 'subreddit', 'body'])\n",
    "\n",
    "main_df.head()"
   ]
  }
 ],
 "metadata": {
  "kernelspec": {
   "display_name": "cs5246",
   "language": "python",
   "name": "python3"
  },
  "language_info": {
   "codemirror_mode": {
    "name": "ipython",
    "version": 3
   },
   "file_extension": ".py",
   "mimetype": "text/x-python",
   "name": "python",
   "nbconvert_exporter": "python",
   "pygments_lexer": "ipython3",
   "version": "3.9.16"
  },
  "orig_nbformat": 4,
  "vscode": {
   "interpreter": {
    "hash": "765828f8c836b5785102bc9c70f29a7af25fc7ff828fe3e5bc72b7ce0758f5e8"
   }
  }
 },
 "nbformat": 4,
 "nbformat_minor": 2
}
