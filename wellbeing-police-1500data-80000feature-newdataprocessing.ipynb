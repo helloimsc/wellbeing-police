{
 "cells": [
  {
   "cell_type": "markdown",
   "metadata": {},
   "source": [
    "# Wellbeing Police\n",
    "\n",
    "From various subreddit, we have scraped close to 4000 posts. The subreddits include \"r/SuicideWatch\", \"r/BipolarReddit\", \"r/Anxiety\", \"r/AnxietyDepression\", \"r/Depression\", and \"r/Happy\". Each of the subreddit posts currently sitting within its own csv file. We will see what are the fields that are consistent across the CSV files and choose those applicable. Clean up the data, removed the columns not needed. \n",
    "\n",
    "As all the scrapes was created from the same script, the columns of the resulting csv are same across the files. \n",
    "We will proceed to label them according to the subreddit they came from and combine them into a single dataframe."
   ]
  },
  {
   "cell_type": "code",
   "execution_count": 1,
   "metadata": {},
   "outputs": [],
   "source": [
    "%load_ext autoreload\n",
    "%autoreload 2"
   ]
  },
  {
   "cell_type": "code",
   "execution_count": 2,
   "metadata": {},
   "outputs": [],
   "source": [
    "import numpy as np\n",
    "import pandas as pd\n",
    "import glob\n",
    "import os\n",
    "import spacy\n",
    "import re\n",
    "\n",
    "from wordcloud import WordCloud\n",
    "import matplotlib.pyplot as plt\n",
    "import seaborn as sns\n",
    "from collections import Counter\n",
    "\n",
    "from sklearn.feature_extraction.text import TfidfVectorizer\n",
    "from nltk.stem.porter import PorterStemmer\n",
    "from torchtext.data.utils import get_tokenizer\n",
    "from sklearn.metrics import classification_report\n",
    "\n",
    "from src.utils import color_func, get_mask, search,text_normalization"
   ]
  },
  {
   "cell_type": "markdown",
   "metadata": {},
   "source": [
    "### Data Combination and Labeling\n",
    "\n",
    "We retrieved posts in “Hot” section from various subreddits:\n",
    "`r/ptsd`,`r/Anxiety`,`r/SuicideWatch`,`r/depression`,`r/BipolarReddit`,`r/schizophrenia`,`r/EDAnonymous`,`r/EatingDisorders`"
   ]
  },
  {
   "cell_type": "code",
   "execution_count": 3,
   "metadata": {},
   "outputs": [
    {
     "name": "stdout",
     "output_type": "stream",
     "text": [
      "(34785, 3)\n",
      "(24291, 3)\n",
      "(24291, 3)\n",
      "(24291, 3)\n",
      "(24291, 3)\n"
     ]
    },
    {
     "data": {
      "text/html": [
       "<div>\n",
       "<style scoped>\n",
       "    .dataframe tbody tr th:only-of-type {\n",
       "        vertical-align: middle;\n",
       "    }\n",
       "\n",
       "    .dataframe tbody tr th {\n",
       "        vertical-align: top;\n",
       "    }\n",
       "\n",
       "    .dataframe thead th {\n",
       "        text-align: right;\n",
       "    }\n",
       "</style>\n",
       "<table border=\"1\" class=\"dataframe\">\n",
       "  <thead>\n",
       "    <tr style=\"text-align: right;\">\n",
       "      <th></th>\n",
       "      <th>title</th>\n",
       "      <th>subreddit</th>\n",
       "      <th>body</th>\n",
       "    </tr>\n",
       "  </thead>\n",
       "  <tbody>\n",
       "    <tr>\n",
       "      <th>2</th>\n",
       "      <td>Just swallowed half a bottle of Tylenol waitin...</td>\n",
       "      <td>SuicideWatch</td>\n",
       "      <td>Just swallowed half a bottle of Tylenol waitin...</td>\n",
       "    </tr>\n",
       "    <tr>\n",
       "      <th>3</th>\n",
       "      <td>I just want to be normal</td>\n",
       "      <td>SuicideWatch</td>\n",
       "      <td>I just want to be normal I’ve been depressed/s...</td>\n",
       "    </tr>\n",
       "    <tr>\n",
       "      <th>4</th>\n",
       "      <td>I am really struggling. I need help. Anything ...</td>\n",
       "      <td>SuicideWatch</td>\n",
       "      <td>I am really struggling. I need help. Anything ...</td>\n",
       "    </tr>\n",
       "    <tr>\n",
       "      <th>5</th>\n",
       "      <td>i discontinued my own suicide attempt</td>\n",
       "      <td>SuicideWatch</td>\n",
       "      <td>i discontinued my own suicide attempt i don‘t ...</td>\n",
       "    </tr>\n",
       "    <tr>\n",
       "      <th>6</th>\n",
       "      <td>I always look outside of the window, dreaming ...</td>\n",
       "      <td>SuicideWatch</td>\n",
       "      <td>I always look outside of the window, dreaming ...</td>\n",
       "    </tr>\n",
       "  </tbody>\n",
       "</table>\n",
       "</div>"
      ],
      "text/plain": [
       "                                               title     subreddit  \\\n",
       "2  Just swallowed half a bottle of Tylenol waitin...  SuicideWatch   \n",
       "3                           I just want to be normal  SuicideWatch   \n",
       "4  I am really struggling. I need help. Anything ...  SuicideWatch   \n",
       "5              i discontinued my own suicide attempt  SuicideWatch   \n",
       "6  I always look outside of the window, dreaming ...  SuicideWatch   \n",
       "\n",
       "                                                body  \n",
       "2  Just swallowed half a bottle of Tylenol waitin...  \n",
       "3  I just want to be normal I’ve been depressed/s...  \n",
       "4  I am really struggling. I need help. Anything ...  \n",
       "5  i discontinued my own suicide attempt i don‘t ...  \n",
       "6  I always look outside of the window, dreaming ...  "
      ]
     },
     "execution_count": 3,
     "metadata": {},
     "output_type": "execute_result"
    }
   ],
   "source": [
    "path = \"./reddit/csvs/\"\n",
    "all_csvs = glob.glob(os.path.join(path, \"*.csv\"))\n",
    "\n",
    "all_dfs = []\n",
    "for filename in all_csvs:\n",
    "    df = pd.read_csv(filename, index_col=None, header=0)\n",
    "    df = df[[\"title\", \"subreddit\", \"body\"]]\n",
    "    df = df[2:]\n",
    "    \n",
    "    # ## manually remove irrelevant pinned posts\n",
    "    # if df.iloc[0].subreddit in [\"ptsd\",'Anxiety',\"SuicideWatch\",'EDAnonymous']: \n",
    "    #     df=df[2:]\n",
    "    # if df.iloc[0].subreddit in ['BipolarReddit','schizophrenia','EatingDisorders']:\n",
    "    #     df=df[1:]\n",
    "        \n",
    "    all_dfs.append(df)\n",
    "\n",
    "# main_df = pd.concat(all_dfs)\n",
    "# print(main_df.shape)\n",
    "# main_df = main_df.drop_duplicates()\n",
    "# print(main_df.shape)\n",
    "# main_df = main_df.dropna()\n",
    "# print(main_df.shape)\n",
    "# main_df.head()\n",
    "\n",
    "\n",
    "# main_df[\"body\"] = main_df[\"title\"] + \" \" + main_df[\"body\"]\n",
    "# main_df = main_df.drop_duplicates()\n",
    "# print(main_df.shape)\n",
    "# main_df = main_df.dropna()\n",
    "# print(main_df.shape)\n",
    "# main_df.head()\n",
    "\n",
    "main_df = pd.concat(all_dfs)\n",
    "print(main_df.shape)\n",
    "main_df = main_df.fillna('')\n",
    "main_df[\"body\"] = main_df[\"title\"] + \" \" + main_df[\"body\"]\n",
    "main_df = main_df.drop_duplicates()\n",
    "print(main_df.shape)\n",
    "main_df = main_df.dropna()\n",
    "print(main_df.shape)\n",
    "main_df.head()\n",
    "\n",
    "\n",
    "main_df = main_df.drop_duplicates()\n",
    "print(main_df.shape)\n",
    "main_df = main_df.dropna()\n",
    "print(main_df.shape)\n",
    "main_df.head()\n"
   ]
  },
  {
   "cell_type": "markdown",
   "metadata": {},
   "source": [
    "A few of the subreddit is indicating the same underlying mental problems, we proceed to add an attribute such that these minor differentiation will be grouped for better and easier identification."
   ]
  },
  {
   "cell_type": "code",
   "execution_count": 4,
   "metadata": {},
   "outputs": [
    {
     "data": {
      "text/plain": [
       "<Axes: title={'center': 'Class Counts'}>"
      ]
     },
     "execution_count": 4,
     "metadata": {},
     "output_type": "execute_result"
    },
    {
     "data": {
      "image/png": "[encoded data removed]",
      "text/plain": [
       "<Figure size 640x480 with 1 Axes>"
      ]
     },
     "metadata": {},
     "output_type": "display_data"
    }
   ],
   "source": [
    "sub_problem_mapping = {\n",
    "    \"ptsd\": \"PTSD\",\n",
    "    \"CPTSD\": \"PTSD\",\n",
    "    \"Anxiety\": \"anxiety\",\n",
    "    \"Anxietyhelp\": \"anxiety\",\n",
    "    \"SuicideWatch\": \"suicidal\",\n",
    "    \"selfharm\": \"suicidal\",\n",
    "    \"depression\": \"depression\",\n",
    "    \"depression_help\": \"depression\", \n",
    "    \"BipolarReddit\": \"bipolar\", \n",
    "    \"bipolar\": \"bipolar\",\n",
    "    \"schizophrenia\": \"schizophrenia\",\n",
    "    \"EDAnonymous\": \"eating disorder\",\n",
    "    \"EatingDisorders\": \"eating disorder\",\n",
    "    \"happy\": \"control\",\n",
    "    \"MadeMeSmile\": \"control\"\n",
    "}\n",
    "\n",
    "main_df[\"problem\"] = [sub_problem_mapping[s] for s in main_df[\"subreddit\"]]\n",
    "main_df.head()\n",
    "main_df[\"problem\"].value_counts().plot.bar(rot=0, title=\"Class Counts\")\n",
    "\n",
    "#NEED TO DECIDE whether need to drop control."
   ]
  },
  {
   "cell_type": "code",
   "execution_count": 5,
   "metadata": {},
   "outputs": [],
   "source": [
    "df_PTSD = main_df[main_df['problem'] == 'PTSD']\n",
    "df_anxiety = main_df[main_df['problem'] == 'anxiety']\n",
    "df_suicidal = main_df[main_df['problem'] == 'suicidal']\n",
    "df_depression = main_df[main_df['problem'] == 'depression']\n",
    "df_bipolar = main_df[main_df['problem'] == 'bipolar']\n",
    "df_schizophrenia = main_df[main_df['problem'] == 'schizophrenia']\n",
    "df_eating_disorder = main_df[main_df['problem'] == 'eating disorder']\n",
    "df_control = main_df[main_df['problem'] == 'control']\n",
    "\n",
    "df_PTSD = df_PTSD[:1500]\n",
    "df_anxiety = df_anxiety[:1500]\n",
    "df_suicidal = df_suicidal[:1500]\n",
    "df_depression = df_depression[:1500]\n",
    "df_bipolar = df_bipolar[:1500]\n",
    "df_schizophrenia = df_schizophrenia[:1500]\n",
    "df_eating_disorder = df_eating_disorder[:1500]\n",
    "# df_control = df_control[:1500]\n",
    "all_dfs = []\n",
    "all_dfs.append(df_PTSD)\n",
    "all_dfs.append(df_anxiety)\n",
    "all_dfs.append(df_suicidal)\n",
    "all_dfs.append(df_depression)\n",
    "all_dfs.append(df_bipolar)\n",
    "all_dfs.append(df_schizophrenia)\n",
    "all_dfs.append(df_eating_disorder)\n",
    "all_dfs.append(df_control)\n",
    "main_df = pd.concat(all_dfs)"
   ]
  },
  {
   "cell_type": "code",
   "execution_count": 6,
   "metadata": {},
   "outputs": [
    {
     "data": {
      "text/plain": [
       "<Axes: title={'center': 'Class Counts'}>"
      ]
     },
     "execution_count": 6,
     "metadata": {},
     "output_type": "execute_result"
    },
    {
     "data": {
      "image/png": "[encoded data removed]",
      "text/plain": [
       "<Figure size 640x480 with 1 Axes>"
      ]
     },
     "metadata": {},
     "output_type": "display_data"
    }
   ],
   "source": [
    "main_df[\"problem\"].value_counts().plot.bar(rot=0, title=\"Class Counts\")"
   ]
  },
  {
   "cell_type": "code",
   "execution_count": 7,
   "metadata": {},
   "outputs": [],
   "source": [
    "\n",
    "# Normalization codes from the notebook\n",
    "# Note that we did not include removal of words in brackets as well as odd characters as\n",
    "# these may denote some emotion (anger for instance may lead to multiple !!!). \n",
    "def normalizer(s):\n",
    "    s = s.lower()                                                   # Lowercase whole sentence\n",
    "    s = re.sub(r'\\s+', ' ', s)                                      # Remove duplicate whitespaces\n",
    "    s = re.sub(r'([.]){2,}', ' ', s)                                # Remove ellipses ...\n",
    "    s = re.sub(r'([\\w.-]+)([,;])([\\w.-]+)', '\\g<1>\\g<2> \\g<3>', s)  # Add missing whitespace after , and ;\n",
    "    s = re.sub(r'(.+)\\1{2,}', '\\g<1>\\g<1>', s)                      # Reduce repeated sequences to 2\n",
    "    #s = re.sub(r'[\\(\\[].*?[\\)\\]]', ' ', s)                          # Remove all words in brackets\n",
    "    s = re.sub(r'(n\\'t)', ' not', s)                                # Resolve contraction \"-n't\"\n",
    "    # s = re.sub(r'[^a-zA-Z0-9_-]+', ' ', s)                         # Remove all \"odd\" characters\n",
    "    s = re.sub(r'\\s+', ' ', s)                                      # Remove duplicate whitespaces (again)\n",
    "    s = s.strip()                                                   # Remove trailing whitespaces\n",
    "    return s"
   ]
  },
  {
   "cell_type": "code",
   "execution_count": 8,
   "metadata": {},
   "outputs": [],
   "source": [
    "# Lemmatization was not used as it did not give good results during validation\n",
    "# A quick intuition as to why is that some similar meaning words can be used to convey different emotions\n",
    "\n",
    "# Lemmatization codes from provided notebook\n",
    "# Create our list of stopwords\n",
    "nlp = spacy.load('en_core_web_sm')\n",
    "stop_words = spacy.lang.en.stop_words.STOP_WORDS\n",
    "\n",
    "# Creating our tokenizer function\n",
    "def spacy_lemmatizer(sentence):\n",
    "    # Creating our token object, which is used to create documents with linguistic annotations.\n",
    "    mytokens = nlp(sentence)\n",
    "    # Lemmatizing each token and converting each token into lowercase\n",
    "    mytokens = [ word.lemma_ for word in mytokens ]\n",
    "    # Removing stop words\n",
    "    # mytokens = [ word for word in mytokens if word not in stop_words ]\n",
    "    # return preprocessed list of tokens\n",
    "    return \" \".join(mytokens)"
   ]
  },
  {
   "cell_type": "code",
   "execution_count": 9,
   "metadata": {},
   "outputs": [],
   "source": [
    "# Stemming was not used as it did not give good results during validation\n",
    "\n",
    "# Stemming codes from provided notebook\n",
    "stemmer = PorterStemmer()\n",
    "tokenizer = get_tokenizer(\"spacy\", \"en_core_web_sm\")\n",
    "\n",
    "def nltk_stemmer(s):\n",
    "    stemmed_words = []\n",
    "    token_list = tokenizer(s)\n",
    "    for word in token_list:\n",
    "        stemmed_words.append(stemmer.stem(word))\n",
    "    return \" \".join(stemmed_words)"
   ]
  },
  {
   "cell_type": "code",
   "execution_count": 10,
   "metadata": {},
   "outputs": [],
   "source": [
    "# Create the mapping from categorical label to its numerical encoding\n",
    "label_to_ind = {}\n",
    "ind_to_label = {}\n",
    "for ind, label in enumerate(main_df[\"problem\"].unique()):\n",
    "    label_to_ind[label] = ind\n",
    "    ind_to_label[ind] = label"
   ]
  },
  {
   "attachments": {},
   "cell_type": "markdown",
   "metadata": {},
   "source": [
    "### Text Cleaning and Processing\n",
    "- Remove emoticons and non-text characters\n",
    "- Remove excess newline and spacing characters added for emphasis (e.g., poetry paragraphing)\n",
    "- Remove hyperlinks and tags\n",
    "- Change text to lowercase\n",
    "- Simplify punctuation by removing repeated characters (e.g., \"?????\", \"!!!!\")"
   ]
  },
  {
   "cell_type": "code",
   "execution_count": 11,
   "metadata": {},
   "outputs": [],
   "source": [
    "from text_processing import text_processing"
   ]
  },
  {
   "cell_type": "code",
   "execution_count": 12,
   "metadata": {},
   "outputs": [
    {
     "data": {
      "text/html": [
       "<div>\n",
       "<style scoped>\n",
       "    .dataframe tbody tr th:only-of-type {\n",
       "        vertical-align: middle;\n",
       "    }\n",
       "\n",
       "    .dataframe tbody tr th {\n",
       "        vertical-align: top;\n",
       "    }\n",
       "\n",
       "    .dataframe thead th {\n",
       "        text-align: right;\n",
       "    }\n",
       "</style>\n",
       "<table border=\"1\" class=\"dataframe\">\n",
       "  <thead>\n",
       "    <tr style=\"text-align: right;\">\n",
       "      <th></th>\n",
       "      <th>title</th>\n",
       "      <th>subreddit</th>\n",
       "      <th>body</th>\n",
       "      <th>problem</th>\n",
       "    </tr>\n",
       "  </thead>\n",
       "  <tbody>\n",
       "    <tr>\n",
       "      <th>2</th>\n",
       "      <td>ptsd never getting better, don’t want to be al...</td>\n",
       "      <td>ptsd</td>\n",
       "      <td>ptsd never getting better, don’t want to be al...</td>\n",
       "      <td>PTSD</td>\n",
       "    </tr>\n",
       "    <tr>\n",
       "      <th>3</th>\n",
       "      <td>i can’t be bothered with people anymore</td>\n",
       "      <td>ptsd</td>\n",
       "      <td>i can’t be bothered with people anymore why do...</td>\n",
       "      <td>PTSD</td>\n",
       "    </tr>\n",
       "    <tr>\n",
       "      <th>4</th>\n",
       "      <td>i can't stop peeing my pants</td>\n",
       "      <td>ptsd</td>\n",
       "      <td>i can't stop peeing my pants this is incredibl...</td>\n",
       "      <td>PTSD</td>\n",
       "    </tr>\n",
       "    <tr>\n",
       "      <th>5</th>\n",
       "      <td>what tattoo should i get?</td>\n",
       "      <td>ptsd</td>\n",
       "      <td>what tattoo should i get? i was diagnosed with...</td>\n",
       "      <td>PTSD</td>\n",
       "    </tr>\n",
       "    <tr>\n",
       "      <th>6</th>\n",
       "      <td>migraines? visual issues</td>\n",
       "      <td>ptsd</td>\n",
       "      <td>migraines? visual issues trying to figure out ...</td>\n",
       "      <td>PTSD</td>\n",
       "    </tr>\n",
       "  </tbody>\n",
       "</table>\n",
       "</div>"
      ],
      "text/plain": [
       "                                               title subreddit  \\\n",
       "2  ptsd never getting better, don’t want to be al...      ptsd   \n",
       "3            i can’t be bothered with people anymore      ptsd   \n",
       "4                       i can't stop peeing my pants      ptsd   \n",
       "5                          what tattoo should i get?      ptsd   \n",
       "6                           migraines? visual issues      ptsd   \n",
       "\n",
       "                                                body problem  \n",
       "2  ptsd never getting better, don’t want to be al...    PTSD  \n",
       "3  i can’t be bothered with people anymore why do...    PTSD  \n",
       "4  i can't stop peeing my pants this is incredibl...    PTSD  \n",
       "5  what tattoo should i get? i was diagnosed with...    PTSD  \n",
       "6  migraines? visual issues trying to figure out ...    PTSD  "
      ]
     },
     "execution_count": 12,
     "metadata": {},
     "output_type": "execute_result"
    }
   ],
   "source": [
    "\n",
    "clean_text = text_processing()\n",
    "main_df = clean_text.process_data(main_df, headers = ['title', 'subreddit', 'body'])\n",
    "main_df.head()"
   ]
  },
  {
   "attachments": {},
   "cell_type": "markdown",
   "metadata": {},
   "source": [
    "### Apply further text normalization steps, tokenization and  lemmatization using spaCy\n",
    "\n",
    "We scrap common text abbreviations into a dictionary from below link and also manually added in some common abbreviate words. https://www.slicktext.com/blog/2019/02/text-abbreviations-guide/\n",
    "\n",
    "We use spaCy to perform tokenization and lemmatization."
   ]
  },
  {
   "cell_type": "code",
   "execution_count": 13,
   "metadata": {},
   "outputs": [],
   "source": [
    "# # Group the data by class label\n",
    "# groups = main_df.groupby('problem')\n",
    "\n",
    "# # Sample 2 rows from each group\n",
    "# sampled_data = groups.apply(lambda x: x.sample(n=100)).reset_index(drop=True)\n",
    "\n",
    "## Apply further cleaning steps before tokenization\n",
    "normalized_text = text_normalization()\n",
    "\n",
    "main_df = normalized_text.normalize_data(main_df)\n",
    "\n",
    "## save proccessed data for CNN use\n",
    "path = os.path.join(os.getcwd(),\"CNN\")\n",
    "main_df.to_csv(os.path.join(path,\"reddit_posts_proccessed.csv\"),index=False)"
   ]
  },
  {
   "cell_type": "code",
   "execution_count": 14,
   "metadata": {},
   "outputs": [],
   "source": [
    "# Apply text normalization\n",
    "# main_df[\"body\"] = main_df[\"body\"].apply(normalizer)\n",
    "# main_df[\"body\"] = main_df[\"body\"].apply(spacy_lemmatizer)\n",
    "# main_df[\"body\"] = main_df[\"body\"].apply(nltk_stemmer)\n",
    "\n",
    "# Encode labels\n",
    "main_df[\"problem\"] = main_df[\"problem\"].apply(lambda x: label_to_ind[x])"
   ]
  },
  {
   "cell_type": "markdown",
   "metadata": {},
   "source": [
    "### KNN-Classification\n",
    "\n",
    "#### Create Training & Test Set\n",
    "\n",
    "With the method `train_test_split()`, set the size of the test set to 20%."
   ]
  },
  {
   "cell_type": "code",
   "execution_count": 15,
   "metadata": {},
   "outputs": [],
   "source": [
    "from sklearn.feature_extraction.text import TfidfVectorizer\n",
    "from sklearn.neighbors import KNeighborsClassifier\n",
    "from sklearn.model_selection import train_test_split, cross_val_score, GridSearchCV\n",
    "from sklearn import metrics\n",
    "from sklearn.pipeline import Pipeline\n",
    "\n",
    "from tqdm import tqdm"
   ]
  },
  {
   "cell_type": "code",
   "execution_count": 16,
   "metadata": {},
   "outputs": [
    {
     "name": "stdout",
     "output_type": "stream",
     "text": [
      "Size of training set: 9445\n",
      "Size of test set: 2362\n"
     ]
    }
   ],
   "source": [
    "sentences = main_df.body\n",
    "labels = main_df.problem\n",
    "\n",
    "# Split sentences and labels into training and test set with a test set size of 20%\n",
    "sentences_train, sentences_test, labels_train, labels_test = train_test_split(sentences, labels, test_size=0.2, random_state=42)\n",
    "\n",
    "# We can directly convert the numerical class labels from lists to numpy arrays\n",
    "y_train = np.asarray(labels_train)\n",
    "y_test = np.asarray(labels_test)\n",
    "\n",
    "print(\"Size of training set: {}\".format(len(sentences_train)))\n",
    "print(\"Size of test set: {}\".format(len(sentences_test)))"
   ]
  },
  {
   "cell_type": "code",
   "execution_count": 17,
   "metadata": {},
   "outputs": [
    {
     "name": "stdout",
     "output_type": "stream",
     "text": [
      "49924\n"
     ]
    }
   ],
   "source": [
    "words = sentences_train.str.split().explode()\n",
    "unique_words = words.nunique()\n",
    "print(unique_words)"
   ]
  },
  {
   "cell_type": "markdown",
   "metadata": {},
   "source": [
    "#### KNN with Iteration to find best N-gram (1-3)"
   ]
  },
  {
   "cell_type": "code",
   "execution_count": 18,
   "metadata": {},
   "outputs": [
    {
     "name": "stderr",
     "output_type": "stream",
     "text": [
      "  2%|▏         | 1/60 [01:33<1:32:02, 93.60s/it]"
     ]
    },
    {
     "name": "stdout",
     "output_type": "stream",
     "text": [
      "======\n",
      "KNN/80000_new\\KNN_Ngram_1_K_7_f1_0.484.csv\n",
      "              precision    recall  f1-score   support\n",
      "\n",
      "           0       0.39      0.60      0.47       310\n",
      "           1       0.45      0.52      0.48       297\n",
      "           2       0.41      0.45      0.43       306\n",
      "           3       0.28      0.42      0.33       293\n",
      "           4       0.66      0.35      0.46       299\n",
      "           5       0.62      0.39      0.48       300\n",
      "           6       0.79      0.69      0.73       315\n",
      "           7       0.80      0.49      0.61       242\n",
      "\n",
      "    accuracy                           0.49      2362\n",
      "   macro avg       0.55      0.49      0.50      2362\n",
      "weighted avg       0.55      0.49      0.50      2362\n",
      "\n"
     ]
    },
    {
     "name": "stderr",
     "output_type": "stream",
     "text": [
      "  3%|▎         | 2/60 [04:05<2:03:34, 127.83s/it]"
     ]
    },
    {
     "name": "stdout",
     "output_type": "stream",
     "text": [
      "======\n",
      "KNN/80000_new\\KNN_Ngram_1_K_17_f1_0.502.csv\n",
      "              precision    recall  f1-score   support\n",
      "\n",
      "           0       0.42      0.64      0.51       310\n",
      "           1       0.58      0.51      0.54       297\n",
      "           2       0.44      0.44      0.44       306\n",
      "           3       0.28      0.54      0.37       293\n",
      "           4       0.74      0.38      0.51       299\n",
      "           5       0.69      0.40      0.50       300\n",
      "           6       0.75      0.72      0.73       315\n",
      "           7       0.86      0.47      0.61       242\n",
      "\n",
      "    accuracy                           0.52      2362\n",
      "   macro avg       0.59      0.51      0.53      2362\n",
      "weighted avg       0.59      0.52      0.53      2362\n",
      "\n"
     ]
    },
    {
     "name": "stderr",
     "output_type": "stream",
     "text": [
      "  5%|▌         | 3/60 [06:28<2:07:58, 134.71s/it]"
     ]
    },
    {
     "name": "stdout",
     "output_type": "stream",
     "text": [
      "======\n",
      "KNN/80000_new\\KNN_Ngram_1_K_27_f1_0.501.csv\n",
      "              precision    recall  f1-score   support\n",
      "\n",
      "           0       0.44      0.66      0.53       310\n",
      "           1       0.66      0.49      0.56       297\n",
      "           2       0.46      0.43      0.45       306\n",
      "           3       0.27      0.58      0.37       293\n",
      "           4       0.74      0.37      0.50       299\n",
      "           5       0.68      0.37      0.48       300\n",
      "           6       0.73      0.73      0.73       315\n",
      "           7       0.88      0.44      0.59       242\n",
      "\n",
      "    accuracy                           0.51      2362\n",
      "   macro avg       0.61      0.51      0.53      2362\n",
      "weighted avg       0.60      0.51      0.53      2362\n",
      "\n"
     ]
    },
    {
     "name": "stderr",
     "output_type": "stream",
     "text": [
      "  7%|▋         | 4/60 [08:53<2:09:28, 138.72s/it]"
     ]
    },
    {
     "name": "stdout",
     "output_type": "stream",
     "text": [
      "======\n",
      "KNN/80000_new\\KNN_Ngram_1_K_37_f1_0.496.csv\n",
      "              precision    recall  f1-score   support\n",
      "\n",
      "           0       0.43      0.66      0.52       310\n",
      "           1       0.72      0.51      0.59       297\n",
      "           2       0.45      0.41      0.43       306\n",
      "           3       0.25      0.57      0.35       293\n",
      "           4       0.76      0.38      0.51       299\n",
      "           5       0.71      0.38      0.50       300\n",
      "           6       0.74      0.74      0.74       315\n",
      "           7       0.89      0.41      0.56       242\n",
      "\n",
      "    accuracy                           0.51      2362\n",
      "   macro avg       0.62      0.51      0.53      2362\n",
      "weighted avg       0.61      0.51      0.53      2362\n",
      "\n"
     ]
    },
    {
     "name": "stderr",
     "output_type": "stream",
     "text": [
      "  8%|▊         | 5/60 [11:18<2:09:14, 140.98s/it]"
     ]
    },
    {
     "name": "stdout",
     "output_type": "stream",
     "text": [
      "======\n",
      "KNN/80000_new\\KNN_Ngram_1_K_47_f1_0.492.csv\n",
      "              precision    recall  f1-score   support\n",
      "\n",
      "           0       0.43      0.66      0.52       310\n",
      "           1       0.72      0.51      0.60       297\n",
      "           2       0.46      0.41      0.44       306\n",
      "           3       0.26      0.61      0.36       293\n",
      "           4       0.75      0.38      0.50       299\n",
      "           5       0.77      0.35      0.48       300\n",
      "           6       0.74      0.75      0.74       315\n",
      "           7       0.91      0.38      0.54       242\n",
      "\n",
      "    accuracy                           0.51      2362\n",
      "   macro avg       0.63      0.51      0.52      2362\n",
      "weighted avg       0.62      0.51      0.52      2362\n",
      "\n"
     ]
    },
    {
     "name": "stderr",
     "output_type": "stream",
     "text": [
      " 10%|█         | 6/60 [13:50<2:10:16, 144.75s/it]"
     ]
    },
    {
     "name": "stdout",
     "output_type": "stream",
     "text": [
      "======\n",
      "KNN/80000_new\\KNN_Ngram_1_K_57_f1_0.486.csv\n",
      "              precision    recall  f1-score   support\n",
      "\n",
      "           0       0.44      0.67      0.53       310\n",
      "           1       0.76      0.51      0.61       297\n",
      "           2       0.46      0.40      0.43       306\n",
      "           3       0.26      0.64      0.37       293\n",
      "           4       0.75      0.38      0.50       299\n",
      "           5       0.76      0.34      0.47       300\n",
      "           6       0.74      0.72      0.73       315\n",
      "           7       0.92      0.38      0.54       242\n",
      "\n",
      "    accuracy                           0.51      2362\n",
      "   macro avg       0.64      0.51      0.52      2362\n",
      "weighted avg       0.63      0.51      0.52      2362\n",
      "\n"
     ]
    },
    {
     "name": "stderr",
     "output_type": "stream",
     "text": [
      " 12%|█▏        | 7/60 [16:13<2:07:31, 144.36s/it]"
     ]
    },
    {
     "name": "stdout",
     "output_type": "stream",
     "text": [
      "======\n",
      "KNN/80000_new\\KNN_Ngram_1_K_67_f1_0.474.csv\n",
      "              precision    recall  f1-score   support\n",
      "\n",
      "           0       0.45      0.68      0.54       310\n",
      "           1       0.77      0.49      0.60       297\n",
      "           2       0.46      0.39      0.42       306\n",
      "           3       0.25      0.66      0.36       293\n",
      "           4       0.73      0.35      0.47       299\n",
      "           5       0.80      0.34      0.48       300\n",
      "           6       0.73      0.72      0.72       315\n",
      "           7       0.92      0.36      0.51       242\n",
      "\n",
      "    accuracy                           0.50      2362\n",
      "   macro avg       0.64      0.50      0.51      2362\n",
      "weighted avg       0.63      0.50      0.52      2362\n",
      "\n"
     ]
    },
    {
     "name": "stderr",
     "output_type": "stream",
     "text": [
      " 13%|█▎        | 8/60 [18:34<2:04:04, 143.17s/it]"
     ]
    },
    {
     "name": "stdout",
     "output_type": "stream",
     "text": [
      "======\n",
      "KNN/80000_new\\KNN_Ngram_1_K_77_f1_0.471.csv\n",
      "              precision    recall  f1-score   support\n",
      "\n",
      "           0       0.44      0.69      0.54       310\n",
      "           1       0.79      0.49      0.61       297\n",
      "           2       0.45      0.38      0.41       306\n",
      "           3       0.24      0.63      0.35       293\n",
      "           4       0.73      0.37      0.49       299\n",
      "           5       0.81      0.32      0.46       300\n",
      "           6       0.73      0.71      0.72       315\n",
      "           7       0.92      0.33      0.49       242\n",
      "\n",
      "    accuracy                           0.50      2362\n",
      "   macro avg       0.64      0.49      0.51      2362\n",
      "weighted avg       0.63      0.50      0.51      2362\n",
      "\n"
     ]
    },
    {
     "name": "stderr",
     "output_type": "stream",
     "text": [
      " 15%|█▌        | 9/60 [20:52<2:00:13, 141.43s/it]"
     ]
    },
    {
     "name": "stdout",
     "output_type": "stream",
     "text": [
      "======\n",
      "KNN/80000_new\\KNN_Ngram_1_K_87_f1_0.468.csv\n",
      "              precision    recall  f1-score   support\n",
      "\n",
      "           0       0.44      0.69      0.53       310\n",
      "           1       0.78      0.48      0.59       297\n",
      "           2       0.46      0.37      0.41       306\n",
      "           3       0.24      0.65      0.35       293\n",
      "           4       0.72      0.35      0.47       299\n",
      "           5       0.80      0.31      0.45       300\n",
      "           6       0.72      0.69      0.70       315\n",
      "           7       0.93      0.33      0.49       242\n",
      "\n",
      "    accuracy                           0.49      2362\n",
      "   macro avg       0.64      0.48      0.50      2362\n",
      "weighted avg       0.63      0.49      0.50      2362\n",
      "\n"
     ]
    },
    {
     "name": "stderr",
     "output_type": "stream",
     "text": [
      " 17%|█▋        | 10/60 [23:00<1:54:36, 137.54s/it]"
     ]
    },
    {
     "name": "stdout",
     "output_type": "stream",
     "text": [
      "======\n",
      "KNN/80000_new\\KNN_Ngram_1_K_97_f1_0.466.csv\n",
      "              precision    recall  f1-score   support\n",
      "\n",
      "           0       0.44      0.69      0.53       310\n",
      "           1       0.78      0.46      0.58       297\n",
      "           2       0.46      0.37      0.41       306\n",
      "           3       0.24      0.67      0.36       293\n",
      "           4       0.71      0.35      0.47       299\n",
      "           5       0.79      0.29      0.43       300\n",
      "           6       0.71      0.69      0.70       315\n",
      "           7       0.94      0.32      0.48       242\n",
      "\n",
      "    accuracy                           0.48      2362\n",
      "   macro avg       0.63      0.48      0.49      2362\n",
      "weighted avg       0.63      0.48      0.50      2362\n",
      "\n"
     ]
    },
    {
     "name": "stderr",
     "output_type": "stream",
     "text": [
      " 18%|█▊        | 11/60 [25:05<1:49:09, 133.67s/it]"
     ]
    },
    {
     "name": "stdout",
     "output_type": "stream",
     "text": [
      "======\n",
      "KNN/80000_new\\KNN_Ngram_1_K_150_f1_0.446.csv\n",
      "              precision    recall  f1-score   support\n",
      "\n",
      "           0       0.42      0.68      0.52       310\n",
      "           1       0.80      0.45      0.57       297\n",
      "           2       0.46      0.36      0.40       306\n",
      "           3       0.24      0.69      0.36       293\n",
      "           4       0.69      0.34      0.46       299\n",
      "           5       0.81      0.29      0.42       300\n",
      "           6       0.71      0.68      0.69       315\n",
      "           7       0.95      0.26      0.41       242\n",
      "\n",
      "    accuracy                           0.47      2362\n",
      "   macro avg       0.64      0.47      0.48      2362\n",
      "weighted avg       0.63      0.47      0.48      2362\n",
      "\n"
     ]
    },
    {
     "name": "stderr",
     "output_type": "stream",
     "text": [
      " 20%|██        | 12/60 [27:22<1:47:41, 134.62s/it]"
     ]
    },
    {
     "name": "stdout",
     "output_type": "stream",
     "text": [
      "======\n",
      "KNN/80000_new\\KNN_Ngram_1_K_200_f1_0.437.csv\n",
      "              precision    recall  f1-score   support\n",
      "\n",
      "           0       0.41      0.69      0.51       310\n",
      "           1       0.82      0.45      0.58       297\n",
      "           2       0.47      0.33      0.39       306\n",
      "           3       0.24      0.72      0.36       293\n",
      "           4       0.69      0.33      0.45       299\n",
      "           5       0.83      0.26      0.40       300\n",
      "           6       0.72      0.68      0.70       315\n",
      "           7       0.96      0.23      0.37       242\n",
      "\n",
      "    accuracy                           0.47      2362\n",
      "   macro avg       0.64      0.46      0.47      2362\n",
      "weighted avg       0.64      0.47      0.47      2362\n",
      "\n"
     ]
    },
    {
     "name": "stderr",
     "output_type": "stream",
     "text": [
      " 22%|██▏       | 13/60 [33:59<2:47:43, 214.13s/it]"
     ]
    },
    {
     "name": "stdout",
     "output_type": "stream",
     "text": [
      "======\n",
      "KNN/80000_new\\KNN_Ngram_2_K_7_f1_0.134.csv\n",
      "              precision    recall  f1-score   support\n",
      "\n",
      "           0       0.00      0.00      0.00       310\n",
      "           1       0.00      0.00      0.00       297\n",
      "           2       0.00      0.00      0.00       306\n",
      "           3       0.00      0.00      0.00       293\n",
      "           4       0.00      0.00      0.00       299\n",
      "           5       0.93      0.05      0.09       300\n",
      "           6       0.00      0.00      0.00       315\n",
      "           7       0.10      1.00      0.19       242\n",
      "\n",
      "    accuracy                           0.11      2362\n",
      "   macro avg       0.13      0.13      0.03      2362\n",
      "weighted avg       0.13      0.11      0.03      2362\n",
      "\n"
     ]
    },
    {
     "name": "stderr",
     "output_type": "stream",
     "text": [
      "c:\\Users\\jaka_\\anaconda3\\envs\\newsapi\\lib\\site-packages\\sklearn\\metrics\\_classification.py:1344: UndefinedMetricWarning: Precision and F-score are ill-defined and being set to 0.0 in labels with no predicted samples. Use `zero_division` parameter to control this behavior.\n",
      "  _warn_prf(average, modifier, msg_start, len(result))\n",
      "c:\\Users\\jaka_\\anaconda3\\envs\\newsapi\\lib\\site-packages\\sklearn\\metrics\\_classification.py:1344: UndefinedMetricWarning: Precision and F-score are ill-defined and being set to 0.0 in labels with no predicted samples. Use `zero_division` parameter to control this behavior.\n",
      "  _warn_prf(average, modifier, msg_start, len(result))\n",
      "c:\\Users\\jaka_\\anaconda3\\envs\\newsapi\\lib\\site-packages\\sklearn\\metrics\\_classification.py:1344: UndefinedMetricWarning: Precision and F-score are ill-defined and being set to 0.0 in labels with no predicted samples. Use `zero_division` parameter to control this behavior.\n",
      "  _warn_prf(average, modifier, msg_start, len(result))\n",
      " 23%|██▎       | 14/60 [41:28<3:38:38, 285.18s/it]"
     ]
    },
    {
     "name": "stdout",
     "output_type": "stream",
     "text": [
      "======\n",
      "KNN/80000_new\\KNN_Ngram_2_K_17_f1_0.464.csv\n",
      "              precision    recall  f1-score   support\n",
      "\n",
      "           0       0.46      0.39      0.42       310\n",
      "           1       0.76      0.36      0.49       297\n",
      "           2       0.50      0.34      0.40       306\n",
      "           3       0.34      0.25      0.29       293\n",
      "           4       0.46      0.40      0.43       299\n",
      "           5       0.52      0.41      0.46       300\n",
      "           6       0.86      0.53      0.66       315\n",
      "           7       0.25      0.87      0.39       242\n",
      "\n",
      "    accuracy                           0.43      2362\n",
      "   macro avg       0.52      0.44      0.44      2362\n",
      "weighted avg       0.53      0.43      0.44      2362\n",
      "\n"
     ]
    },
    {
     "name": "stderr",
     "output_type": "stream",
     "text": [
      " 25%|██▌       | 15/60 [48:57<4:10:45, 334.35s/it]"
     ]
    },
    {
     "name": "stdout",
     "output_type": "stream",
     "text": [
      "======\n",
      "KNN/80000_new\\KNN_Ngram_2_K_27_f1_0.513.csv\n",
      "              precision    recall  f1-score   support\n",
      "\n",
      "           0       0.42      0.67      0.52       310\n",
      "           1       0.72      0.46      0.56       297\n",
      "           2       0.46      0.42      0.44       306\n",
      "           3       0.29      0.41      0.34       293\n",
      "           4       0.58      0.43      0.50       299\n",
      "           5       0.61      0.41      0.49       300\n",
      "           6       0.79      0.65      0.71       315\n",
      "           7       0.59      0.75      0.66       242\n",
      "\n",
      "    accuracy                           0.52      2362\n",
      "   macro avg       0.56      0.53      0.53      2362\n",
      "weighted avg       0.56      0.52      0.53      2362\n",
      "\n"
     ]
    },
    {
     "name": "stderr",
     "output_type": "stream",
     "text": [
      " 27%|██▋       | 16/60 [56:22<4:29:44, 367.83s/it]"
     ]
    },
    {
     "name": "stdout",
     "output_type": "stream",
     "text": [
      "======\n",
      "KNN/80000_new\\KNN_Ngram_2_K_37_f1_0.517.csv\n",
      "              precision    recall  f1-score   support\n",
      "\n",
      "           0       0.40      0.70      0.51       310\n",
      "           1       0.75      0.46      0.57       297\n",
      "           2       0.44      0.41      0.43       306\n",
      "           3       0.30      0.47      0.37       293\n",
      "           4       0.62      0.39      0.48       299\n",
      "           5       0.63      0.40      0.49       300\n",
      "           6       0.78      0.67      0.72       315\n",
      "           7       0.73      0.71      0.72       242\n",
      "\n",
      "    accuracy                           0.52      2362\n",
      "   macro avg       0.58      0.53      0.54      2362\n",
      "weighted avg       0.58      0.52      0.53      2362\n",
      "\n"
     ]
    },
    {
     "name": "stderr",
     "output_type": "stream",
     "text": [
      " 28%|██▊       | 17/60 [1:03:55<4:41:55, 393.39s/it]"
     ]
    },
    {
     "name": "stdout",
     "output_type": "stream",
     "text": [
      "======\n",
      "KNN/80000_new\\KNN_Ngram_2_K_47_f1_0.509.csv\n",
      "              precision    recall  f1-score   support\n",
      "\n",
      "           0       0.41      0.76      0.53       310\n",
      "           1       0.79      0.46      0.59       297\n",
      "           2       0.48      0.43      0.45       306\n",
      "           3       0.30      0.51      0.38       293\n",
      "           4       0.64      0.38      0.48       299\n",
      "           5       0.65      0.41      0.50       300\n",
      "           6       0.77      0.67      0.72       315\n",
      "           7       0.78      0.66      0.71       242\n",
      "\n",
      "    accuracy                           0.53      2362\n",
      "   macro avg       0.60      0.54      0.55      2362\n",
      "weighted avg       0.60      0.53      0.54      2362\n",
      "\n"
     ]
    },
    {
     "name": "stderr",
     "output_type": "stream",
     "text": [
      " 30%|███       | 18/60 [1:11:26<4:47:25, 410.62s/it]"
     ]
    },
    {
     "name": "stdout",
     "output_type": "stream",
     "text": [
      "======\n",
      "KNN/80000_new\\KNN_Ngram_2_K_57_f1_0.503.csv\n",
      "              precision    recall  f1-score   support\n",
      "\n",
      "           0       0.40      0.76      0.52       310\n",
      "           1       0.83      0.47      0.60       297\n",
      "           2       0.48      0.44      0.46       306\n",
      "           3       0.31      0.54      0.39       293\n",
      "           4       0.65      0.39      0.49       299\n",
      "           5       0.70      0.38      0.49       300\n",
      "           6       0.77      0.66      0.71       315\n",
      "           7       0.81      0.65      0.72       242\n",
      "\n",
      "    accuracy                           0.54      2362\n",
      "   macro avg       0.62      0.54      0.55      2362\n",
      "weighted avg       0.61      0.54      0.55      2362\n",
      "\n"
     ]
    },
    {
     "name": "stderr",
     "output_type": "stream",
     "text": [
      " 32%|███▏      | 19/60 [1:19:05<4:50:33, 425.20s/it]"
     ]
    },
    {
     "name": "stdout",
     "output_type": "stream",
     "text": [
      "======\n",
      "KNN/80000_new\\KNN_Ngram_2_K_67_f1_0.497.csv\n",
      "              precision    recall  f1-score   support\n",
      "\n",
      "           0       0.40      0.79      0.53       310\n",
      "           1       0.83      0.46      0.59       297\n",
      "           2       0.45      0.41      0.43       306\n",
      "           3       0.30      0.54      0.39       293\n",
      "           4       0.64      0.39      0.49       299\n",
      "           5       0.70      0.35      0.47       300\n",
      "           6       0.77      0.67      0.71       315\n",
      "           7       0.84      0.63      0.72       242\n",
      "\n",
      "    accuracy                           0.53      2362\n",
      "   macro avg       0.62      0.53      0.54      2362\n",
      "weighted avg       0.61      0.53      0.54      2362\n",
      "\n"
     ]
    },
    {
     "name": "stderr",
     "output_type": "stream",
     "text": [
      " 33%|███▎      | 20/60 [1:26:45<4:50:27, 435.68s/it]"
     ]
    },
    {
     "name": "stdout",
     "output_type": "stream",
     "text": [
      "======\n",
      "KNN/80000_new\\KNN_Ngram_2_K_77_f1_0.493.csv\n",
      "              precision    recall  f1-score   support\n",
      "\n",
      "           0       0.39      0.80      0.52       310\n",
      "           1       0.85      0.47      0.61       297\n",
      "           2       0.46      0.41      0.44       306\n",
      "           3       0.30      0.55      0.39       293\n",
      "           4       0.68      0.39      0.50       299\n",
      "           5       0.75      0.35      0.47       300\n",
      "           6       0.76      0.67      0.71       315\n",
      "           7       0.87      0.59      0.70       242\n",
      "\n",
      "    accuracy                           0.53      2362\n",
      "   macro avg       0.63      0.53      0.54      2362\n",
      "weighted avg       0.63      0.53      0.54      2362\n",
      "\n"
     ]
    },
    {
     "name": "stderr",
     "output_type": "stream",
     "text": [
      " 35%|███▌      | 21/60 [1:34:20<4:46:57, 441.47s/it]"
     ]
    },
    {
     "name": "stdout",
     "output_type": "stream",
     "text": [
      "======\n",
      "KNN/80000_new\\KNN_Ngram_2_K_87_f1_0.489.csv\n",
      "              precision    recall  f1-score   support\n",
      "\n",
      "           0       0.39      0.82      0.52       310\n",
      "           1       0.84      0.46      0.60       297\n",
      "           2       0.47      0.42      0.44       306\n",
      "           3       0.30      0.55      0.38       293\n",
      "           4       0.65      0.38      0.48       299\n",
      "           5       0.76      0.33      0.46       300\n",
      "           6       0.75      0.66      0.70       315\n",
      "           7       0.89      0.55      0.68       242\n",
      "\n",
      "    accuracy                           0.52      2362\n",
      "   macro avg       0.63      0.52      0.53      2362\n",
      "weighted avg       0.62      0.52      0.53      2362\n",
      "\n"
     ]
    },
    {
     "name": "stderr",
     "output_type": "stream",
     "text": [
      " 37%|███▋      | 22/60 [1:42:07<4:44:26, 449.13s/it]"
     ]
    },
    {
     "name": "stdout",
     "output_type": "stream",
     "text": [
      "======\n",
      "KNN/80000_new\\KNN_Ngram_2_K_97_f1_0.481.csv\n",
      "              precision    recall  f1-score   support\n",
      "\n",
      "           0       0.37      0.81      0.51       310\n",
      "           1       0.84      0.47      0.61       297\n",
      "           2       0.46      0.39      0.42       306\n",
      "           3       0.29      0.54      0.37       293\n",
      "           4       0.67      0.37      0.48       299\n",
      "           5       0.79      0.33      0.46       300\n",
      "           6       0.74      0.65      0.69       315\n",
      "           7       0.91      0.51      0.65       242\n",
      "\n",
      "    accuracy                           0.51      2362\n",
      "   macro avg       0.63      0.51      0.52      2362\n",
      "weighted avg       0.63      0.51      0.52      2362\n",
      "\n"
     ]
    },
    {
     "name": "stderr",
     "output_type": "stream",
     "text": [
      " 38%|███▊      | 23/60 [1:49:28<4:35:30, 446.77s/it]"
     ]
    },
    {
     "name": "stdout",
     "output_type": "stream",
     "text": [
      "======\n",
      "KNN/80000_new\\KNN_Ngram_2_K_150_f1_0.466.csv\n",
      "              precision    recall  f1-score   support\n",
      "\n",
      "           0       0.35      0.83      0.49       310\n",
      "           1       0.85      0.45      0.59       297\n",
      "           2       0.48      0.40      0.44       306\n",
      "           3       0.28      0.54      0.37       293\n",
      "           4       0.66      0.36      0.47       299\n",
      "           5       0.83      0.30      0.44       300\n",
      "           6       0.75      0.63      0.69       315\n",
      "           7       0.91      0.42      0.58       242\n",
      "\n",
      "    accuracy                           0.50      2362\n",
      "   macro avg       0.64      0.49      0.51      2362\n",
      "weighted avg       0.63      0.50      0.51      2362\n",
      "\n"
     ]
    },
    {
     "name": "stderr",
     "output_type": "stream",
     "text": [
      " 40%|████      | 24/60 [1:57:13<4:31:18, 452.18s/it]"
     ]
    },
    {
     "name": "stdout",
     "output_type": "stream",
     "text": [
      "======\n",
      "KNN/80000_new\\KNN_Ngram_2_K_200_f1_0.453.csv\n",
      "              precision    recall  f1-score   support\n",
      "\n",
      "           0       0.32      0.82      0.46       310\n",
      "           1       0.85      0.42      0.57       297\n",
      "           2       0.49      0.39      0.43       306\n",
      "           3       0.27      0.53      0.36       293\n",
      "           4       0.66      0.34      0.45       299\n",
      "           5       0.83      0.28      0.42       300\n",
      "           6       0.78      0.63      0.70       315\n",
      "           7       0.93      0.33      0.49       242\n",
      "\n",
      "    accuracy                           0.48      2362\n",
      "   macro avg       0.64      0.47      0.48      2362\n",
      "weighted avg       0.63      0.48      0.49      2362\n",
      "\n"
     ]
    },
    {
     "name": "stderr",
     "output_type": "stream",
     "text": [
      " 42%|████▏     | 25/60 [2:06:26<4:41:26, 482.48s/it]"
     ]
    },
    {
     "name": "stdout",
     "output_type": "stream",
     "text": [
      "======\n",
      "KNN/80000_new\\KNN_Ngram_3_K_7_f1_0.124.csv\n",
      "              precision    recall  f1-score   support\n",
      "\n",
      "           0       0.00      0.00      0.00       310\n",
      "           1       0.00      0.00      0.00       297\n",
      "           2       0.00      0.00      0.00       306\n",
      "           3       0.00      0.00      0.00       293\n",
      "           4       0.00      0.00      0.00       299\n",
      "           5       0.94      0.06      0.11       300\n",
      "           6       0.00      0.00      0.00       315\n",
      "           7       0.10      1.00      0.19       242\n",
      "\n",
      "    accuracy                           0.11      2362\n",
      "   macro avg       0.13      0.13      0.04      2362\n",
      "weighted avg       0.13      0.11      0.03      2362\n",
      "\n"
     ]
    },
    {
     "name": "stderr",
     "output_type": "stream",
     "text": [
      "c:\\Users\\jaka_\\anaconda3\\envs\\newsapi\\lib\\site-packages\\sklearn\\metrics\\_classification.py:1344: UndefinedMetricWarning: Precision and F-score are ill-defined and being set to 0.0 in labels with no predicted samples. Use `zero_division` parameter to control this behavior.\n",
      "  _warn_prf(average, modifier, msg_start, len(result))\n",
      "c:\\Users\\jaka_\\anaconda3\\envs\\newsapi\\lib\\site-packages\\sklearn\\metrics\\_classification.py:1344: UndefinedMetricWarning: Precision and F-score are ill-defined and being set to 0.0 in labels with no predicted samples. Use `zero_division` parameter to control this behavior.\n",
      "  _warn_prf(average, modifier, msg_start, len(result))\n",
      "c:\\Users\\jaka_\\anaconda3\\envs\\newsapi\\lib\\site-packages\\sklearn\\metrics\\_classification.py:1344: UndefinedMetricWarning: Precision and F-score are ill-defined and being set to 0.0 in labels with no predicted samples. Use `zero_division` parameter to control this behavior.\n",
      "  _warn_prf(average, modifier, msg_start, len(result))\n",
      " 43%|████▎     | 26/60 [2:15:49<4:47:00, 506.48s/it]"
     ]
    },
    {
     "name": "stdout",
     "output_type": "stream",
     "text": [
      "======\n",
      "KNN/80000_new\\KNN_Ngram_3_K_17_f1_0.327.csv\n",
      "              precision    recall  f1-score   support\n",
      "\n",
      "           0       0.69      0.10      0.17       310\n",
      "           1       0.97      0.11      0.20       297\n",
      "           2       0.51      0.07      0.13       306\n",
      "           3       0.45      0.02      0.03       293\n",
      "           4       0.46      0.35      0.40       299\n",
      "           5       0.58      0.38      0.46       300\n",
      "           6       0.97      0.24      0.39       315\n",
      "           7       0.13      0.95      0.23       242\n",
      "\n",
      "    accuracy                           0.26      2362\n",
      "   macro avg       0.60      0.28      0.25      2362\n",
      "weighted avg       0.61      0.26      0.25      2362\n",
      "\n"
     ]
    },
    {
     "name": "stderr",
     "output_type": "stream",
     "text": [
      " 45%|████▌     | 27/60 [2:25:04<4:46:32, 520.98s/it]"
     ]
    },
    {
     "name": "stdout",
     "output_type": "stream",
     "text": [
      "======\n",
      "KNN/80000_new\\KNN_Ngram_3_K_27_f1_0.484.csv\n",
      "              precision    recall  f1-score   support\n",
      "\n",
      "           0       0.45      0.51      0.48       310\n",
      "           1       0.77      0.36      0.49       297\n",
      "           2       0.49      0.36      0.42       306\n",
      "           3       0.33      0.29      0.31       293\n",
      "           4       0.43      0.50      0.46       299\n",
      "           5       0.45      0.45      0.45       300\n",
      "           6       0.83      0.54      0.65       315\n",
      "           7       0.37      0.82      0.51       242\n",
      "\n",
      "    accuracy                           0.47      2362\n",
      "   macro avg       0.51      0.48      0.47      2362\n",
      "weighted avg       0.52      0.47      0.47      2362\n",
      "\n"
     ]
    },
    {
     "name": "stderr",
     "output_type": "stream",
     "text": [
      " 47%|████▋     | 28/60 [2:34:17<4:43:02, 530.71s/it]"
     ]
    },
    {
     "name": "stdout",
     "output_type": "stream",
     "text": [
      "======\n",
      "KNN/80000_new\\KNN_Ngram_3_K_37_f1_0.514.csv\n",
      "              precision    recall  f1-score   support\n",
      "\n",
      "           0       0.41      0.67      0.51       310\n",
      "           1       0.78      0.42      0.55       297\n",
      "           2       0.47      0.42      0.44       306\n",
      "           3       0.34      0.43      0.38       293\n",
      "           4       0.56      0.49      0.52       299\n",
      "           5       0.54      0.45      0.49       300\n",
      "           6       0.80      0.61      0.70       315\n",
      "           7       0.59      0.75      0.66       242\n",
      "\n",
      "    accuracy                           0.53      2362\n",
      "   macro avg       0.56      0.53      0.53      2362\n",
      "weighted avg       0.56      0.53      0.53      2362\n",
      "\n"
     ]
    },
    {
     "name": "stderr",
     "output_type": "stream",
     "text": [
      " 48%|████▊     | 29/60 [2:43:33<4:38:02, 538.16s/it]"
     ]
    },
    {
     "name": "stdout",
     "output_type": "stream",
     "text": [
      "======\n",
      "KNN/80000_new\\KNN_Ngram_3_K_47_f1_0.516.csv\n",
      "              precision    recall  f1-score   support\n",
      "\n",
      "           0       0.40      0.73      0.52       310\n",
      "           1       0.78      0.42      0.54       297\n",
      "           2       0.48      0.42      0.45       306\n",
      "           3       0.33      0.46      0.38       293\n",
      "           4       0.58      0.45      0.50       299\n",
      "           5       0.60      0.42      0.50       300\n",
      "           6       0.77      0.66      0.71       315\n",
      "           7       0.67      0.70      0.69       242\n",
      "\n",
      "    accuracy                           0.53      2362\n",
      "   macro avg       0.58      0.53      0.54      2362\n",
      "weighted avg       0.58      0.53      0.53      2362\n",
      "\n"
     ]
    },
    {
     "name": "stderr",
     "output_type": "stream",
     "text": [
      " 50%|█████     | 30/60 [2:52:34<4:29:38, 539.28s/it]"
     ]
    },
    {
     "name": "stdout",
     "output_type": "stream",
     "text": [
      "======\n",
      "KNN/80000_new\\KNN_Ngram_3_K_57_f1_0.511.csv\n",
      "              precision    recall  f1-score   support\n",
      "\n",
      "           0       0.39      0.75      0.51       310\n",
      "           1       0.80      0.44      0.57       297\n",
      "           2       0.48      0.43      0.45       306\n",
      "           3       0.32      0.47      0.38       293\n",
      "           4       0.57      0.42      0.48       299\n",
      "           5       0.64      0.41      0.50       300\n",
      "           6       0.77      0.64      0.70       315\n",
      "           7       0.73      0.68      0.71       242\n",
      "\n",
      "    accuracy                           0.53      2362\n",
      "   macro avg       0.59      0.53      0.54      2362\n",
      "weighted avg       0.58      0.53      0.53      2362\n",
      "\n"
     ]
    },
    {
     "name": "stderr",
     "output_type": "stream",
     "text": [
      " 52%|█████▏    | 31/60 [3:01:51<4:23:12, 544.57s/it]"
     ]
    },
    {
     "name": "stdout",
     "output_type": "stream",
     "text": [
      "======\n",
      "KNN/80000_new\\KNN_Ngram_3_K_67_f1_0.505.csv\n",
      "              precision    recall  f1-score   support\n",
      "\n",
      "           0       0.38      0.76      0.51       310\n",
      "           1       0.82      0.44      0.57       297\n",
      "           2       0.47      0.42      0.45       306\n",
      "           3       0.31      0.48      0.38       293\n",
      "           4       0.59      0.43      0.50       299\n",
      "           5       0.68      0.37      0.48       300\n",
      "           6       0.75      0.64      0.70       315\n",
      "           7       0.77      0.67      0.71       242\n",
      "\n",
      "    accuracy                           0.53      2362\n",
      "   macro avg       0.60      0.53      0.54      2362\n",
      "weighted avg       0.59      0.53      0.53      2362\n",
      "\n"
     ]
    },
    {
     "name": "stderr",
     "output_type": "stream",
     "text": [
      " 53%|█████▎    | 32/60 [3:11:16<4:16:56, 550.59s/it]"
     ]
    },
    {
     "name": "stdout",
     "output_type": "stream",
     "text": [
      "======\n",
      "KNN/80000_new\\KNN_Ngram_3_K_77_f1_0.500.csv\n",
      "              precision    recall  f1-score   support\n",
      "\n",
      "           0       0.37      0.79      0.50       310\n",
      "           1       0.84      0.45      0.59       297\n",
      "           2       0.47      0.42      0.44       306\n",
      "           3       0.31      0.47      0.38       293\n",
      "           4       0.59      0.42      0.49       299\n",
      "           5       0.72      0.35      0.47       300\n",
      "           6       0.77      0.64      0.70       315\n",
      "           7       0.77      0.63      0.69       242\n",
      "\n",
      "    accuracy                           0.52      2362\n",
      "   macro avg       0.61      0.52      0.53      2362\n",
      "weighted avg       0.60      0.52      0.53      2362\n",
      "\n"
     ]
    },
    {
     "name": "stderr",
     "output_type": "stream",
     "text": [
      " 55%|█████▌    | 33/60 [3:20:32<4:08:30, 552.24s/it]"
     ]
    },
    {
     "name": "stdout",
     "output_type": "stream",
     "text": [
      "======\n",
      "KNN/80000_new\\KNN_Ngram_3_K_87_f1_0.493.csv\n",
      "              precision    recall  f1-score   support\n",
      "\n",
      "           0       0.36      0.79      0.50       310\n",
      "           1       0.85      0.47      0.61       297\n",
      "           2       0.48      0.42      0.44       306\n",
      "           3       0.31      0.48      0.38       293\n",
      "           4       0.61      0.41      0.49       299\n",
      "           5       0.73      0.36      0.48       300\n",
      "           6       0.75      0.65      0.70       315\n",
      "           7       0.81      0.61      0.70       242\n",
      "\n",
      "    accuracy                           0.52      2362\n",
      "   macro avg       0.61      0.52      0.54      2362\n",
      "weighted avg       0.61      0.52      0.53      2362\n",
      "\n"
     ]
    },
    {
     "name": "stderr",
     "output_type": "stream",
     "text": [
      " 57%|█████▋    | 34/60 [3:29:32<3:57:42, 548.57s/it]"
     ]
    },
    {
     "name": "stdout",
     "output_type": "stream",
     "text": [
      "======\n",
      "KNN/80000_new\\KNN_Ngram_3_K_97_f1_0.489.csv\n",
      "              precision    recall  f1-score   support\n",
      "\n",
      "           0       0.36      0.82      0.50       310\n",
      "           1       0.82      0.44      0.58       297\n",
      "           2       0.48      0.42      0.45       306\n",
      "           3       0.32      0.49      0.39       293\n",
      "           4       0.62      0.42      0.50       299\n",
      "           5       0.74      0.34      0.47       300\n",
      "           6       0.75      0.64      0.69       315\n",
      "           7       0.84      0.57      0.68       242\n",
      "\n",
      "    accuracy                           0.52      2362\n",
      "   macro avg       0.62      0.52      0.53      2362\n",
      "weighted avg       0.61      0.52      0.53      2362\n",
      "\n"
     ]
    },
    {
     "name": "stderr",
     "output_type": "stream",
     "text": [
      " 58%|█████▊    | 35/60 [3:38:58<3:50:42, 553.69s/it]"
     ]
    },
    {
     "name": "stdout",
     "output_type": "stream",
     "text": [
      "======\n",
      "KNN/80000_new\\KNN_Ngram_3_K_150_f1_0.470.csv\n",
      "              precision    recall  f1-score   support\n",
      "\n",
      "           0       0.32      0.84      0.47       310\n",
      "           1       0.86      0.44      0.58       297\n",
      "           2       0.51      0.42      0.46       306\n",
      "           3       0.31      0.51      0.39       293\n",
      "           4       0.63      0.38      0.47       299\n",
      "           5       0.78      0.31      0.45       300\n",
      "           6       0.77      0.62      0.69       315\n",
      "           7       0.89      0.45      0.59       242\n",
      "\n",
      "    accuracy                           0.50      2362\n",
      "   macro avg       0.63      0.50      0.51      2362\n",
      "weighted avg       0.63      0.50      0.51      2362\n",
      "\n"
     ]
    },
    {
     "name": "stderr",
     "output_type": "stream",
     "text": [
      " 60%|██████    | 36/60 [3:48:21<3:42:33, 556.40s/it]"
     ]
    },
    {
     "name": "stdout",
     "output_type": "stream",
     "text": [
      "======\n",
      "KNN/80000_new\\KNN_Ngram_3_K_200_f1_0.456.csv\n",
      "              precision    recall  f1-score   support\n",
      "\n",
      "           0       0.30      0.85      0.44       310\n",
      "           1       0.89      0.39      0.55       297\n",
      "           2       0.51      0.39      0.44       306\n",
      "           3       0.31      0.50      0.38       293\n",
      "           4       0.66      0.38      0.48       299\n",
      "           5       0.83      0.29      0.43       300\n",
      "           6       0.76      0.60      0.67       315\n",
      "           7       0.90      0.39      0.54       242\n",
      "\n",
      "    accuracy                           0.48      2362\n",
      "   macro avg       0.64      0.47      0.49      2362\n",
      "weighted avg       0.64      0.48      0.49      2362\n",
      "\n"
     ]
    },
    {
     "name": "stderr",
     "output_type": "stream",
     "text": [
      " 62%|██████▏   | 37/60 [3:58:16<3:37:49, 568.24s/it]"
     ]
    },
    {
     "name": "stdout",
     "output_type": "stream",
     "text": [
      "======\n",
      "KNN/80000_new\\KNN_Ngram_4_K_7_f1_0.122.csv\n",
      "              precision    recall  f1-score   support\n",
      "\n",
      "           0       0.00      0.00      0.00       310\n",
      "           1       0.00      0.00      0.00       297\n",
      "           2       0.00      0.00      0.00       306\n",
      "           3       0.00      0.00      0.00       293\n",
      "           4       0.00      0.00      0.00       299\n",
      "           5       0.94      0.06      0.11       300\n",
      "           6       0.00      0.00      0.00       315\n",
      "           7       0.10      1.00      0.19       242\n",
      "\n",
      "    accuracy                           0.11      2362\n",
      "   macro avg       0.13      0.13      0.04      2362\n",
      "weighted avg       0.13      0.11      0.03      2362\n",
      "\n"
     ]
    },
    {
     "name": "stderr",
     "output_type": "stream",
     "text": [
      "c:\\Users\\jaka_\\anaconda3\\envs\\newsapi\\lib\\site-packages\\sklearn\\metrics\\_classification.py:1344: UndefinedMetricWarning: Precision and F-score are ill-defined and being set to 0.0 in labels with no predicted samples. Use `zero_division` parameter to control this behavior.\n",
      "  _warn_prf(average, modifier, msg_start, len(result))\n",
      "c:\\Users\\jaka_\\anaconda3\\envs\\newsapi\\lib\\site-packages\\sklearn\\metrics\\_classification.py:1344: UndefinedMetricWarning: Precision and F-score are ill-defined and being set to 0.0 in labels with no predicted samples. Use `zero_division` parameter to control this behavior.\n",
      "  _warn_prf(average, modifier, msg_start, len(result))\n",
      "c:\\Users\\jaka_\\anaconda3\\envs\\newsapi\\lib\\site-packages\\sklearn\\metrics\\_classification.py:1344: UndefinedMetricWarning: Precision and F-score are ill-defined and being set to 0.0 in labels with no predicted samples. Use `zero_division` parameter to control this behavior.\n",
      "  _warn_prf(average, modifier, msg_start, len(result))\n",
      " 63%|██████▎   | 38/60 [4:07:45<3:28:27, 568.51s/it]"
     ]
    },
    {
     "name": "stdout",
     "output_type": "stream",
     "text": [
      "======\n",
      "KNN/80000_new\\KNN_Ngram_4_K_17_f1_0.243.csv\n",
      "              precision    recall  f1-score   support\n",
      "\n",
      "           0       1.00      0.01      0.03       310\n",
      "           1       1.00      0.02      0.04       297\n",
      "           2       0.67      0.01      0.01       306\n",
      "           3       0.00      0.00      0.00       293\n",
      "           4       0.68      0.18      0.28       299\n",
      "           5       0.85      0.22      0.35       300\n",
      "           6       1.00      0.04      0.07       315\n",
      "           7       0.11      0.99      0.20       242\n",
      "\n",
      "    accuracy                           0.16      2362\n",
      "   macro avg       0.66      0.18      0.12      2362\n",
      "weighted avg       0.68      0.16      0.12      2362\n",
      "\n"
     ]
    },
    {
     "name": "stderr",
     "output_type": "stream",
     "text": [
      "c:\\Users\\jaka_\\anaconda3\\envs\\newsapi\\lib\\site-packages\\sklearn\\metrics\\_classification.py:1344: UndefinedMetricWarning: Precision and F-score are ill-defined and being set to 0.0 in labels with no predicted samples. Use `zero_division` parameter to control this behavior.\n",
      "  _warn_prf(average, modifier, msg_start, len(result))\n",
      "c:\\Users\\jaka_\\anaconda3\\envs\\newsapi\\lib\\site-packages\\sklearn\\metrics\\_classification.py:1344: UndefinedMetricWarning: Precision and F-score are ill-defined and being set to 0.0 in labels with no predicted samples. Use `zero_division` parameter to control this behavior.\n",
      "  _warn_prf(average, modifier, msg_start, len(result))\n",
      "c:\\Users\\jaka_\\anaconda3\\envs\\newsapi\\lib\\site-packages\\sklearn\\metrics\\_classification.py:1344: UndefinedMetricWarning: Precision and F-score are ill-defined and being set to 0.0 in labels with no predicted samples. Use `zero_division` parameter to control this behavior.\n",
      "  _warn_prf(average, modifier, msg_start, len(result))\n",
      " 65%|██████▌   | 39/60 [4:17:00<3:17:32, 564.43s/it]"
     ]
    },
    {
     "name": "stdout",
     "output_type": "stream",
     "text": [
      "======\n",
      "KNN/80000_new\\KNN_Ngram_4_K_27_f1_0.441.csv\n",
      "              precision    recall  f1-score   support\n",
      "\n",
      "           0       0.53      0.36      0.43       310\n",
      "           1       0.89      0.27      0.41       297\n",
      "           2       0.53      0.27      0.36       306\n",
      "           3       0.34      0.17      0.23       293\n",
      "           4       0.46      0.41      0.43       299\n",
      "           5       0.48      0.40      0.43       300\n",
      "           6       0.81      0.45      0.58       315\n",
      "           7       0.20      0.88      0.33       242\n",
      "\n",
      "    accuracy                           0.39      2362\n",
      "   macro avg       0.53      0.40      0.40      2362\n",
      "weighted avg       0.54      0.39      0.40      2362\n",
      "\n"
     ]
    },
    {
     "name": "stderr",
     "output_type": "stream",
     "text": [
      " 67%|██████▋   | 40/60 [4:26:45<3:10:06, 570.33s/it]"
     ]
    },
    {
     "name": "stdout",
     "output_type": "stream",
     "text": [
      "======\n",
      "KNN/80000_new\\KNN_Ngram_4_K_37_f1_0.507.csv\n",
      "              precision    recall  f1-score   support\n",
      "\n",
      "           0       0.41      0.62      0.49       310\n",
      "           1       0.75      0.40      0.52       297\n",
      "           2       0.49      0.41      0.45       306\n",
      "           3       0.34      0.39      0.36       293\n",
      "           4       0.52      0.46      0.49       299\n",
      "           5       0.51      0.41      0.46       300\n",
      "           6       0.79      0.58      0.67       315\n",
      "           7       0.48      0.81      0.60       242\n",
      "\n",
      "    accuracy                           0.50      2362\n",
      "   macro avg       0.54      0.51      0.51      2362\n",
      "weighted avg       0.54      0.50      0.50      2362\n",
      "\n"
     ]
    },
    {
     "name": "stderr",
     "output_type": "stream",
     "text": [
      " 68%|██████▊   | 41/60 [4:36:24<3:01:27, 573.05s/it]"
     ]
    },
    {
     "name": "stdout",
     "output_type": "stream",
     "text": [
      "======\n",
      "KNN/80000_new\\KNN_Ngram_4_K_47_f1_0.517.csv\n",
      "              precision    recall  f1-score   support\n",
      "\n",
      "           0       0.39      0.70      0.50       310\n",
      "           1       0.77      0.40      0.53       297\n",
      "           2       0.49      0.42      0.45       306\n",
      "           3       0.35      0.45      0.39       293\n",
      "           4       0.56      0.42      0.48       299\n",
      "           5       0.59      0.42      0.49       300\n",
      "           6       0.76      0.64      0.69       315\n",
      "           7       0.60      0.73      0.66       242\n",
      "\n",
      "    accuracy                           0.52      2362\n",
      "   macro avg       0.56      0.52      0.53      2362\n",
      "weighted avg       0.56      0.52      0.52      2362\n",
      "\n"
     ]
    },
    {
     "name": "stderr",
     "output_type": "stream",
     "text": [
      " 70%|███████   | 42/60 [4:46:10<2:53:06, 577.05s/it]"
     ]
    },
    {
     "name": "stdout",
     "output_type": "stream",
     "text": [
      "======\n",
      "KNN/80000_new\\KNN_Ngram_4_K_57_f1_0.511.csv\n",
      "              precision    recall  f1-score   support\n",
      "\n",
      "           0       0.38      0.74      0.50       310\n",
      "           1       0.77      0.43      0.55       297\n",
      "           2       0.46      0.40      0.43       306\n",
      "           3       0.33      0.45      0.38       293\n",
      "           4       0.59      0.43      0.50       299\n",
      "           5       0.63      0.41      0.50       300\n",
      "           6       0.75      0.63      0.69       315\n",
      "           7       0.69      0.71      0.70       242\n",
      "\n",
      "    accuracy                           0.52      2362\n",
      "   macro avg       0.57      0.53      0.53      2362\n",
      "weighted avg       0.57      0.52      0.53      2362\n",
      "\n"
     ]
    },
    {
     "name": "stderr",
     "output_type": "stream",
     "text": [
      " 72%|███████▏  | 43/60 [4:55:41<2:42:55, 575.05s/it]"
     ]
    },
    {
     "name": "stdout",
     "output_type": "stream",
     "text": [
      "======\n",
      "KNN/80000_new\\KNN_Ngram_4_K_67_f1_0.507.csv\n",
      "              precision    recall  f1-score   support\n",
      "\n",
      "           0       0.36      0.75      0.49       310\n",
      "           1       0.82      0.44      0.57       297\n",
      "           2       0.47      0.42      0.44       306\n",
      "           3       0.32      0.45      0.37       293\n",
      "           4       0.62      0.42      0.50       299\n",
      "           5       0.68      0.39      0.49       300\n",
      "           6       0.75      0.63      0.69       315\n",
      "           7       0.73      0.69      0.71       242\n",
      "\n",
      "    accuracy                           0.52      2362\n",
      "   macro avg       0.59      0.52      0.53      2362\n",
      "weighted avg       0.59      0.52      0.53      2362\n",
      "\n"
     ]
    },
    {
     "name": "stderr",
     "output_type": "stream",
     "text": [
      " 73%|███████▎  | 44/60 [5:04:59<2:32:00, 570.06s/it]"
     ]
    },
    {
     "name": "stdout",
     "output_type": "stream",
     "text": [
      "======\n",
      "KNN/80000_new\\KNN_Ngram_4_K_77_f1_0.504.csv\n",
      "              precision    recall  f1-score   support\n",
      "\n",
      "           0       0.36      0.77      0.49       310\n",
      "           1       0.82      0.46      0.59       297\n",
      "           2       0.48      0.42      0.45       306\n",
      "           3       0.32      0.47      0.38       293\n",
      "           4       0.61      0.41      0.49       299\n",
      "           5       0.71      0.36      0.47       300\n",
      "           6       0.76      0.63      0.69       315\n",
      "           7       0.75      0.66      0.70       242\n",
      "\n",
      "    accuracy                           0.52      2362\n",
      "   macro avg       0.60      0.52      0.53      2362\n",
      "weighted avg       0.60      0.52      0.53      2362\n",
      "\n"
     ]
    },
    {
     "name": "stderr",
     "output_type": "stream",
     "text": [
      " 75%|███████▌  | 45/60 [5:14:34<2:22:51, 571.45s/it]"
     ]
    },
    {
     "name": "stdout",
     "output_type": "stream",
     "text": [
      "======\n",
      "KNN/80000_new\\KNN_Ngram_4_K_87_f1_0.497.csv\n",
      "              precision    recall  f1-score   support\n",
      "\n",
      "           0       0.36      0.79      0.49       310\n",
      "           1       0.85      0.46      0.60       297\n",
      "           2       0.47      0.42      0.44       306\n",
      "           3       0.32      0.47      0.38       293\n",
      "           4       0.62      0.41      0.49       299\n",
      "           5       0.71      0.35      0.47       300\n",
      "           6       0.75      0.64      0.70       315\n",
      "           7       0.78      0.64      0.71       242\n",
      "\n",
      "    accuracy                           0.52      2362\n",
      "   macro avg       0.61      0.52      0.54      2362\n",
      "weighted avg       0.60      0.52      0.53      2362\n",
      "\n"
     ]
    },
    {
     "name": "stderr",
     "output_type": "stream",
     "text": [
      " 77%|███████▋  | 46/60 [5:24:04<2:13:15, 571.14s/it]"
     ]
    },
    {
     "name": "stdout",
     "output_type": "stream",
     "text": [
      "======\n",
      "KNN/80000_new\\KNN_Ngram_4_K_97_f1_0.489.csv\n",
      "              precision    recall  f1-score   support\n",
      "\n",
      "           0       0.35      0.81      0.49       310\n",
      "           1       0.85      0.46      0.60       297\n",
      "           2       0.49      0.42      0.45       306\n",
      "           3       0.33      0.49      0.40       293\n",
      "           4       0.62      0.41      0.50       299\n",
      "           5       0.74      0.35      0.48       300\n",
      "           6       0.76      0.64      0.70       315\n",
      "           7       0.79      0.60      0.68       242\n",
      "\n",
      "    accuracy                           0.52      2362\n",
      "   macro avg       0.62      0.52      0.54      2362\n",
      "weighted avg       0.61      0.52      0.53      2362\n",
      "\n"
     ]
    },
    {
     "name": "stderr",
     "output_type": "stream",
     "text": [
      " 78%|███████▊  | 47/60 [5:31:27<1:55:23, 532.57s/it]"
     ]
    },
    {
     "name": "stdout",
     "output_type": "stream",
     "text": [
      "======\n",
      "KNN/80000_new\\KNN_Ngram_4_K_150_f1_0.473.csv\n",
      "              precision    recall  f1-score   support\n",
      "\n",
      "           0       0.32      0.85      0.46       310\n",
      "           1       0.85      0.41      0.56       297\n",
      "           2       0.51      0.42      0.46       306\n",
      "           3       0.31      0.49      0.38       293\n",
      "           4       0.64      0.38      0.48       299\n",
      "           5       0.80      0.32      0.45       300\n",
      "           6       0.77      0.61      0.68       315\n",
      "           7       0.87      0.47      0.61       242\n",
      "\n",
      "    accuracy                           0.50      2362\n",
      "   macro avg       0.63      0.49      0.51      2362\n",
      "weighted avg       0.63      0.50      0.51      2362\n",
      "\n"
     ]
    },
    {
     "name": "stderr",
     "output_type": "stream",
     "text": [
      " 80%|████████  | 48/60 [5:38:31<1:39:59, 499.94s/it]"
     ]
    },
    {
     "name": "stdout",
     "output_type": "stream",
     "text": [
      "======\n",
      "KNN/80000_new\\KNN_Ngram_4_K_200_f1_0.456.csv\n",
      "              precision    recall  f1-score   support\n",
      "\n",
      "           0       0.29      0.86      0.44       310\n",
      "           1       0.87      0.39      0.54       297\n",
      "           2       0.51      0.41      0.45       306\n",
      "           3       0.32      0.51      0.39       293\n",
      "           4       0.67      0.37      0.48       299\n",
      "           5       0.85      0.29      0.44       300\n",
      "           6       0.77      0.60      0.68       315\n",
      "           7       0.90      0.40      0.56       242\n",
      "\n",
      "    accuracy                           0.48      2362\n",
      "   macro avg       0.65      0.48      0.50      2362\n",
      "weighted avg       0.64      0.48      0.50      2362\n",
      "\n"
     ]
    },
    {
     "name": "stderr",
     "output_type": "stream",
     "text": [
      " 82%|████████▏ | 49/60 [5:46:05<1:29:08, 486.25s/it]"
     ]
    },
    {
     "name": "stdout",
     "output_type": "stream",
     "text": [
      "======\n",
      "KNN/80000_new\\KNN_Ngram_5_K_7_f1_0.124.csv\n",
      "              precision    recall  f1-score   support\n",
      "\n",
      "           0       0.00      0.00      0.00       310\n",
      "           1       0.00      0.00      0.00       297\n",
      "           2       1.00      0.00      0.01       306\n",
      "           3       0.00      0.00      0.00       293\n",
      "           4       0.00      0.00      0.00       299\n",
      "           5       0.94      0.05      0.10       300\n",
      "           6       0.00      0.00      0.00       315\n",
      "           7       0.10      1.00      0.19       242\n",
      "\n",
      "    accuracy                           0.11      2362\n",
      "   macro avg       0.26      0.13      0.04      2362\n",
      "weighted avg       0.26      0.11      0.03      2362\n",
      "\n"
     ]
    },
    {
     "name": "stderr",
     "output_type": "stream",
     "text": [
      "c:\\Users\\jaka_\\anaconda3\\envs\\newsapi\\lib\\site-packages\\sklearn\\metrics\\_classification.py:1344: UndefinedMetricWarning: Precision and F-score are ill-defined and being set to 0.0 in labels with no predicted samples. Use `zero_division` parameter to control this behavior.\n",
      "  _warn_prf(average, modifier, msg_start, len(result))\n",
      "c:\\Users\\jaka_\\anaconda3\\envs\\newsapi\\lib\\site-packages\\sklearn\\metrics\\_classification.py:1344: UndefinedMetricWarning: Precision and F-score are ill-defined and being set to 0.0 in labels with no predicted samples. Use `zero_division` parameter to control this behavior.\n",
      "  _warn_prf(average, modifier, msg_start, len(result))\n",
      "c:\\Users\\jaka_\\anaconda3\\envs\\newsapi\\lib\\site-packages\\sklearn\\metrics\\_classification.py:1344: UndefinedMetricWarning: Precision and F-score are ill-defined and being set to 0.0 in labels with no predicted samples. Use `zero_division` parameter to control this behavior.\n",
      "  _warn_prf(average, modifier, msg_start, len(result))\n",
      " 83%|████████▎ | 50/60 [5:53:08<1:17:52, 467.22s/it]"
     ]
    },
    {
     "name": "stdout",
     "output_type": "stream",
     "text": [
      "======\n",
      "KNN/80000_new\\KNN_Ngram_5_K_17_f1_0.316.csv\n",
      "              precision    recall  f1-score   support\n",
      "\n",
      "           0       0.65      0.09      0.16       310\n",
      "           1       0.93      0.08      0.15       297\n",
      "           2       0.54      0.07      0.12       306\n",
      "           3       0.20      0.00      0.01       293\n",
      "           4       0.45      0.38      0.41       299\n",
      "           5       0.59      0.37      0.45       300\n",
      "           6       0.98      0.20      0.33       315\n",
      "           7       0.13      0.94      0.23       242\n",
      "\n",
      "    accuracy                           0.25      2362\n",
      "   macro avg       0.56      0.27      0.23      2362\n",
      "weighted avg       0.57      0.25      0.23      2362\n",
      "\n"
     ]
    },
    {
     "name": "stderr",
     "output_type": "stream",
     "text": [
      " 85%|████████▌ | 51/60 [6:00:05<1:07:49, 452.17s/it]"
     ]
    },
    {
     "name": "stdout",
     "output_type": "stream",
     "text": [
      "======\n",
      "KNN/80000_new\\KNN_Ngram_5_K_27_f1_0.478.csv\n",
      "              precision    recall  f1-score   support\n",
      "\n",
      "           0       0.42      0.47      0.44       310\n",
      "           1       0.77      0.34      0.47       297\n",
      "           2       0.48      0.33      0.39       306\n",
      "           3       0.34      0.28      0.31       293\n",
      "           4       0.38      0.47      0.42       299\n",
      "           5       0.43      0.45      0.44       300\n",
      "           6       0.81      0.52      0.63       315\n",
      "           7       0.37      0.85      0.52       242\n",
      "\n",
      "    accuracy                           0.45      2362\n",
      "   macro avg       0.50      0.46      0.45      2362\n",
      "weighted avg       0.51      0.45      0.45      2362\n",
      "\n"
     ]
    },
    {
     "name": "stderr",
     "output_type": "stream",
     "text": [
      " 87%|████████▋ | 52/60 [6:07:09<59:10, 443.83s/it]  "
     ]
    },
    {
     "name": "stdout",
     "output_type": "stream",
     "text": [
      "======\n",
      "KNN/80000_new\\KNN_Ngram_5_K_37_f1_0.515.csv\n",
      "              precision    recall  f1-score   support\n",
      "\n",
      "           0       0.39      0.62      0.48       310\n",
      "           1       0.76      0.42      0.55       297\n",
      "           2       0.48      0.41      0.44       306\n",
      "           3       0.36      0.42      0.39       293\n",
      "           4       0.52      0.48      0.50       299\n",
      "           5       0.52      0.43      0.47       300\n",
      "           6       0.78      0.61      0.69       315\n",
      "           7       0.57      0.76      0.65       242\n",
      "\n",
      "    accuracy                           0.51      2362\n",
      "   macro avg       0.55      0.52      0.52      2362\n",
      "weighted avg       0.55      0.51      0.52      2362\n",
      "\n"
     ]
    },
    {
     "name": "stderr",
     "output_type": "stream",
     "text": [
      " 88%|████████▊ | 53/60 [6:14:06<50:50, 435.83s/it]"
     ]
    },
    {
     "name": "stdout",
     "output_type": "stream",
     "text": [
      "======\n",
      "KNN/80000_new\\KNN_Ngram_5_K_47_f1_0.513.csv\n",
      "              precision    recall  f1-score   support\n",
      "\n",
      "           0       0.39      0.72      0.51       310\n",
      "           1       0.78      0.42      0.55       297\n",
      "           2       0.48      0.42      0.45       306\n",
      "           3       0.34      0.45      0.39       293\n",
      "           4       0.56      0.44      0.49       299\n",
      "           5       0.59      0.41      0.48       300\n",
      "           6       0.77      0.65      0.71       315\n",
      "           7       0.66      0.71      0.69       242\n",
      "\n",
      "    accuracy                           0.53      2362\n",
      "   macro avg       0.57      0.53      0.53      2362\n",
      "weighted avg       0.57      0.53      0.53      2362\n",
      "\n"
     ]
    },
    {
     "name": "stderr",
     "output_type": "stream",
     "text": [
      " 90%|█████████ | 54/60 [6:18:56<39:12, 392.05s/it]"
     ]
    },
    {
     "name": "stdout",
     "output_type": "stream",
     "text": [
      "======\n",
      "KNN/80000_new\\KNN_Ngram_5_K_57_f1_0.510.csv\n",
      "              precision    recall  f1-score   support\n",
      "\n",
      "           0       0.38      0.75      0.51       310\n",
      "           1       0.78      0.44      0.56       297\n",
      "           2       0.46      0.41      0.43       306\n",
      "           3       0.33      0.44      0.38       293\n",
      "           4       0.60      0.45      0.51       299\n",
      "           5       0.63      0.40      0.49       300\n",
      "           6       0.76      0.64      0.70       315\n",
      "           7       0.73      0.69      0.71       242\n",
      "\n",
      "    accuracy                           0.53      2362\n",
      "   macro avg       0.58      0.53      0.54      2362\n",
      "weighted avg       0.58      0.53      0.53      2362\n",
      "\n"
     ]
    },
    {
     "name": "stderr",
     "output_type": "stream",
     "text": [
      " 92%|█████████▏| 55/60 [6:23:25<29:34, 354.95s/it]"
     ]
    },
    {
     "name": "stdout",
     "output_type": "stream",
     "text": [
      "======\n",
      "KNN/80000_new\\KNN_Ngram_5_K_67_f1_0.505.csv\n",
      "              precision    recall  f1-score   support\n",
      "\n",
      "           0       0.36      0.75      0.49       310\n",
      "           1       0.79      0.44      0.57       297\n",
      "           2       0.45      0.42      0.43       306\n",
      "           3       0.32      0.45      0.38       293\n",
      "           4       0.59      0.43      0.50       299\n",
      "           5       0.69      0.38      0.49       300\n",
      "           6       0.75      0.63      0.69       315\n",
      "           7       0.75      0.67      0.70       242\n",
      "\n",
      "    accuracy                           0.52      2362\n",
      "   macro avg       0.59      0.52      0.53      2362\n",
      "weighted avg       0.58      0.52      0.53      2362\n",
      "\n"
     ]
    },
    {
     "name": "stderr",
     "output_type": "stream",
     "text": [
      " 93%|█████████▎| 56/60 [6:27:55<21:58, 329.67s/it]"
     ]
    },
    {
     "name": "stdout",
     "output_type": "stream",
     "text": [
      "======\n",
      "KNN/80000_new\\KNN_Ngram_5_K_77_f1_0.500.csv\n",
      "              precision    recall  f1-score   support\n",
      "\n",
      "           0       0.36      0.79      0.49       310\n",
      "           1       0.80      0.45      0.58       297\n",
      "           2       0.47      0.42      0.45       306\n",
      "           3       0.32      0.45      0.38       293\n",
      "           4       0.61      0.41      0.49       299\n",
      "           5       0.70      0.35      0.47       300\n",
      "           6       0.75      0.63      0.69       315\n",
      "           7       0.77      0.65      0.71       242\n",
      "\n",
      "    accuracy                           0.52      2362\n",
      "   macro avg       0.60      0.52      0.53      2362\n",
      "weighted avg       0.59      0.52      0.53      2362\n",
      "\n"
     ]
    },
    {
     "name": "stderr",
     "output_type": "stream",
     "text": [
      " 95%|█████████▌| 57/60 [6:32:23<15:33, 311.06s/it]"
     ]
    },
    {
     "name": "stdout",
     "output_type": "stream",
     "text": [
      "======\n",
      "KNN/80000_new\\KNN_Ngram_5_K_87_f1_0.494.csv\n",
      "              precision    recall  f1-score   support\n",
      "\n",
      "           0       0.35      0.79      0.48       310\n",
      "           1       0.83      0.46      0.59       297\n",
      "           2       0.47      0.41      0.44       306\n",
      "           3       0.31      0.47      0.38       293\n",
      "           4       0.63      0.42      0.51       299\n",
      "           5       0.74      0.34      0.47       300\n",
      "           6       0.75      0.63      0.69       315\n",
      "           7       0.81      0.62      0.71       242\n",
      "\n",
      "    accuracy                           0.52      2362\n",
      "   macro avg       0.61      0.52      0.53      2362\n",
      "weighted avg       0.61      0.52      0.53      2362\n",
      "\n"
     ]
    },
    {
     "name": "stderr",
     "output_type": "stream",
     "text": [
      " 97%|█████████▋| 58/60 [6:36:48<09:54, 297.29s/it]"
     ]
    },
    {
     "name": "stdout",
     "output_type": "stream",
     "text": [
      "======\n",
      "KNN/80000_new\\KNN_Ngram_5_K_97_f1_0.489.csv\n",
      "              precision    recall  f1-score   support\n",
      "\n",
      "           0       0.35      0.82      0.49       310\n",
      "           1       0.84      0.46      0.60       297\n",
      "           2       0.47      0.43      0.45       306\n",
      "           3       0.33      0.48      0.39       293\n",
      "           4       0.63      0.41      0.50       299\n",
      "           5       0.76      0.35      0.48       300\n",
      "           6       0.76      0.63      0.69       315\n",
      "           7       0.83      0.59      0.69       242\n",
      "\n",
      "    accuracy                           0.52      2362\n",
      "   macro avg       0.62      0.52      0.54      2362\n",
      "weighted avg       0.62      0.52      0.53      2362\n",
      "\n"
     ]
    },
    {
     "name": "stderr",
     "output_type": "stream",
     "text": [
      " 98%|█████████▊| 59/60 [6:40:48<04:40, 280.21s/it]"
     ]
    },
    {
     "name": "stdout",
     "output_type": "stream",
     "text": [
      "======\n",
      "KNN/80000_new\\KNN_Ngram_5_K_150_f1_0.471.csv\n",
      "              precision    recall  f1-score   support\n",
      "\n",
      "           0       0.32      0.84      0.46       310\n",
      "           1       0.86      0.42      0.56       297\n",
      "           2       0.51      0.42      0.46       306\n",
      "           3       0.32      0.50      0.39       293\n",
      "           4       0.64      0.37      0.47       299\n",
      "           5       0.81      0.32      0.46       300\n",
      "           6       0.77      0.61      0.68       315\n",
      "           7       0.88      0.46      0.61       242\n",
      "\n",
      "    accuracy                           0.50      2362\n",
      "   macro avg       0.64      0.49      0.51      2362\n",
      "weighted avg       0.63      0.50      0.51      2362\n",
      "\n"
     ]
    },
    {
     "name": "stderr",
     "output_type": "stream",
     "text": [
      "100%|██████████| 60/60 [6:45:25<00:00, 405.43s/it]"
     ]
    },
    {
     "name": "stdout",
     "output_type": "stream",
     "text": [
      "======\n",
      "KNN/80000_new\\KNN_Ngram_5_K_200_f1_0.455.csv\n",
      "              precision    recall  f1-score   support\n",
      "\n",
      "           0       0.29      0.86      0.44       310\n",
      "           1       0.86      0.39      0.54       297\n",
      "           2       0.50      0.38      0.43       306\n",
      "           3       0.33      0.51      0.40       293\n",
      "           4       0.68      0.38      0.49       299\n",
      "           5       0.84      0.30      0.44       300\n",
      "           6       0.76      0.60      0.67       315\n",
      "           7       0.90      0.40      0.55       242\n",
      "\n",
      "    accuracy                           0.48      2362\n",
      "   macro avg       0.64      0.48      0.49      2362\n",
      "weighted avg       0.64      0.48      0.49      2362\n",
      "\n"
     ]
    },
    {
     "name": "stderr",
     "output_type": "stream",
     "text": [
      "\n"
     ]
    }
   ],
   "source": [
    "k_sizes = [7, 17, 27, 37, 47, 57, 67, 77, 87, 97, 150, 200]\n",
    "\n",
    "max_ngram_size = 5\n",
    "num_k = len(k_sizes)\n",
    "\n",
    "# Number runs = number traing/test a KNN classifier\n",
    "num_runs = max_ngram_size * num_k\n",
    "\n",
    "# numpy array to keep track of all results\n",
    "knn_results = np.zeros((max_ngram_size, num_k))\n",
    "\n",
    "tfidf_vectorizer_arr = []\n",
    "\n",
    "with tqdm(total=num_runs) as pbar:\n",
    "    for i, ngram in enumerate(range(1, max_ngram_size+1)):\n",
    "        # Create Document-Term Matrix for different n-gram sizes\n",
    "        tfidf_vectorizer = TfidfVectorizer(ngram_range=(1, ngram), max_features=80000)\n",
    "        tfidf_vectorizer_arr.append(tfidf_vectorizer)\n",
    "        #tfidf_vectorizer = TfidfVectorizer(norm='l1',ngram_range=(1, ngram),max_features=80000)\n",
    "        X_train = tfidf_vectorizer.fit_transform(sentences_train)\n",
    "        X_test = tfidf_vectorizer.transform(sentences_test)\n",
    "        # Train & test model using cross validation\n",
    "        for j, k in enumerate(k_sizes):\n",
    "            knn = KNeighborsClassifier(n_neighbors=k).fit(X_train, y_train)\n",
    "            scores = cross_val_score(knn, X_train, y_train, cv=10, scoring=\"f1_micro\")\n",
    "            mean_score = np.mean(scores)\n",
    "            knn_results[i,j] = mean_score\n",
    "            pbar.update(1)\n",
    "\n",
    "            #output result\n",
    "            y_pred = knn.predict(X_test)\n",
    "            filename = \"KNN/80000_new\\KNN_\"+\"Ngram_\"+str(ngram)+\"_K_\"+str(k)+\"_f1_\"+\"{:.3f}\".format(mean_score)+\".csv\"\n",
    "            df_output = pd.DataFrame(y_pred, columns=['Predicted'])\n",
    "            df_output.to_csv(filename)\n",
    "\n",
    "            print(\"======\")\n",
    "            print(filename)\n",
    "            print(classification_report(y_test, y_pred))"
   ]
  },
  {
   "cell_type": "code",
   "execution_count": 19,
   "metadata": {},
   "outputs": [
    {
     "data": {
      "image/png": "[encoded data removed]",
      "text/plain": [
       "<Figure size 640x480 with 2 Axes>"
      ]
     },
     "metadata": {},
     "output_type": "display_data"
    }
   ],
   "source": [
    "# Use the heatmap function from the seaborn package\n",
    "plt.figure()\n",
    "\n",
    "sns.heatmap(knn_results, annot=True, cmap=\"crest\", xticklabels=k_sizes, yticklabels=list(range(1,max_ngram_size+1)))\n",
    "\n",
    "plt.xticks(fontsize=14)\n",
    "plt.yticks(fontsize=14)\n",
    "plt.ylabel('Maximum N-Gram Size', fontsize=16)\n",
    "plt.xlabel('Number of Neighbors (k)', fontsize=16)\n",
    "\n",
    "plt.show()"
   ]
  },
  {
   "attachments": {},
   "cell_type": "markdown",
   "metadata": {},
   "source": [
    "### TEST2: Naive Bayes Classifier"
   ]
  },
  {
   "cell_type": "code",
   "execution_count": 20,
   "metadata": {},
   "outputs": [
    {
     "name": "stderr",
     "output_type": "stream",
     "text": [
      " 25%|██▌       | 1/4 [00:17<00:52, 17.63s/it]"
     ]
    },
    {
     "name": "stdout",
     "output_type": "stream",
     "text": [
      "======\n",
      "Bayes/80000_new\\Bayes_Ngram_1_f1_0.580.csv\n",
      "              precision    recall  f1-score   support\n",
      "\n",
      "           0       0.46      0.85      0.60       310\n",
      "           1       0.78      0.62      0.69       297\n",
      "           2       0.61      0.50      0.55       306\n",
      "           3       0.34      0.59      0.44       293\n",
      "           4       0.62      0.61      0.62       299\n",
      "           5       0.87      0.31      0.46       300\n",
      "           6       0.88      0.87      0.88       315\n",
      "           7       0.97      0.35      0.51       242\n",
      "\n",
      "    accuracy                           0.60      2362\n",
      "   macro avg       0.69      0.59      0.59      2362\n",
      "weighted avg       0.69      0.60      0.60      2362\n",
      "\n"
     ]
    },
    {
     "name": "stderr",
     "output_type": "stream",
     "text": [
      " 50%|█████     | 2/4 [00:18<00:15,  7.94s/it]"
     ]
    },
    {
     "name": "stdout",
     "output_type": "stream",
     "text": [
      "======\n",
      "Bayes/80000_new\\Bayes_Ngram_2_f1_0.566.csv\n",
      "              precision    recall  f1-score   support\n",
      "\n",
      "           0       0.53      0.81      0.64       310\n",
      "           1       0.75      0.59      0.66       297\n",
      "           2       0.63      0.39      0.48       306\n",
      "           3       0.30      0.72      0.42       293\n",
      "           4       0.63      0.61      0.62       299\n",
      "           5       0.84      0.30      0.45       300\n",
      "           6       0.90      0.87      0.89       315\n",
      "           7       0.97      0.26      0.41       242\n",
      "\n",
      "    accuracy                           0.58      2362\n",
      "   macro avg       0.69      0.57      0.57      2362\n",
      "weighted avg       0.69      0.58      0.58      2362\n",
      "\n"
     ]
    },
    {
     "name": "stderr",
     "output_type": "stream",
     "text": [
      " 75%|███████▌  | 3/4 [00:22<00:05,  5.91s/it]"
     ]
    },
    {
     "name": "stdout",
     "output_type": "stream",
     "text": [
      "======\n",
      "Bayes/80000_new\\Bayes_Ngram_3_f1_0.570.csv\n",
      "              precision    recall  f1-score   support\n",
      "\n",
      "           0       0.47      0.85      0.61       310\n",
      "           1       0.77      0.61      0.68       297\n",
      "           2       0.64      0.45      0.53       306\n",
      "           3       0.33      0.68      0.44       293\n",
      "           4       0.63      0.60      0.61       299\n",
      "           5       0.90      0.30      0.45       300\n",
      "           6       0.88      0.86      0.87       315\n",
      "           7       0.96      0.27      0.42       242\n",
      "\n",
      "    accuracy                           0.59      2362\n",
      "   macro avg       0.70      0.58      0.58      2362\n",
      "weighted avg       0.69      0.59      0.58      2362\n",
      "\n"
     ]
    },
    {
     "name": "stderr",
     "output_type": "stream",
     "text": [
      "100%|██████████| 4/4 [00:29<00:00,  6.56s/it]"
     ]
    },
    {
     "name": "stdout",
     "output_type": "stream",
     "text": [
      "======\n",
      "Bayes/80000_new\\Bayes_Ngram_4_f1_0.582.csv\n",
      "              precision    recall  f1-score   support\n",
      "\n",
      "           0       0.47      0.85      0.60       310\n",
      "           1       0.77      0.61      0.68       297\n",
      "           2       0.61      0.48      0.54       306\n",
      "           3       0.33      0.61      0.43       293\n",
      "           4       0.63      0.61      0.62       299\n",
      "           5       0.88      0.32      0.47       300\n",
      "           6       0.88      0.88      0.88       315\n",
      "           7       0.96      0.33      0.50       242\n",
      "\n",
      "    accuracy                           0.59      2362\n",
      "   macro avg       0.69      0.59      0.59      2362\n",
      "weighted avg       0.69      0.59      0.59      2362\n",
      "\n"
     ]
    },
    {
     "name": "stderr",
     "output_type": "stream",
     "text": [
      "5it [00:42,  8.44s/it]                       "
     ]
    },
    {
     "name": "stdout",
     "output_type": "stream",
     "text": [
      "======\n",
      "Bayes/80000_new\\Bayes_Ngram_5_f1_0.579.csv\n",
      "              precision    recall  f1-score   support\n",
      "\n",
      "           0       0.46      0.85      0.60       310\n",
      "           1       0.77      0.61      0.68       297\n",
      "           2       0.61      0.49      0.55       306\n",
      "           3       0.34      0.59      0.43       293\n",
      "           4       0.62      0.61      0.61       299\n",
      "           5       0.88      0.32      0.47       300\n",
      "           6       0.89      0.87      0.88       315\n",
      "           7       0.97      0.35      0.51       242\n",
      "\n",
      "    accuracy                           0.59      2362\n",
      "   macro avg       0.69      0.59      0.59      2362\n",
      "weighted avg       0.69      0.59      0.59      2362\n",
      "\n"
     ]
    },
    {
     "name": "stderr",
     "output_type": "stream",
     "text": [
      "\n"
     ]
    }
   ],
   "source": [
    "#Naive Bayes\n",
    "from sklearn.naive_bayes import MultinomialNB\n",
    "\n",
    "min_ngram_size = 1\n",
    "max_ngram_size = 5\n",
    "\n",
    "num_runs = max_ngram_size - min_ngram_size\n",
    "\n",
    "# numpy array to keep track of all results\n",
    "results = []\n",
    "\n",
    "max\n",
    "with tqdm(total=num_runs) as pbar:\n",
    "    for i, ngram in enumerate(range(min_ngram_size, max_ngram_size+1)):\n",
    "        # Create Document-Term Matrix for different n-gram sizes\n",
    "        tfidf_vectorizer = tfidf_vectorizer_arr[i-1]\n",
    "        X_train = tfidf_vectorizer.fit_transform(sentences_train)\n",
    "        X_test = tfidf_vectorizer.transform(sentences_test)\n",
    "        # Train & test model using cross validation\n",
    "        model = MultinomialNB().fit(X_train, y_train)\n",
    "        y_pred = model.predict(X_test)\n",
    "        scores = cross_val_score(model, X_train, y_train, cv=10, scoring=\"f1_micro\")\n",
    "        mean_score = np.mean(scores)\n",
    "        results.append((ngram, mean_score))\n",
    "        pbar.update(1)\n",
    "\n",
    "        #output result\n",
    "        filename = \"Bayes/80000_new\\Bayes_\"+\"Ngram_\"+str(ngram)+\"_f1_\"+\"{:.3f}\".format(mean_score)+\".csv\"\n",
    "        df_output = pd.DataFrame(y_pred, columns=['Predicted'])\n",
    "        df_output.to_csv(filename)\n",
    "\n",
    "        print(\"======\")\n",
    "        print(filename)\n",
    "        print(classification_report(y_test, y_pred))"
   ]
  },
  {
   "cell_type": "code",
   "execution_count": 21,
   "metadata": {},
   "outputs": [
    {
     "data": {
      "image/png": "[encoded data removed]",
      "text/plain": [
       "<Figure size 640x480 with 1 Axes>"
      ]
     },
     "metadata": {},
     "output_type": "display_data"
    }
   ],
   "source": [
    "plt.figure()\n",
    "plt.plot([s[0] for s in results], [s[1] for s in results], lw=3)\n",
    "font_axes = {'family':'serif','color':'black','size':16}\n",
    "plt.xticks(fontsize=14)\n",
    "plt.yticks(fontsize=14)\n",
    "plt.xlabel(\"Max N-Gram Size\", fontdict=font_axes)\n",
    "plt.ylabel(\"F1 Score\", fontdict=font_axes)\n",
    "plt.tight_layout()\n",
    "plt.show()"
   ]
  },
  {
   "cell_type": "code",
   "execution_count": 22,
   "metadata": {},
   "outputs": [],
   "source": [
    "### TEST 3: Logistic Regression"
   ]
  },
  {
   "cell_type": "code",
   "execution_count": 23,
   "metadata": {},
   "outputs": [
    {
     "name": "stderr",
     "output_type": "stream",
     "text": [
      " 25%|██▌       | 1/4 [02:52<08:36, 172.14s/it]"
     ]
    },
    {
     "name": "stdout",
     "output_type": "stream",
     "text": [
      "======\n",
      "LogisticRegression/80000_new\\LR_Ngram_1_f1_0.703.csv\n",
      "              precision    recall  f1-score   support\n",
      "\n",
      "           0       0.74      0.75      0.75       310\n",
      "           1       0.79      0.73      0.76       297\n",
      "           2       0.57      0.63      0.60       306\n",
      "           3       0.44      0.48      0.46       293\n",
      "           4       0.76      0.65      0.70       299\n",
      "           5       0.73      0.58      0.65       300\n",
      "           6       0.94      0.88      0.91       315\n",
      "           7       0.66      0.90      0.77       242\n",
      "\n",
      "    accuracy                           0.70      2362\n",
      "   macro avg       0.71      0.70      0.70      2362\n",
      "weighted avg       0.71      0.70      0.70      2362\n",
      "\n"
     ]
    },
    {
     "name": "stderr",
     "output_type": "stream",
     "text": [
      " 50%|█████     | 2/4 [03:44<03:23, 101.78s/it]"
     ]
    },
    {
     "name": "stdout",
     "output_type": "stream",
     "text": [
      "======\n",
      "LogisticRegression/80000_new\\LR_Ngram_2_f1_0.710.csv\n",
      "              precision    recall  f1-score   support\n",
      "\n",
      "           0       0.77      0.77      0.77       310\n",
      "           1       0.81      0.74      0.77       297\n",
      "           2       0.59      0.62      0.61       306\n",
      "           3       0.46      0.49      0.48       293\n",
      "           4       0.78      0.68      0.73       299\n",
      "           5       0.72      0.61      0.66       300\n",
      "           6       0.94      0.88      0.91       315\n",
      "           7       0.66      0.91      0.76       242\n",
      "\n",
      "    accuracy                           0.71      2362\n",
      "   macro avg       0.72      0.71      0.71      2362\n",
      "weighted avg       0.72      0.71      0.71      2362\n",
      "\n"
     ]
    },
    {
     "name": "stderr",
     "output_type": "stream",
     "text": [
      " 75%|███████▌  | 3/4 [06:14<02:03, 123.86s/it]"
     ]
    },
    {
     "name": "stdout",
     "output_type": "stream",
     "text": [
      "======\n",
      "LogisticRegression/80000_new\\LR_Ngram_3_f1_0.707.csv\n",
      "              precision    recall  f1-score   support\n",
      "\n",
      "           0       0.75      0.75      0.75       310\n",
      "           1       0.83      0.73      0.78       297\n",
      "           2       0.60      0.65      0.62       306\n",
      "           3       0.48      0.52      0.50       293\n",
      "           4       0.77      0.67      0.72       299\n",
      "           5       0.71      0.59      0.64       300\n",
      "           6       0.95      0.88      0.91       315\n",
      "           7       0.66      0.91      0.76       242\n",
      "\n",
      "    accuracy                           0.71      2362\n",
      "   macro avg       0.72      0.71      0.71      2362\n",
      "weighted avg       0.72      0.71      0.71      2362\n",
      "\n"
     ]
    },
    {
     "name": "stderr",
     "output_type": "stream",
     "text": [
      "100%|██████████| 4/4 [08:56<00:00, 138.77s/it]"
     ]
    },
    {
     "name": "stdout",
     "output_type": "stream",
     "text": [
      "======\n",
      "LogisticRegression/80000_new\\LR_Ngram_4_f1_0.704.csv\n",
      "              precision    recall  f1-score   support\n",
      "\n",
      "           0       0.75      0.76      0.75       310\n",
      "           1       0.80      0.73      0.77       297\n",
      "           2       0.57      0.65      0.61       306\n",
      "           3       0.45      0.48      0.46       293\n",
      "           4       0.75      0.65      0.70       299\n",
      "           5       0.73      0.58      0.65       300\n",
      "           6       0.95      0.88      0.91       315\n",
      "           7       0.66      0.90      0.76       242\n",
      "\n",
      "    accuracy                           0.70      2362\n",
      "   macro avg       0.71      0.70      0.70      2362\n",
      "weighted avg       0.71      0.70      0.70      2362\n",
      "\n"
     ]
    },
    {
     "name": "stderr",
     "output_type": "stream",
     "text": [
      "5it [11:41, 140.33s/it]                       "
     ]
    },
    {
     "name": "stdout",
     "output_type": "stream",
     "text": [
      "======\n",
      "LogisticRegression/80000_new\\LR_Ngram_5_f1_0.704.csv\n",
      "              precision    recall  f1-score   support\n",
      "\n",
      "           0       0.75      0.75      0.75       310\n",
      "           1       0.80      0.73      0.76       297\n",
      "           2       0.57      0.64      0.60       306\n",
      "           3       0.45      0.47      0.46       293\n",
      "           4       0.75      0.66      0.70       299\n",
      "           5       0.73      0.58      0.65       300\n",
      "           6       0.94      0.88      0.91       315\n",
      "           7       0.67      0.91      0.77       242\n",
      "\n",
      "    accuracy                           0.70      2362\n",
      "   macro avg       0.71      0.70      0.70      2362\n",
      "weighted avg       0.71      0.70      0.70      2362\n",
      "\n"
     ]
    },
    {
     "name": "stderr",
     "output_type": "stream",
     "text": [
      "\n"
     ]
    }
   ],
   "source": [
    "#Logistic Regression\n",
    "from sklearn.linear_model import LogisticRegression\n",
    "\n",
    "min_ngram_size = 1\n",
    "max_ngram_size = 5\n",
    "\n",
    "num_runs = max_ngram_size - min_ngram_size\n",
    "\n",
    "# numpy array to keep track of all results\n",
    "results = []\n",
    "\n",
    "with tqdm(total=num_runs) as pbar:\n",
    "    for i, ngram in enumerate(range(min_ngram_size, max_ngram_size+1)):\n",
    "        # Create Document-Term Matrix for different n-gram sizes\n",
    "        tfidf_vectorizer = tfidf_vectorizer_arr[i-1]\n",
    "        X_train = tfidf_vectorizer.fit_transform(sentences_train)\n",
    "        X_test = tfidf_vectorizer.transform(sentences_test)\n",
    "        # Train & test model using cross validation\n",
    "        model = LogisticRegression(max_iter=500).fit(X_train, y_train)\n",
    "        y_pred = model.predict(X_test)\n",
    "        scores = cross_val_score(model, X_train, y_train, cv=10, scoring=\"f1_micro\")\n",
    "        mean_score = np.mean(scores)\n",
    "        results.append((ngram, mean_score))\n",
    "        pbar.update(1)\n",
    "\n",
    "        #output result\n",
    "        filename = \"LogisticRegression/80000_new\\LR_\"+\"Ngram_\"+str(ngram)+\"_f1_\"+\"{:.3f}\".format(mean_score)+\".csv\"\n",
    "        df_output = pd.DataFrame(y_pred, columns=['Predicted'])\n",
    "        df_output.to_csv(filename)\n",
    "\n",
    "        print(\"======\")\n",
    "        print(filename)\n",
    "        print(classification_report(y_test, y_pred))"
   ]
  },
  {
   "cell_type": "code",
   "execution_count": 24,
   "metadata": {},
   "outputs": [
    {
     "data": {
      "image/png": "[encoded data removed]",
      "text/plain": [
       "<Figure size 640x480 with 1 Axes>"
      ]
     },
     "metadata": {},
     "output_type": "display_data"
    }
   ],
   "source": [
    "plt.figure()\n",
    "plt.plot([s[0] for s in results], [s[1] for s in results], lw=3)\n",
    "font_axes = {'family':'serif','color':'black','size':16}\n",
    "plt.xticks(fontsize=14)\n",
    "plt.yticks(fontsize=14)\n",
    "plt.xlabel(\"Max N-Gram Size\", fontdict=font_axes)\n",
    "plt.ylabel(\"F1 Score\", fontdict=font_axes)\n",
    "plt.tight_layout()\n",
    "plt.show()"
   ]
  }
 ],
 "metadata": {
  "kernelspec": {
   "display_name": "newsapi",
   "language": "python",
   "name": "python3"
  },
  "language_info": {
   "codemirror_mode": {
    "name": "ipython",
    "version": 3
   },
   "file_extension": ".py",
   "mimetype": "text/x-python",
   "name": "python",
   "nbconvert_exporter": "python",
   "pygments_lexer": "ipython3",
   "version": "3.9.16"
  },
  "vscode": {
   "interpreter": {
    "hash": "a2ba62319aaa37485adafec6256227f58818f389d94ef50b70467cdbcd924512"
   }
  }
 },
 "nbformat": 4,
 "nbformat_minor": 2
}
