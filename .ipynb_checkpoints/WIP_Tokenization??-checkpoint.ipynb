{
 "cells": [
  {
   "cell_type": "code",
   "execution_count": 4,
   "id": "5d065225",
   "metadata": {},
   "outputs": [],
   "source": [
    "from text_processing import *"
   ]
  },
  {
   "cell_type": "code",
   "execution_count": null,
   "id": "caec5e87",
   "metadata": {},
   "outputs": [],
   "source": [
    "ptu"
   ]
  }
 ],
 "metadata": {
  "kernelspec": {
   "display_name": "Python 3 (ipykernel)",
   "language": "python",
   "name": "python3"
  },
  "language_info": {
   "codemirror_mode": {
    "name": "ipython",
    "version": 3
   },
   "file_extension": ".py",
   "mimetype": "text/x-python",
   "name": "python",
   "nbconvert_exporter": "python",
   "pygments_lexer": "ipython3",
   "version": "3.10.8"
  }
 },
 "nbformat": 4,
 "nbformat_minor": 5
}
