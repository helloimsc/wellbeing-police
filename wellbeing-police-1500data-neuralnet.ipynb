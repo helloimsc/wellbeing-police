{
 "cells": [
  {
   "cell_type": "markdown",
   "metadata": {},
   "source": [
    "# Wellbeing Police\n",
    "\n",
    "From various subreddit, we have scraped close to 4000 posts. The subreddits include \"r/SuicideWatch\", \"r/BipolarReddit\", \"r/Anxiety\", \"r/AnxietyDepression\", \"r/Depression\", and \"r/Happy\". Each of the subreddit posts currently sitting within its own csv file. We will see what are the fields that are consistent across the CSV files and choose those applicable. Clean up the data, removed the columns not needed. \n",
    "\n",
    "As all the scrapes was created from the same script, the columns of the resulting csv are same across the files. \n",
    "We will proceed to label them according to the subreddit they came from and combine them into a single dataframe."
   ]
  },
  {
   "cell_type": "code",
   "execution_count": 55,
   "metadata": {},
   "outputs": [
    {
     "name": "stdout",
     "output_type": "stream",
     "text": [
      "The autoreload extension is already loaded. To reload it, use:\n",
      "  %reload_ext autoreload\n"
     ]
    }
   ],
   "source": [
    "%load_ext autoreload\n",
    "%autoreload 2"
   ]
  },
  {
   "cell_type": "code",
   "execution_count": 77,
   "metadata": {},
   "outputs": [],
   "source": [
    "import numpy as np\n",
    "import pandas as pd\n",
    "import glob\n",
    "import os\n",
    "import spacy\n",
    "import re\n",
    "import torch\n",
    "import torch.nn as nn\n",
    "import torch.nn.functional as F\n",
    "import torch.optim as optim\n",
    "\n",
    "from wordcloud import WordCloud\n",
    "import matplotlib.pyplot as plt\n",
    "import seaborn as sns\n",
    "from collections import Counter\n",
    "\n",
    "from sklearn.feature_extraction.text import TfidfVectorizer\n",
    "from sklearn.metrics import f1_score, accuracy_score\n",
    "from sklearn.model_selection import train_test_split\n",
    "from nltk.stem.porter import PorterStemmer\n",
    "import torch\n",
    "from torchtext.data.utils import get_tokenizer\n",
    "from torchtext.vocab import build_vocab_from_iterator\n",
    "from torchtext.vocab import GloVe\n",
    "\n",
    "\n",
    "from src.utils import color_func, get_mask, search,text_normalization\n",
    "from src.nn import *"
   ]
  },
  {
   "cell_type": "markdown",
   "metadata": {},
   "source": [
    "### Data Combination and Labeling\n",
    "\n",
    "We retrieved posts in “Hot” section from various subreddits:\n",
    "`r/ptsd`,`r/Anxiety`,`r/SuicideWatch`,`r/depression`,`r/BipolarReddit`,`r/schizophrenia`,`r/EDAnonymous`,`r/EatingDisorders`"
   ]
  },
  {
   "cell_type": "code",
   "execution_count": 57,
   "metadata": {},
   "outputs": [
    {
     "name": "stdout",
     "output_type": "stream",
     "text": [
      "(34785, 3)\n",
      "(24291, 3)\n",
      "(24291, 3)\n",
      "(24291, 3)\n",
      "(24291, 3)\n"
     ]
    },
    {
     "data": {
      "text/html": [
       "<div>\n",
       "<style scoped>\n",
       "    .dataframe tbody tr th:only-of-type {\n",
       "        vertical-align: middle;\n",
       "    }\n",
       "\n",
       "    .dataframe tbody tr th {\n",
       "        vertical-align: top;\n",
       "    }\n",
       "\n",
       "    .dataframe thead th {\n",
       "        text-align: right;\n",
       "    }\n",
       "</style>\n",
       "<table border=\"1\" class=\"dataframe\">\n",
       "  <thead>\n",
       "    <tr style=\"text-align: right;\">\n",
       "      <th></th>\n",
       "      <th>title</th>\n",
       "      <th>subreddit</th>\n",
       "      <th>body</th>\n",
       "    </tr>\n",
       "  </thead>\n",
       "  <tbody>\n",
       "    <tr>\n",
       "      <th>2</th>\n",
       "      <td>Just swallowed half a bottle of Tylenol waitin...</td>\n",
       "      <td>SuicideWatch</td>\n",
       "      <td>Just swallowed half a bottle of Tylenol waitin...</td>\n",
       "    </tr>\n",
       "    <tr>\n",
       "      <th>3</th>\n",
       "      <td>I just want to be normal</td>\n",
       "      <td>SuicideWatch</td>\n",
       "      <td>I just want to be normal I’ve been depressed/s...</td>\n",
       "    </tr>\n",
       "    <tr>\n",
       "      <th>4</th>\n",
       "      <td>I am really struggling. I need help. Anything ...</td>\n",
       "      <td>SuicideWatch</td>\n",
       "      <td>I am really struggling. I need help. Anything ...</td>\n",
       "    </tr>\n",
       "    <tr>\n",
       "      <th>5</th>\n",
       "      <td>i discontinued my own suicide attempt</td>\n",
       "      <td>SuicideWatch</td>\n",
       "      <td>i discontinued my own suicide attempt i don‘t ...</td>\n",
       "    </tr>\n",
       "    <tr>\n",
       "      <th>6</th>\n",
       "      <td>I always look outside of the window, dreaming ...</td>\n",
       "      <td>SuicideWatch</td>\n",
       "      <td>I always look outside of the window, dreaming ...</td>\n",
       "    </tr>\n",
       "  </tbody>\n",
       "</table>\n",
       "</div>"
      ],
      "text/plain": [
       "                                               title     subreddit  \\\n",
       "2  Just swallowed half a bottle of Tylenol waitin...  SuicideWatch   \n",
       "3                           I just want to be normal  SuicideWatch   \n",
       "4  I am really struggling. I need help. Anything ...  SuicideWatch   \n",
       "5              i discontinued my own suicide attempt  SuicideWatch   \n",
       "6  I always look outside of the window, dreaming ...  SuicideWatch   \n",
       "\n",
       "                                                body  \n",
       "2  Just swallowed half a bottle of Tylenol waitin...  \n",
       "3  I just want to be normal I’ve been depressed/s...  \n",
       "4  I am really struggling. I need help. Anything ...  \n",
       "5  i discontinued my own suicide attempt i don‘t ...  \n",
       "6  I always look outside of the window, dreaming ...  "
      ]
     },
     "execution_count": 57,
     "metadata": {},
     "output_type": "execute_result"
    }
   ],
   "source": [
    "path = \"./reddit/csvs/\"\n",
    "all_csvs = glob.glob(os.path.join(path, \"*.csv\"))\n",
    "\n",
    "all_dfs = []\n",
    "for filename in all_csvs:\n",
    "    df = pd.read_csv(filename, index_col=None, header=0)\n",
    "    df = df[[\"title\", \"subreddit\", \"body\"]]\n",
    "    df = df[2:]\n",
    "    \n",
    "    # ## manually remove irrelevant pinned posts\n",
    "    # if df.iloc[0].subreddit in [\"ptsd\",'Anxiety',\"SuicideWatch\",'EDAnonymous']: \n",
    "    #     df=df[2:]\n",
    "    # if df.iloc[0].subreddit in ['BipolarReddit','schizophrenia','EatingDisorders']:\n",
    "    #     df=df[1:]\n",
    "        \n",
    "    all_dfs.append(df)\n",
    "\n",
    "# main_df = pd.concat(all_dfs)\n",
    "# print(main_df.shape)\n",
    "# main_df = main_df.drop_duplicates()\n",
    "# print(main_df.shape)\n",
    "# main_df = main_df.dropna()\n",
    "# print(main_df.shape)\n",
    "# main_df.head()\n",
    "\n",
    "\n",
    "# main_df[\"body\"] = main_df[\"title\"] + \" \" + main_df[\"body\"]\n",
    "# main_df = main_df.drop_duplicates()\n",
    "# print(main_df.shape)\n",
    "# main_df = main_df.dropna()\n",
    "# print(main_df.shape)\n",
    "# main_df.head()\n",
    "\n",
    "main_df = pd.concat(all_dfs)\n",
    "print(main_df.shape)\n",
    "main_df = main_df.fillna('')\n",
    "main_df[\"body\"] = main_df[\"title\"] + \" \" + main_df[\"body\"]\n",
    "main_df = main_df.drop_duplicates()\n",
    "print(main_df.shape)\n",
    "main_df = main_df.dropna()\n",
    "print(main_df.shape)\n",
    "main_df.head()\n",
    "\n",
    "\n",
    "main_df = main_df.drop_duplicates()\n",
    "print(main_df.shape)\n",
    "main_df = main_df.dropna()\n",
    "print(main_df.shape)\n",
    "main_df.head()\n"
   ]
  },
  {
   "cell_type": "markdown",
   "metadata": {},
   "source": [
    "A few of the subreddit is indicating the same underlying mental problems, we proceed to add an attribute such that these minor differentiation will be grouped for better and easier identification."
   ]
  },
  {
   "cell_type": "code",
   "execution_count": 58,
   "metadata": {},
   "outputs": [
    {
     "data": {
      "text/plain": [
       "<Axes: title={'center': 'Class Counts'}>"
      ]
     },
     "execution_count": 58,
     "metadata": {},
     "output_type": "execute_result"
    },
    {
     "data": {
      "image/png": "[encoded data removed]",
      "text/plain": [
       "<Figure size 640x480 with 1 Axes>"
      ]
     },
     "metadata": {},
     "output_type": "display_data"
    }
   ],
   "source": [
    "sub_problem_mapping = {\n",
    "    \"ptsd\": \"PTSD\",\n",
    "    \"CPTSD\": \"PTSD\",\n",
    "    \"Anxiety\": \"anxiety\",\n",
    "    \"Anxietyhelp\": \"anxiety\",\n",
    "    \"SuicideWatch\": \"suicidal\",\n",
    "    \"selfharm\": \"suicidal\",\n",
    "    \"depression\": \"depression\",\n",
    "    \"depression_help\": \"depression\", \n",
    "    \"BipolarReddit\": \"bipolar\", \n",
    "    \"bipolar\": \"bipolar\",\n",
    "    \"schizophrenia\": \"schizophrenia\",\n",
    "    \"EDAnonymous\": \"eating disorder\",\n",
    "    \"EatingDisorders\": \"eating disorder\",\n",
    "    \"happy\": \"control\",\n",
    "    \"MadeMeSmile\": \"control\"\n",
    "}\n",
    "\n",
    "main_df[\"problem\"] = [sub_problem_mapping[s] for s in main_df[\"subreddit\"]]\n",
    "main_df.head()\n",
    "main_df[\"problem\"].value_counts().plot.bar(rot=0, title=\"Class Counts\")\n",
    "\n",
    "#NEED TO DECIDE whether need to drop control."
   ]
  },
  {
   "cell_type": "code",
   "execution_count": 59,
   "metadata": {},
   "outputs": [],
   "source": [
    "df_PTSD = main_df[main_df['problem'] == 'PTSD']\n",
    "df_anxiety = main_df[main_df['problem'] == 'anxiety']\n",
    "df_suicidal = main_df[main_df['problem'] == 'suicidal']\n",
    "df_depression = main_df[main_df['problem'] == 'depression']\n",
    "df_bipolar = main_df[main_df['problem'] == 'bipolar']\n",
    "df_schizophrenia = main_df[main_df['problem'] == 'schizophrenia']\n",
    "df_eating_disorder = main_df[main_df['problem'] == 'eating disorder']\n",
    "df_control = main_df[main_df['problem'] == 'control']\n",
    "\n",
    "df_PTSD = df_PTSD[:1500]\n",
    "df_anxiety = df_anxiety[:1500]\n",
    "df_suicidal = df_suicidal[:1500]\n",
    "df_depression = df_depression[:1500]\n",
    "df_bipolar = df_bipolar[:1500]\n",
    "df_schizophrenia = df_schizophrenia[:1500]\n",
    "df_eating_disorder = df_eating_disorder[:1500]\n",
    "# df_control = df_control[:1500]\n",
    "all_dfs = []\n",
    "all_dfs.append(df_PTSD)\n",
    "all_dfs.append(df_anxiety)\n",
    "all_dfs.append(df_suicidal)\n",
    "all_dfs.append(df_depression)\n",
    "all_dfs.append(df_bipolar)\n",
    "all_dfs.append(df_schizophrenia)\n",
    "all_dfs.append(df_eating_disorder)\n",
    "all_dfs.append(df_control)\n",
    "main_df = pd.concat(all_dfs)"
   ]
  },
  {
   "cell_type": "code",
   "execution_count": 60,
   "metadata": {},
   "outputs": [
    {
     "data": {
      "text/plain": [
       "<Axes: title={'center': 'Class Counts'}>"
      ]
     },
     "execution_count": 60,
     "metadata": {},
     "output_type": "execute_result"
    },
    {
     "data": {
      "image/png": "[encoded data removed]",
      "text/plain": [
       "<Figure size 640x480 with 1 Axes>"
      ]
     },
     "metadata": {},
     "output_type": "display_data"
    }
   ],
   "source": [
    "main_df[\"problem\"].value_counts().plot.bar(rot=0, title=\"Class Counts\")"
   ]
  },
  {
   "cell_type": "code",
   "execution_count": 61,
   "metadata": {},
   "outputs": [],
   "source": [
    "\n",
    "# Normalization codes from the notebook\n",
    "# Note that we did not include removal of words in brackets as well as odd characters as\n",
    "# these may denote some emotion (anger for instance may lead to multiple !!!). \n",
    "def normalizer(s):\n",
    "    s = s.lower()                                                   # Lowercase whole sentence\n",
    "    s = re.sub(r'\\s+', ' ', s)                                      # Remove duplicate whitespaces\n",
    "    s = re.sub(r'([.]){2,}', ' ', s)                                # Remove ellipses ...\n",
    "    s = re.sub(r'([\\w.-]+)([,;])([\\w.-]+)', '\\g<1>\\g<2> \\g<3>', s)  # Add missing whitespace after , and ;\n",
    "    s = re.sub(r'(.+)\\1{2,}', '\\g<1>\\g<1>', s)                      # Reduce repeated sequences to 2\n",
    "    #s = re.sub(r'[\\(\\[].*?[\\)\\]]', ' ', s)                          # Remove all words in brackets\n",
    "    s = re.sub(r'(n\\'t)', ' not', s)                                # Resolve contraction \"-n't\"\n",
    "    # s = re.sub(r'[^a-zA-Z0-9_-]+', ' ', s)                         # Remove all \"odd\" characters\n",
    "    s = re.sub(r'\\s+', ' ', s)                                      # Remove duplicate whitespaces (again)\n",
    "    s = s.strip()                                                   # Remove trailing whitespaces\n",
    "    return s"
   ]
  },
  {
   "cell_type": "code",
   "execution_count": 62,
   "metadata": {},
   "outputs": [],
   "source": [
    "# Lemmatization was not used as it did not give good results during validation\n",
    "# A quick intuition as to why is that some similar meaning words can be used to convey different emotions\n",
    "\n",
    "# Lemmatization codes from provided notebook\n",
    "# Create our list of stopwords\n",
    "nlp = spacy.load('en_core_web_sm')\n",
    "stop_words = spacy.lang.en.stop_words.STOP_WORDS\n",
    "\n",
    "# Creating our tokenizer function\n",
    "def spacy_lemmatizer(sentence):\n",
    "    # Creating our token object, which is used to create documents with linguistic annotations.\n",
    "    mytokens = nlp(sentence)\n",
    "    # Lemmatizing each token and converting each token into lowercase\n",
    "    mytokens = [ word.lemma_ for word in mytokens ]\n",
    "    # Removing stop words\n",
    "    # mytokens = [ word for word in mytokens if word not in stop_words ]\n",
    "    # return preprocessed list of tokens\n",
    "    return \" \".join(mytokens)"
   ]
  },
  {
   "cell_type": "code",
   "execution_count": 63,
   "metadata": {},
   "outputs": [],
   "source": [
    "# Stemming was not used as it did not give good results during validation\n",
    "\n",
    "# Stemming codes from provided notebook\n",
    "stemmer = PorterStemmer()\n",
    "tokenizer = get_tokenizer(\"spacy\", \"en_core_web_sm\")\n",
    "\n",
    "def nltk_stemmer(s):\n",
    "    stemmed_words = []\n",
    "    token_list = tokenizer(s)\n",
    "    for word in token_list:\n",
    "        stemmed_words.append(stemmer.stem(word))\n",
    "    return \" \".join(stemmed_words)"
   ]
  },
  {
   "cell_type": "code",
   "execution_count": 64,
   "metadata": {},
   "outputs": [],
   "source": [
    "# Create the mapping from categorical label to its numerical encoding\n",
    "label_to_ind = {}\n",
    "ind_to_label = {}\n",
    "for ind, label in enumerate(main_df[\"problem\"].unique()):\n",
    "    label_to_ind[label] = ind\n",
    "    ind_to_label[ind] = label"
   ]
  },
  {
   "cell_type": "code",
   "execution_count": 65,
   "metadata": {},
   "outputs": [],
   "source": [
    "# Apply text normalization\n",
    "main_df[\"body\"] = main_df[\"body\"].apply(normalizer)\n",
    "# main_df[\"body\"] = main_df[\"body\"].apply(spacy_lemmatizer)\n",
    "# main_df[\"body\"] = main_df[\"body\"].apply(nltk_stemmer)\n",
    "\n",
    "# Encode labels\n",
    "main_df[\"problem\"] = main_df[\"problem\"].apply(lambda x: label_to_ind[x])"
   ]
  },
  {
   "attachments": {},
   "cell_type": "markdown",
   "metadata": {},
   "source": [
    "# Neural Networks"
   ]
  },
  {
   "cell_type": "code",
   "execution_count": 67,
   "metadata": {},
   "outputs": [],
   "source": [
    "# Split the inputs and the labels\n",
    "df_inputs = main_df[\"body\"].to_list()\n",
    "df_labels = main_df[\"problem\"].to_list()"
   ]
  },
  {
   "cell_type": "code",
   "execution_count": 68,
   "metadata": {},
   "outputs": [],
   "source": [
    "device = torch.device(\"cuda\" if torch.cuda.is_available() else \"cpu\")\n",
    "num_classes = len(set(df_labels))"
   ]
  },
  {
   "cell_type": "code",
   "execution_count": 69,
   "metadata": {},
   "outputs": [],
   "source": [
    "# Create tokenizer and vocab encoder (for nn.Embedding layer)\n",
    "# Though ended up not using vocab encoder due to poor performance and used Glove encodings instead\n",
    "tokenizer = get_tokenizer(\"spacy\", \"en_core_web_sm\")\n",
    "def getTokens(lines):\n",
    "    for line in lines:\n",
    "        yield tokenizer(line)\n",
    "\n",
    "unk_ind = 0\n",
    "pad_ind = 1\n",
    "vocab_encoder = build_vocab_from_iterator(\n",
    "            getTokens(train_inputs),\n",
    "            min_freq = 1,\n",
    "            specials = [\"<UNK>\", \"<PAD>\"],\n",
    "            special_first = True\n",
    "        )\n",
    "vocab_encoder.set_default_index(unk_ind)"
   ]
  },
  {
   "cell_type": "code",
   "execution_count": 78,
   "metadata": {},
   "outputs": [
    {
     "name": "stderr",
     "output_type": "stream",
     "text": [
      ".vector_cache\\glove.840B.300d.zip: 2.18GB [07:44, 4.69MB/s]                                \n",
      "100%|█████████▉| 2196016/2196017 [04:57<00:00, 7393.42it/s]\n"
     ]
    }
   ],
   "source": [
    "# Split training set into train and val set\n",
    "train_inputs, val_inputs, train_labels, val_labels = train_test_split(df_inputs, df_labels, test_size=0.1)\n",
    "\n",
    "train_dataset = CustomDataset(train_inputs, train_labels, tokenizer, vocab_encoder, max_length = 100)\n",
    "train_dataloader = DataLoader(train_dataset, batch_size = 16, shuffle=True)\n",
    "seq_len = len(next(iter(train_dataset))[0])\n",
    "\n",
    "val_dataset = CustomDataset(val_inputs, val_labels, tokenizer, vocab_encoder, max_length = seq_len, impose_len = True)\n",
    "val_dataloader = DataLoader(val_dataset, batch_size = 16, shuffle=False)\n",
    "\n",
    "\n",
    "# Initialize Glove\n",
    "glove = GloVe(\"840B\", dim=300)\n",
    "\n",
    "glove_train_dataset = GloveDataset(glove, train_inputs, train_labels, tokenizer, max_length = 100)\n",
    "glove_train_dataloader = DataLoader(glove_train_dataset, batch_size = 16, shuffle=True)\n",
    "seq_len = len(next(iter(train_dataset))[0])\n",
    "\n",
    "glove_val_dataset = GloveDataset(glove, val_inputs, val_labels, tokenizer, max_length = seq_len, impose_len = True)\n",
    "glove_val_dataloader = DataLoader(glove_val_dataset, batch_size = 16, shuffle=False)"
   ]
  },
  {
   "cell_type": "code",
   "execution_count": 79,
   "metadata": {},
   "outputs": [
    {
     "name": "stdout",
     "output_type": "stream",
     "text": [
      "Epoch 1\n",
      "train loss: 303.19799772937245\n",
      "val loss: 1061.5541862290759\n",
      "0.33954276037256564\n",
      "Epoch 2\n",
      "train loss: 203.8604142783199\n",
      "val loss: 644.3477169019908\n",
      "0.6409822184589331\n",
      "Epoch 3\n",
      "train loss: 135.6834808117899\n",
      "val loss: 541.2458757744514\n",
      "0.6994072819644369\n",
      "Epoch 4\n",
      "train loss: 117.95757219743625\n",
      "val loss: 509.9063755898633\n",
      "0.7256562235393734\n",
      "Epoch 5\n",
      "train loss: 108.40177858516348\n",
      "val loss: 531.0875304819264\n",
      "0.7129551227773073\n",
      "Epoch 6\n",
      "train loss: 98.95321683891744\n",
      "val loss: 578.1475153643635\n",
      "0.6943268416596104\n",
      "Epoch 7\n",
      "train loss: 90.27899614257198\n",
      "val loss: 547.6829217814673\n",
      "0.6994072819644369\n",
      "Epoch 8\n",
      "train loss: 78.10458681136272\n",
      "val loss: 564.231532897917\n",
      "0.7002540220152413\n",
      "Epoch 9\n",
      "train loss: 69.01140376565104\n",
      "val loss: 596.7916005703476\n",
      "0.6943268416596104\n",
      "Epoch 10\n",
      "train loss: 56.00427417239036\n",
      "val loss: 680.5231465715962\n",
      "0.6824724809483489\n"
     ]
    }
   ],
   "source": [
    "# Code used for single estimator and hyperparameter tuning\n",
    "model = RNNGloveClassifier(num_classes, 256, num_layers = 3)\n",
    "#model = CNNGloveClassifier(num_classes, seq_len = seq_len)\n",
    "train_inputs, val_inputs, train_labels, val_labels = train_test_split(df_inputs, df_labels, test_size=0.1)\n",
    "glove_train_dataset = GloveDataset(glove, train_inputs, train_labels, tokenizer, max_length = 100)\n",
    "glove_train_dataloader = DataLoader(glove_train_dataset, batch_size = 64, shuffle=True)\n",
    "glove_val_dataset = GloveDataset(glove, val_inputs, val_labels, tokenizer, max_length = seq_len, impose_len = True)\n",
    "glove_val_dataloader = DataLoader(glove_val_dataset, batch_size = 16, shuffle=False)\n",
    "model.to(device)\n",
    "criterion = nn.CrossEntropyLoss()\n",
    "optimizer = optim.Adam(model.parameters(), lr=0.001)\n",
    "num_epochs = 10\n",
    "for i in range(num_epochs):\n",
    "    print(f\"Epoch {i+1}\")\n",
    "    train_loss = 0\n",
    "    val_loss = 0\n",
    "\n",
    "    model.train()\n",
    "    for inputs, labels in glove_train_dataloader:\n",
    "        inputs = inputs.to(device)\n",
    "        labels = labels.to(device)\n",
    "        predictions = model(inputs)\n",
    "        loss = criterion(predictions, labels)\n",
    "        optimizer.zero_grad()\n",
    "        loss.backward()\n",
    "        optimizer.step()\n",
    "        train_loss += loss.item()\n",
    "    print(f\"train loss: {(train_loss/len(glove_train_dataset))*10000}\")\n",
    "\n",
    "    model.eval()\n",
    "    val_predictions = []\n",
    "    val_targets = []\n",
    "    with torch.no_grad():\n",
    "        for inputs, labels in glove_val_dataloader:\n",
    "            inputs = inputs.to(device)\n",
    "            labels = labels.to(device)\n",
    "            predictions = model(inputs)\n",
    "            loss = criterion(predictions, labels)\n",
    "            val_loss += loss.item()\n",
    "            val_targets += labels.cpu()\n",
    "            val_predictions += predictions.cpu().argmax(dim=1)\n",
    "\n",
    "    print(f\"val loss: {(val_loss/len(glove_val_dataset))*10000}\")\n",
    "    print(accuracy_score(val_predictions, val_targets))"
   ]
  },
  {
   "cell_type": "code",
   "execution_count": 81,
   "metadata": {},
   "outputs": [
    {
     "name": "stdout",
     "output_type": "stream",
     "text": [
      "0.6824724809483489\n"
     ]
    }
   ],
   "source": [
    "print(f1_score(val_predictions, val_targets, average=\"micro\"))"
   ]
  },
  {
   "cell_type": "code",
   "execution_count": null,
   "metadata": {},
   "outputs": [],
   "source": []
  }
 ],
 "metadata": {
  "kernelspec": {
   "display_name": "newsapi",
   "language": "python",
   "name": "python3"
  },
  "language_info": {
   "codemirror_mode": {
    "name": "ipython",
    "version": 3
   },
   "file_extension": ".py",
   "mimetype": "text/x-python",
   "name": "python",
   "nbconvert_exporter": "python",
   "pygments_lexer": "ipython3",
   "version": "3.9.16"
  },
  "vscode": {
   "interpreter": {
    "hash": "a2ba62319aaa37485adafec6256227f58818f389d94ef50b70467cdbcd924512"
   }
  }
 },
 "nbformat": 4,
 "nbformat_minor": 2
}
