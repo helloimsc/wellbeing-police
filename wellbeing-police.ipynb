{
 "cells": [
  {
   "cell_type": "markdown",
   "metadata": {},
   "source": [
    "# Wellbeing Police\n",
    "\n",
    "From various subreddit, we have scraped close to 4000 posts. The subreddits include \"r/SuicideWatch\", \"r/BipolarReddit\", \"r/Anxiety\", \"r/AnxietyDepression\", \"r/Depression\", and \"r/Happy\". Each of the subreddit posts currently sitting within its own csv file. We will see what are the fields that are consistent across the CSV files and choose those applicable. Clean up the data, removed the columns not needed. \n",
    "\n",
    "As all the scrapes was created from the same script, the columns of the resulting csv are same across the files. \n",
    "We will proceed to label them according to the subreddit they came from and combine them into a single dataframe."
   ]
  },
  {
   "cell_type": "code",
   "execution_count": 1,
   "metadata": {},
   "outputs": [],
   "source": [
    "%load_ext autoreload\n",
    "%autoreload 2"
   ]
  },
  {
   "cell_type": "code",
   "execution_count": 2,
   "metadata": {},
   "outputs": [],
   "source": [
    "import pandas as pd\n",
    "import glob\n",
    "import os\n",
    "import spacy\n",
    "import re"
   ]
  },
  {
   "cell_type": "markdown",
   "metadata": {},
   "source": [
    "### Data Combination and Labeling\n",
    "\n",
    "We retrieved posts in “Hot” section from various subreddits:\n",
    "`r/ptsd`,`r/Anxiety`,`r/SuicideWatch`,`r/depression`,`r/BipolarReddit`,`r/schizophrenia`,`r/EDAnonymous`,`r/EatingDisorders`"
   ]
  },
  {
   "cell_type": "code",
   "execution_count": 4,
   "metadata": {},
   "outputs": [
    {
     "name": "stdout",
     "output_type": "stream",
     "text": [
      "(20725, 3)\n",
      "(18327, 3)\n"
     ]
    },
    {
     "data": {
      "text/html": [
       "<div>\n",
       "<style scoped>\n",
       "    .dataframe tbody tr th:only-of-type {\n",
       "        vertical-align: middle;\n",
       "    }\n",
       "\n",
       "    .dataframe tbody tr th {\n",
       "        vertical-align: top;\n",
       "    }\n",
       "\n",
       "    .dataframe thead th {\n",
       "        text-align: right;\n",
       "    }\n",
       "</style>\n",
       "<table border=\"1\" class=\"dataframe\">\n",
       "  <thead>\n",
       "    <tr style=\"text-align: right;\">\n",
       "      <th></th>\n",
       "      <th>title</th>\n",
       "      <th>subreddit</th>\n",
       "      <th>body</th>\n",
       "    </tr>\n",
       "  </thead>\n",
       "  <tbody>\n",
       "    <tr>\n",
       "      <th>0</th>\n",
       "      <td>Self Help and Self Care Resources</td>\n",
       "      <td>ptsd</td>\n",
       "      <td>Unfortunately this is a small subreddit and as...</td>\n",
       "    </tr>\n",
       "    <tr>\n",
       "      <th>1</th>\n",
       "      <td>Survey thread</td>\n",
       "      <td>ptsd</td>\n",
       "      <td>If you have a survey you would like to share w...</td>\n",
       "    </tr>\n",
       "    <tr>\n",
       "      <th>2</th>\n",
       "      <td>PTSD never getting better, don’t want to be al...</td>\n",
       "      <td>ptsd</td>\n",
       "      <td>Made a throwaway account for this obviously.\\n...</td>\n",
       "    </tr>\n",
       "    <tr>\n",
       "      <th>3</th>\n",
       "      <td>I can’t be bothered with people anymore</td>\n",
       "      <td>ptsd</td>\n",
       "      <td>Why do I have to remind people all the time th...</td>\n",
       "    </tr>\n",
       "    <tr>\n",
       "      <th>4</th>\n",
       "      <td>I can't stop peeing my pants</td>\n",
       "      <td>ptsd</td>\n",
       "      <td>This is incredibly embarrassing but I am diagn...</td>\n",
       "    </tr>\n",
       "  </tbody>\n",
       "</table>\n",
       "</div>"
      ],
      "text/plain": [
       "                                               title subreddit  \\\n",
       "0                  Self Help and Self Care Resources      ptsd   \n",
       "1                                      Survey thread      ptsd   \n",
       "2  PTSD never getting better, don’t want to be al...      ptsd   \n",
       "3            I can’t be bothered with people anymore      ptsd   \n",
       "4                       I can't stop peeing my pants      ptsd   \n",
       "\n",
       "                                                body  \n",
       "0  Unfortunately this is a small subreddit and as...  \n",
       "1  If you have a survey you would like to share w...  \n",
       "2  Made a throwaway account for this obviously.\\n...  \n",
       "3  Why do I have to remind people all the time th...  \n",
       "4  This is incredibly embarrassing but I am diagn...  "
      ]
     },
     "execution_count": 4,
     "metadata": {},
     "output_type": "execute_result"
    }
   ],
   "source": [
    "path = \"./reddit/csvs/\"\n",
    "all_csvs = glob.glob(os.path.join(path, \"*.csv\"))\n",
    "\n",
    "all_dfs = []\n",
    "for filename in all_csvs:\n",
    "    df = pd.read_csv(filename, index_col=None, header=0)\n",
    "    df = df[[\"title\", \"subreddit\", \"body\"]]\n",
    "    \n",
    "    # ## manually remove irrelevant pinned posts\n",
    "    # if df.iloc[0].subreddit in [\"ptsd\",'Anxiety',\"SuicideWatch\",'EDAnonymous']: \n",
    "    #     df=df[2:]\n",
    "    # if df.iloc[0].subreddit in ['BipolarReddit','schizophrenia','EatingDisorders']:\n",
    "    #     df=df[1:]\n",
    "        \n",
    "    all_dfs.append(df)\n",
    "\n",
    "main_df = pd.concat(all_dfs)\n",
    "print(main_df.shape)\n",
    "main_df = main_df.drop_duplicates()\n",
    "print(main_df.shape)\n",
    "main_df.head()\n"
   ]
  },
  {
   "cell_type": "markdown",
   "metadata": {},
   "source": [
    "A few of the subreddit is indicating the same underlying mental problems, we proceed to add an attribute such that these minor differentiation will be grouped for better and easier identification."
   ]
  },
  {
   "cell_type": "code",
   "execution_count": 5,
   "metadata": {},
   "outputs": [
    {
     "data": {
      "text/html": [
       "<div>\n",
       "<style scoped>\n",
       "    .dataframe tbody tr th:only-of-type {\n",
       "        vertical-align: middle;\n",
       "    }\n",
       "\n",
       "    .dataframe tbody tr th {\n",
       "        vertical-align: top;\n",
       "    }\n",
       "\n",
       "    .dataframe thead th {\n",
       "        text-align: right;\n",
       "    }\n",
       "</style>\n",
       "<table border=\"1\" class=\"dataframe\">\n",
       "  <thead>\n",
       "    <tr style=\"text-align: right;\">\n",
       "      <th></th>\n",
       "      <th>title</th>\n",
       "      <th>subreddit</th>\n",
       "      <th>body</th>\n",
       "      <th>problem</th>\n",
       "    </tr>\n",
       "  </thead>\n",
       "  <tbody>\n",
       "    <tr>\n",
       "      <th>0</th>\n",
       "      <td>Self Help and Self Care Resources</td>\n",
       "      <td>ptsd</td>\n",
       "      <td>Unfortunately this is a small subreddit and as...</td>\n",
       "      <td>PTSD</td>\n",
       "    </tr>\n",
       "    <tr>\n",
       "      <th>1</th>\n",
       "      <td>Survey thread</td>\n",
       "      <td>ptsd</td>\n",
       "      <td>If you have a survey you would like to share w...</td>\n",
       "      <td>PTSD</td>\n",
       "    </tr>\n",
       "    <tr>\n",
       "      <th>2</th>\n",
       "      <td>PTSD never getting better, don’t want to be al...</td>\n",
       "      <td>ptsd</td>\n",
       "      <td>Made a throwaway account for this obviously.\\n...</td>\n",
       "      <td>PTSD</td>\n",
       "    </tr>\n",
       "    <tr>\n",
       "      <th>3</th>\n",
       "      <td>I can’t be bothered with people anymore</td>\n",
       "      <td>ptsd</td>\n",
       "      <td>Why do I have to remind people all the time th...</td>\n",
       "      <td>PTSD</td>\n",
       "    </tr>\n",
       "    <tr>\n",
       "      <th>4</th>\n",
       "      <td>I can't stop peeing my pants</td>\n",
       "      <td>ptsd</td>\n",
       "      <td>This is incredibly embarrassing but I am diagn...</td>\n",
       "      <td>PTSD</td>\n",
       "    </tr>\n",
       "  </tbody>\n",
       "</table>\n",
       "</div>"
      ],
      "text/plain": [
       "                                               title subreddit  \\\n",
       "0                  Self Help and Self Care Resources      ptsd   \n",
       "1                                      Survey thread      ptsd   \n",
       "2  PTSD never getting better, don’t want to be al...      ptsd   \n",
       "3            I can’t be bothered with people anymore      ptsd   \n",
       "4                       I can't stop peeing my pants      ptsd   \n",
       "\n",
       "                                                body problem  \n",
       "0  Unfortunately this is a small subreddit and as...    PTSD  \n",
       "1  If you have a survey you would like to share w...    PTSD  \n",
       "2  Made a throwaway account for this obviously.\\n...    PTSD  \n",
       "3  Why do I have to remind people all the time th...    PTSD  \n",
       "4  This is incredibly embarrassing but I am diagn...    PTSD  "
      ]
     },
     "execution_count": 5,
     "metadata": {},
     "output_type": "execute_result"
    }
   ],
   "source": [
    "sub_problem_mapping = {\n",
    "    \"ptsd\": \"PTSD\",\n",
    "    \"CPTSD\": \"PTSD\",\n",
    "    \"Anxiety\": \"anxiety\",\n",
    "    \"Anxietyhelp\": \"anxiety\",\n",
    "    \"SuicideWatch\": \"suicidal\",\n",
    "    \"selfharm\": \"suicidal\",\n",
    "    \"depression\": \"depression\",\n",
    "    \"depression_help\": \"depression\", \n",
    "    \"BipolarReddit\": \"bipolar\", \n",
    "    \"bipolar\": \"bipolar\",\n",
    "    \"schizophrenia\": \"schizophrenia\",\n",
    "    \"EDAnonymous\": \"eating disorder\",\n",
    "    \"EatingDisorders\": \"eating disorder\",\n",
    "\n",
    "}\n",
    "\n",
    "main_df[\"problem\"] = [sub_problem_mapping[s] for s in main_df[\"subreddit\"]]\n",
    "main_df.head()"
   ]
  },
  {
   "cell_type": "markdown",
   "metadata": {},
   "source": [
    "### Text Cleaning and Processing\n",
    "- Remove emoticons and non-text characters\n",
    "- Remove excess newline and spacing characters added for emphasis (e.g., poetry paragraphing)\n",
    "- Remove hyperlinks and tags\n",
    "- Change text to lowercase\n",
    "- Simplify punctuation by removing repeated characters (e.g., \"?????\", \"!!!!\")"
   ]
  },
  {
   "cell_type": "code",
   "execution_count": 5,
   "metadata": {},
   "outputs": [],
   "source": [
    "from text_processing import text_processing"
   ]
  },
  {
   "cell_type": "code",
   "execution_count": 6,
   "metadata": {},
   "outputs": [
    {
     "data": {
      "text/html": [
       "<div>\n",
       "<style scoped>\n",
       "    .dataframe tbody tr th:only-of-type {\n",
       "        vertical-align: middle;\n",
       "    }\n",
       "\n",
       "    .dataframe tbody tr th {\n",
       "        vertical-align: top;\n",
       "    }\n",
       "\n",
       "    .dataframe thead th {\n",
       "        text-align: right;\n",
       "    }\n",
       "</style>\n",
       "<table border=\"1\" class=\"dataframe\">\n",
       "  <thead>\n",
       "    <tr style=\"text-align: right;\">\n",
       "      <th></th>\n",
       "      <th>title</th>\n",
       "      <th>subreddit</th>\n",
       "      <th>body</th>\n",
       "      <th>problem</th>\n",
       "    </tr>\n",
       "  </thead>\n",
       "  <tbody>\n",
       "    <tr>\n",
       "      <th>2</th>\n",
       "      <td>ptsd never getting better, don’t want to be al...</td>\n",
       "      <td>ptsd</td>\n",
       "      <td>made a throwaway account for this obviously. i...</td>\n",
       "      <td>PTSD</td>\n",
       "    </tr>\n",
       "    <tr>\n",
       "      <th>3</th>\n",
       "      <td>i can’t be bothered with people anymore</td>\n",
       "      <td>ptsd</td>\n",
       "      <td>why do i have to remind people all the time th...</td>\n",
       "      <td>PTSD</td>\n",
       "    </tr>\n",
       "    <tr>\n",
       "      <th>4</th>\n",
       "      <td>i can't stop peeing my pants</td>\n",
       "      <td>ptsd</td>\n",
       "      <td>this is incredibly embarrassing but i am diagn...</td>\n",
       "      <td>PTSD</td>\n",
       "    </tr>\n",
       "    <tr>\n",
       "      <th>5</th>\n",
       "      <td>what tattoo should i get?</td>\n",
       "      <td>ptsd</td>\n",
       "      <td>i was diagnosed with ptsd and i wanted to get ...</td>\n",
       "      <td>PTSD</td>\n",
       "    </tr>\n",
       "    <tr>\n",
       "      <th>6</th>\n",
       "      <td>migraines? visual issues</td>\n",
       "      <td>ptsd</td>\n",
       "      <td>trying to figure out if the aura migraines i g...</td>\n",
       "      <td>PTSD</td>\n",
       "    </tr>\n",
       "  </tbody>\n",
       "</table>\n",
       "</div>"
      ],
      "text/plain": [
       "                                               title subreddit  \\\n",
       "2  ptsd never getting better, don’t want to be al...      ptsd   \n",
       "3            i can’t be bothered with people anymore      ptsd   \n",
       "4                       i can't stop peeing my pants      ptsd   \n",
       "5                          what tattoo should i get?      ptsd   \n",
       "6                           migraines? visual issues      ptsd   \n",
       "\n",
       "                                                body problem  \n",
       "2  made a throwaway account for this obviously. i...    PTSD  \n",
       "3  why do i have to remind people all the time th...    PTSD  \n",
       "4  this is incredibly embarrassing but i am diagn...    PTSD  \n",
       "5  i was diagnosed with ptsd and i wanted to get ...    PTSD  \n",
       "6  trying to figure out if the aura migraines i g...    PTSD  "
      ]
     },
     "execution_count": 6,
     "metadata": {},
     "output_type": "execute_result"
    }
   ],
   "source": [
    "clean_text = text_processing()\n",
    "\n",
    "clean_text.process_data(main_df, headers = ['title', 'subreddit', 'body'])\n",
    "\n",
    "main_df.head()"
   ]
  },
  {
   "cell_type": "markdown",
   "metadata": {},
   "source": [
    "### Lemmatization with spaCy\n",
    "\n",
    "We use spaCy to perform lemmatization."
   ]
  },
  {
   "cell_type": "code",
   "execution_count": 7,
   "metadata": {},
   "outputs": [],
   "source": [
    "nlp = spacy.load('en_core_web_sm')\n",
    "\n",
    "## Apply further cleaning steps before tokenization\n",
    "def normalize(text): \n",
    "    ## split list symbol with word e.g. -take 2,000mg fish oil\n",
    "    text = re.sub(r\"\\s-([A-Za-z]+)\\b\",r\" - \\1\", text, flags=0)\n",
    "    \n",
    "    ## further split number with word e.g., 6months, 28male, 2hrs\n",
    "    text = re.sub(r\"(\\d+)([A-Za-z]+)\",r\"\\1 \\2\", text, flags=0)\n",
    "    return text\n",
    "    \n",
    "def lemmatize(text):\n",
    "    doc = nlp(text)\n",
    "    # Turn it into tokens, ignoring the punctuation\n",
    "    tokens = [token for token in doc if not token.is_punct]\n",
    "    # Convert those tokens into lemmas, EXCEPT the pronouns\n",
    "    lemmas = [token.lemma_ if token.pos_ != 'PRON' else token.orth_ for token in tokens]\n",
    "    return lemmas"
   ]
  },
  {
   "cell_type": "code",
   "execution_count": 8,
   "metadata": {},
   "outputs": [],
   "source": [
    "## Apply normalize method\n",
    "documents = main_df.body.apply(lambda text: normalize(text))\n",
    "documents = documents.to_list()\n",
    "# labels = main_df.problem.to_list() \n",
    "\n",
    "\n",
    "## Directly apply lemmatize function to documents to get tokenized text\n",
    "# document_lemmatized = [lemmatize(post) for post in documents]\n",
    "# document_lemmatized "
   ]
  },
  {
   "cell_type": "markdown",
   "metadata": {},
   "source": [
    "### Create Document-Term Matrices using TF-IDF Weights"
   ]
  },
  {
   "cell_type": "code",
   "execution_count": 9,
   "metadata": {},
   "outputs": [
    {
     "name": "stderr",
     "output_type": "stream",
     "text": [
      "/opt/homebrew/lib/python3.10/site-packages/sklearn/utils/deprecation.py:87: FutureWarning: Function get_feature_names is deprecated; get_feature_names is deprecated in 1.0 and will be removed in 1.2. Please use get_feature_names_out instead.\n",
      "  warnings.warn(msg, category=FutureWarning)\n"
     ]
    }
   ],
   "source": [
    "from sklearn.feature_extraction.text import TfidfVectorizer\n",
    "\n",
    "tfidf_vectorizer = TfidfVectorizer(tokenizer=lemmatize, norm='l1')\n",
    "matrix = tfidf_vectorizer.fit_transform(documents)\n",
    "matrix\n",
    "\n",
    "tokens = tfidf_vectorizer.get_feature_names()"
   ]
  },
  {
   "cell_type": "code",
   "execution_count": null,
   "metadata": {},
   "outputs": [],
   "source": []
  }
 ],
 "metadata": {
  "kernelspec": {
   "display_name": "Python 3 (ipykernel)",
   "language": "python",
   "name": "python3"
  },
  "language_info": {
   "codemirror_mode": {
    "name": "ipython",
    "version": 3
   },
   "file_extension": ".py",
   "mimetype": "text/x-python",
   "name": "python",
   "nbconvert_exporter": "python",
   "pygments_lexer": "ipython3",
   "version": "3.9.16"
  },
  "vscode": {
   "interpreter": {
    "hash": "765828f8c836b5785102bc9c70f29a7af25fc7ff828fe3e5bc72b7ce0758f5e8"
   }
  }
 },
 "nbformat": 4,
 "nbformat_minor": 2
}
