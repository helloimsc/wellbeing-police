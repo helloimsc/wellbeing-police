{
 "cells": [
  {
   "cell_type": "markdown",
   "id": "dfe56805",
   "metadata": {},
   "source": [
    "\\<PAD\\>: It represents padding and is used to make all sequences in a batch have the same length. Padding is required when the sequences in the batch have different lengths. This token is added to the end of shorter sequences until they match the length of the longest sequence in the batch.\n",
    "\n",
    "\\<UNK\\>: It represents unknown words and is used when the model encounters words that are not in the vocabulary. This token helps to avoid out-of-vocabulary (OOV) errors and improves the performance of the model.\n",
    "\n",
    "\\<SOS\\>: It represents start of sequence and is used as a special token at the beginning of a sequence. This token indicates the start of the sentence and helps the model to generate new sentences.\n",
    "\n",
    "\\<EOS\\>: It represents end of sequence and is used as a special token at the end of a sequence. This token indicates the end of the sentence and helps the model to know when to stop generating new words."
   ]
  },
  {
   "cell_type": "markdown",
   "id": "de4c712b",
   "metadata": {},
   "source": [
    "## Data Preparation"
   ]
  },
  {
   "cell_type": "code",
   "execution_count": 1,
   "id": "2fce2e37",
   "metadata": {},
   "outputs": [],
   "source": [
    "import re, glob\n",
    "from tqdm.auto import tqdm\n",
    "from collections import Counter, OrderedDict"
   ]
  },
  {
   "cell_type": "code",
   "execution_count": 2,
   "id": "3e4a3067",
   "metadata": {},
   "outputs": [],
   "source": [
    "import torch\n",
    "import torchtext\n",
    "\n",
    "from torchtext.vocab import vocab\n",
    "import torch.nn as nn\n",
    "from torch.utils.data import Dataset, DataLoader"
   ]
  },
  {
   "cell_type": "code",
   "execution_count": 3,
   "id": "63a84ecf",
   "metadata": {},
   "outputs": [],
   "source": [
    "import spacy\n",
    "\n",
    "spacy.prefer_gpu()\n",
    "# We use spaCy for preprocessing, but we only need the tokenizer and lemmatizer\n",
    "# (for a large real-world dataset that would help with the performance)\n",
    "nlp = spacy.load(\"en_core_web_sm\", disable=['ner', 'parser'])\n",
    "\n",
    "import numpy as np\n",
    "import pandas as pd\n",
    "\n",
    "import random\n",
    "\n",
    "from sklearn.model_selection import train_test_split\n",
    "from sklearn.metrics import f1_score\n",
    "\n",
    "\n",
    "# Custom BatchSampler\n",
    "from src.sampler import EqualLengthsBatchSampler\n",
    "from src.cnn_utils import Dict2Class, plot_training_results\n",
    "from src.cnn import CnnSentenceClassifier, CnnTextClassifier"
   ]
  },
  {
   "cell_type": "code",
   "execution_count": 8,
   "id": "0241face",
   "metadata": {},
   "outputs": [
    {
     "data": {
      "text/html": [
       "<div>\n",
       "<style scoped>\n",
       "    .dataframe tbody tr th:only-of-type {\n",
       "        vertical-align: middle;\n",
       "    }\n",
       "\n",
       "    .dataframe tbody tr th {\n",
       "        vertical-align: top;\n",
       "    }\n",
       "\n",
       "    .dataframe thead th {\n",
       "        text-align: right;\n",
       "    }\n",
       "</style>\n",
       "<table border=\"1\" class=\"dataframe\">\n",
       "  <thead>\n",
       "    <tr style=\"text-align: right;\">\n",
       "      <th></th>\n",
       "      <th>title</th>\n",
       "      <th>subreddit</th>\n",
       "      <th>body</th>\n",
       "      <th>problem</th>\n",
       "    </tr>\n",
       "  </thead>\n",
       "  <tbody>\n",
       "    <tr>\n",
       "      <th>0</th>\n",
       "      <td>self help and self care resources</td>\n",
       "      <td>ptsd</td>\n",
       "      <td>unfortunately this is a small subreddit and as...</td>\n",
       "      <td>PTSD</td>\n",
       "    </tr>\n",
       "    <tr>\n",
       "      <th>1</th>\n",
       "      <td>survey thread</td>\n",
       "      <td>ptsd</td>\n",
       "      <td>if you have a survey you would like to share w...</td>\n",
       "      <td>PTSD</td>\n",
       "    </tr>\n",
       "    <tr>\n",
       "      <th>2</th>\n",
       "      <td>processing my trauma requires feeling safe but...</td>\n",
       "      <td>ptsd</td>\n",
       "      <td>and apparently i’m stuck in this loop because ...</td>\n",
       "      <td>PTSD</td>\n",
       "    </tr>\n",
       "    <tr>\n",
       "      <th>3</th>\n",
       "      <td>my sister is the strongest person i know. she’...</td>\n",
       "      <td>ptsd</td>\n",
       "      <td>my sister has been bravely battling ptsd, bipo...</td>\n",
       "      <td>PTSD</td>\n",
       "    </tr>\n",
       "    <tr>\n",
       "      <th>4</th>\n",
       "      <td>has anyone else found mushrooms helped?</td>\n",
       "      <td>ptsd</td>\n",
       "      <td>at a point where i was immediately post assaul...</td>\n",
       "      <td>PTSD</td>\n",
       "    </tr>\n",
       "  </tbody>\n",
       "</table>\n",
       "</div>"
      ],
      "text/plain": [
       "                                               title subreddit  \\\n",
       "0                  self help and self care resources      ptsd   \n",
       "1                                      survey thread      ptsd   \n",
       "2  processing my trauma requires feeling safe but...      ptsd   \n",
       "3  my sister is the strongest person i know. she’...      ptsd   \n",
       "4            has anyone else found mushrooms helped?      ptsd   \n",
       "\n",
       "                                                body problem  \n",
       "0  unfortunately this is a small subreddit and as...    PTSD  \n",
       "1  if you have a survey you would like to share w...    PTSD  \n",
       "2  and apparently i’m stuck in this loop because ...    PTSD  \n",
       "3  my sister has been bravely battling ptsd, bipo...    PTSD  \n",
       "4  at a point where i was immediately post assaul...    PTSD  "
      ]
     },
     "execution_count": 8,
     "metadata": {},
     "output_type": "execute_result"
    }
   ],
   "source": [
    "### read dataset\n",
    "\n",
    "main_df = pd.read_csv(\"reddit_posts_proccessed.csv\")\n",
    "df = main_df.copy()\n",
    "main_df.head()"
   ]
  },
  {
   "cell_type": "code",
   "execution_count": 9,
   "id": "cebf1324",
   "metadata": {},
   "outputs": [],
   "source": [
    "# import os\n",
    "# import sys\n",
    " \n",
    "# # setting path\n",
    "# sys.path.append(os.path.dirname(os.getcwd()))\n",
    " \n",
    "# # importing\n",
    "# from text_processing import text_processing\n",
    "\n",
    "# clean_text = text_processing()\n",
    "# clean_text.process_data(df, headers = ['title', 'subreddit', 'body'])\n",
    "\n",
    "# from src.utils import text_normalization\n",
    "# normalized_text = text_normalization()\n",
    "# normalized_text.normalize_data(df)\n"
   ]
  },
  {
   "cell_type": "code",
   "execution_count": 10,
   "id": "f4a0020a",
   "metadata": {},
   "outputs": [],
   "source": [
    "def lemmatize(text):\n",
    "    doc = nlp(text)\n",
    "    \n",
    "    # Turn it into tokens, ignoring the punctuation\n",
    "    tokens = [token for token in doc if not token.is_punct]\n",
    "    \n",
    "    # ignoring the stopwords\n",
    "    tokens = [ token for token in tokens if not token.is_stop]\n",
    "     \n",
    "    # Convert those tokens into lemmas, EXCEPT the pronouns\n",
    "    lemmas = [token.lemma_ if token.pos_ != 'PRON' else token.orth_ for token in tokens]\n",
    "    return lemmas\n",
    "\n",
    "\n",
    "# documents = df.body\n",
    "\n",
    "# documents_lemmatized = [lemmatize(post) for post in documents]\n",
    "# documents_lemmatized"
   ]
  },
  {
   "cell_type": "code",
   "execution_count": 11,
   "id": "acf94499",
   "metadata": {},
   "outputs": [],
   "source": [
    "token_counter = Counter()\n",
    "problem_labels = []\n",
    "\n",
    "for post,label in zip(df.body,df.problem):\n",
    "    for token in lemmatize(post):\n",
    "        token_counter[token] += 1            \n",
    "        # Add label to targets list\n",
    "        problem_labels.append(label)"
   ]
  },
  {
   "cell_type": "code",
   "execution_count": 12,
   "id": "7b73f9c3",
   "metadata": {},
   "outputs": [],
   "source": [
    "index2label = { k:v for k, v in enumerate(set(problem_labels)) }\n",
    "label2index = {v: k for k, v in index2label.items()}\n",
    "\n",
    "target_vectors_problem_labels  = [ label2index[label] for label in problem_labels ]"
   ]
  },
  {
   "cell_type": "markdown",
   "id": "94d01bea",
   "metadata": {},
   "source": [
    "#### Create Vocabulary\n",
    "\n",
    "To create our `vocab` object, we perform exactly the same steps as above. The only difference is that our \"full\" vocabulary is not larger (although with less then 20k tokens still rather small). We therefore limit the vocabulary here to the 10,000 most frequent tokens."
   ]
  },
  {
   "cell_type": "code",
   "execution_count": 13,
   "id": "e76a60e3",
   "metadata": {},
   "outputs": [
    {
     "name": "stdout",
     "output_type": "stream",
     "text": [
      "Number of tokens: 29671\n"
     ]
    }
   ],
   "source": [
    "# Sort by word frequency\n",
    "token_counter_sorted = sorted(token_counter.items(), key=lambda x: x[1], reverse=True)\n",
    "\n",
    "print(\"Number of tokens: {}\".format(len(token_counter_sorted)))"
   ]
  },
  {
   "cell_type": "code",
   "execution_count": 14,
   "id": "f36478a9",
   "metadata": {},
   "outputs": [
    {
     "name": "stdout",
     "output_type": "stream",
     "text": [
      "Number of tokens: 10000\n"
     ]
    }
   ],
   "source": [
    "TOP_TOKENS = 10000\n",
    "\n",
    "token_counter_sorted = token_counter_sorted[:TOP_TOKENS]\n",
    "\n",
    "print(\"Number of tokens: {}\".format(len(token_counter_sorted)))"
   ]
  },
  {
   "cell_type": "code",
   "execution_count": 15,
   "id": "6491c977",
   "metadata": {},
   "outputs": [
    {
     "name": "stdout",
     "output_type": "stream",
     "text": [
      "Number of tokens: 10004\n"
     ]
    }
   ],
   "source": [
    "token_ordered_dict = OrderedDict(token_counter_sorted)\n",
    "\n",
    "# Define list of \"special\" tokens\n",
    "SPECIALS = [\"<PAD>\", \"<UNK>\", \"<SOS>\", \"<EOS>\"]\n",
    "\n",
    "vocabulary = vocab(token_ordered_dict, specials=SPECIALS)\n",
    "\n",
    "vocabulary.set_default_index(vocabulary[\"<UNK>\"])\n",
    "\n",
    "print(\"Number of tokens: {}\".format(len(vocabulary)))"
   ]
  },
  {
   "cell_type": "markdown",
   "id": "9864c33a",
   "metadata": {},
   "source": [
    "### Save Dataset\n",
    "\n",
    "Lastly, we save all the data for later use."
   ]
  },
  {
   "cell_type": "code",
   "execution_count": 16,
   "id": "da2270fa",
   "metadata": {},
   "outputs": [],
   "source": [
    "def preprocess(text):\n",
    "    return [token.lemma_.lower() for token in nlp(text)]"
   ]
  },
  {
   "cell_type": "code",
   "execution_count": 17,
   "id": "389ca8e7",
   "metadata": {},
   "outputs": [],
   "source": [
    "output_file = open(\"data/problem-dataset-vectors-{}.txt\".format(TOP_TOKENS), \"w\")\n",
    "\n",
    "for i in range(df.shape[0]):\n",
    "    post = df.body.iloc[i]\n",
    "    label = label2index[df.problem.iloc[i]]\n",
    "    vector = vocabulary.lookup_indices(preprocess(post))\n",
    "    output_file.write(\"{}\\t{}\\n\".format(\" \".join([str(idx) for idx in vector]), label))\n",
    "            \n",
    "output_file.flush()\n",
    "output_file.close()            "
   ]
  },
  {
   "cell_type": "markdown",
   "id": "dafde9c3",
   "metadata": {},
   "source": [
    "#### Save Metadata"
   ]
  },
  {
   "cell_type": "code",
   "execution_count": 18,
   "id": "c6743b25",
   "metadata": {},
   "outputs": [],
   "source": [
    "vocabulary_file_name = \"data/problem-corpus-{}.vocab\".format(TOP_TOKENS)\n",
    "\n",
    "torch.save(vocabulary, vocabulary_file_name)"
   ]
  },
  {
   "cell_type": "code",
   "execution_count": 19,
   "id": "07367ce9",
   "metadata": {},
   "outputs": [],
   "source": [
    "label2index_file_name = \"data/problem-label2index-{}.dict\".format(TOP_TOKENS)\n",
    "index2label_file_name = \"data/problem-index2label-{}.dict\".format(TOP_TOKENS)\n",
    "\n",
    "torch.save(label2index, label2index_file_name)\n",
    "torch.save(index2label, index2label_file_name)"
   ]
  },
  {
   "cell_type": "markdown",
   "id": "e8ea963a",
   "metadata": {},
   "source": [
    "## Load Dataset"
   ]
  },
  {
   "cell_type": "code",
   "execution_count": 20,
   "id": "5a50461b",
   "metadata": {},
   "outputs": [
    {
     "name": "stdout",
     "output_type": "stream",
     "text": [
      "Size of vocabulary:\t10004\n"
     ]
    }
   ],
   "source": [
    "vocabulary = torch.load(\"data/problem-corpus-10000.vocab\")\n",
    "\n",
    "vocab_size = len(vocabulary)\n",
    "\n",
    "print(\"Size of vocabulary:\\t{}\".format(vocab_size))"
   ]
  },
  {
   "cell_type": "code",
   "execution_count": 21,
   "id": "c57611d9",
   "metadata": {},
   "outputs": [],
   "source": [
    "sequences, targets = [], []\n",
    "\n",
    "with open(\"data/problem-dataset-vectors-10000.txt\") as file:\n",
    "    for line in file:\n",
    "        line = line.strip()\n",
    "        # The input sequences and class labels are separated by a tab\n",
    "        sequence, label = line.split(\"\\t\")\n",
    "        # Convert sequence string to a list of integers (reflecting the indicies in the vocabulary)\n",
    "        sequence = [ int(idx) for idx in sequence.split()]\n",
    "        # Convert each sequence into a tensor\n",
    "        sequence = torch.LongTensor(sequence)\n",
    "        # Add sequence and label to the respective lists\n",
    "        sequences.append(sequence)\n",
    "        targets.append(int(label))\n",
    "        \n",
    "# As targets is just a list of class labels, we can directly convert it into a tensor\n",
    "targets = torch.LongTensor(targets)"
   ]
  },
  {
   "cell_type": "code",
   "execution_count": 22,
   "id": "332c7bf8",
   "metadata": {},
   "outputs": [
    {
     "name": "stdout",
     "output_type": "stream",
     "text": [
      "Number of training samples:\t10590\n",
      "Number of test samples:\t\t10590\n"
     ]
    }
   ],
   "source": [
    "# create training set\n",
    "X_train, X_test, y_train, y_test = train_test_split(sequences, targets, test_size=0.5, shuffle=True, random_state=0)\n",
    "\n",
    "print(\"Number of training samples:\\t{}\".format(len(X_train)))\n",
    "print(\"Number of test samples:\\t\\t{}\".format(len(X_test)))"
   ]
  },
  {
   "cell_type": "code",
   "execution_count": 23,
   "id": "a0c6afd0",
   "metadata": {},
   "outputs": [],
   "source": [
    "class BaseDataset(Dataset):\n",
    "\n",
    "    def __init__(self, inputs, targets):\n",
    "        self.inputs = inputs\n",
    "        self.targets = targets\n",
    "\n",
    "    def __len__(self):\n",
    "        return len(self.inputs)\n",
    "\n",
    "    def __getitem__(self, index):\n",
    "        if self.targets is None:\n",
    "            return np.asarray(self.inputs[index])\n",
    "        else:\n",
    "            return np.asarray(self.inputs[index]), np.asarray(self.targets[index])"
   ]
  },
  {
   "cell_type": "code",
   "execution_count": 24,
   "id": "5aa17d6e",
   "metadata": {},
   "outputs": [],
   "source": [
    "batch_size = 256\n",
    "\n",
    "dataset_train = BaseDataset(X_train, y_train)\n",
    "sampler_train = EqualLengthsBatchSampler(batch_size, X_train, y_train)\n",
    "loader_train = DataLoader(dataset_train, batch_sampler=sampler_train, shuffle=False, drop_last=False)\n",
    "\n",
    "dataset_test = BaseDataset(X_test, y_test)\n",
    "sampler_test = EqualLengthsBatchSampler(batch_size, X_test, y_test)\n",
    "loader_test = DataLoader(dataset_test, batch_sampler=sampler_test, shuffle=False, drop_last=False)"
   ]
  },
  {
   "cell_type": "markdown",
   "id": "43290e3e",
   "metadata": {},
   "source": [
    "## Train & Evaluate Model\n",
    "\n",
    "### Auxiliary Methods"
   ]
  },
  {
   "cell_type": "code",
   "execution_count": 25,
   "id": "161e9fcf",
   "metadata": {},
   "outputs": [
    {
     "name": "stdout",
     "output_type": "stream",
     "text": [
      "Available device: cpu\n"
     ]
    }
   ],
   "source": [
    "device = torch.device(\"cpu\")\n",
    "\n",
    "print(\"Available device: {}\".format(device))"
   ]
  },
  {
   "cell_type": "code",
   "execution_count": 26,
   "id": "3b43b229",
   "metadata": {},
   "outputs": [],
   "source": [
    "def evaluate(model, loader, fixed_seq_len=None, min_seq_len=None):\n",
    "    \n",
    "    y_true, y_pred = [], []\n",
    "    \n",
    "    with tqdm(total=len(loader)) as pbar:\n",
    "\n",
    "        for X_batch, y_batch in loader:\n",
    "            batch_size, seq_len = X_batch.shape[0], X_batch.shape[1]\n",
    "            \n",
    "            if fixed_seq_len is not None:\n",
    "                X_batch = create_fixed_length_batch(X_batch, fixed_seq_len)            \n",
    "                \n",
    "            if min_seq_len is not None:\n",
    "                X_batch = torch.nn.functional.pad(X_batch, (0, min_seq_len-seq_len), mode=\"constant\", value=0)         \n",
    "\n",
    "            # Move the batch to the correct device\n",
    "            X_batch, y_batch = X_batch.to(device), y_batch.to(device)\n",
    "\n",
    "            log_probs = model(X_batch)                \n",
    "\n",
    "            y_batch_pred = torch.argmax(log_probs, dim=1)\n",
    "\n",
    "            y_true += list(y_batch.cpu())\n",
    "            y_pred += list(y_batch_pred.cpu())\n",
    "            \n",
    "            pbar.update(batch_size)\n",
    "\n",
    "    return f1_score(y_true, y_pred,average=\"macro\")"
   ]
  },
  {
   "cell_type": "code",
   "execution_count": 27,
   "id": "bb71e7d2",
   "metadata": {},
   "outputs": [],
   "source": [
    "def train_epoch(model, loader, optimizer, criterion, fixed_seq_len=None, min_seq_len=None):\n",
    "    \n",
    "    # Initialize epoch loss (cummulative loss fo all batchs)\n",
    "    epoch_loss = 0.0\n",
    "\n",
    "    with tqdm(total=len(loader)) as pbar:\n",
    "\n",
    "        for X_batch, y_batch in loader:\n",
    "            batch_size, seq_len = X_batch.shape[0], X_batch.shape[1]\n",
    "\n",
    "            if fixed_seq_len is not None:\n",
    "                X_batch = create_fixed_length_batch(X_batch, fixed_seq_len)            \n",
    "                \n",
    "            if min_seq_len is not None:\n",
    "                X_batch = torch.nn.functional.pad(X_batch, (0, min_seq_len-seq_len), mode=\"constant\", value=0)    \n",
    "            \n",
    "                \n",
    "            # Move the batch to the correct device\n",
    "            X_batch, y_batch = X_batch.to(device), y_batch.to(device)\n",
    "\n",
    "            log_probs = model(X_batch)                \n",
    "\n",
    "            # Calculate loss\n",
    "            loss = criterion(log_probs, y_batch)\n",
    "            \n",
    "            ### Pytorch magic! ###\n",
    "            optimizer.zero_grad()\n",
    "            loss.backward()\n",
    "            optimizer.step()\n",
    "\n",
    "            # Keep track of overall epoch loss\n",
    "            epoch_loss += loss.item()\n",
    "\n",
    "            pbar.update(batch_size)\n",
    "            \n",
    "    return epoch_loss"
   ]
  },
  {
   "cell_type": "code",
   "execution_count": 28,
   "id": "c549a0c3",
   "metadata": {},
   "outputs": [],
   "source": [
    "def train(model, loader_train, loader_test, optimizer, criterion, num_epochs, fixed_seq_len=None, min_seq_len=None, verbose=False):\n",
    "    \n",
    "    results = []\n",
    "    \n",
    "    print(\"Total Training Time (total number of epochs: {})\".format(num_epochs))\n",
    "    for epoch in tqdm(range(1, num_epochs+1)):\n",
    "        model.train()\n",
    "        epoch_loss = train_epoch(model, loader_train, optimizer, criterion, fixed_seq_len=fixed_seq_len, min_seq_len=min_seq_len)\n",
    "        model.eval()\n",
    "        acc_train = evaluate(model, loader_train, fixed_seq_len=fixed_seq_len, min_seq_len=min_seq_len)\n",
    "        acc_test = evaluate(model, loader_test, fixed_seq_len=fixed_seq_len, min_seq_len=min_seq_len)\n",
    "\n",
    "        results.append((epoch_loss, acc_train, acc_test))\n",
    "        \n",
    "        if verbose is True:\n",
    "            print(\"[Epoch {}] loss:\\t{:.3f}, f1 train: {:.3f}, f1 test: {:.3f} \".format(epoch, epoch_loss, acc_train, acc_test))\n",
    "            \n",
    "    return results"
   ]
  },
  {
   "cell_type": "code",
   "execution_count": 29,
   "id": "7e924788",
   "metadata": {},
   "outputs": [
    {
     "name": "stdout",
     "output_type": "stream",
     "text": [
      "CnnSentenceClassifier(\n",
      "  (embedding): Embedding(10004, 100)\n",
      "  (conv2): Conv2d(1, 2, kernel_size=(2, 100), stride=(1, 1))\n",
      "  (conv3): Conv2d(1, 2, kernel_size=(3, 100), stride=(1, 1))\n",
      "  (conv4): Conv2d(1, 2, kernel_size=(4, 100), stride=(1, 1))\n",
      "  (out): Linear(in_features=6, out_features=8, bias=True)\n",
      ")\n"
     ]
    }
   ],
   "source": [
    "# Create model   \n",
    "cnn = CnnSentenceClassifier(vocab_size, 8, 100).to(device)\n",
    "# Define optimizer\n",
    "optimizer = torch.optim.Adam(cnn.parameters(), lr=0.01)\n",
    "# Define loss function\n",
    "criterion = nn.NLLLoss()\n",
    "\n",
    "print(cnn)"
   ]
  },
  {
   "cell_type": "code",
   "execution_count": 30,
   "id": "a206d72e",
   "metadata": {},
   "outputs": [
    {
     "data": {
      "application/vnd.jupyter.widget-view+json": {
       "model_id": "229ea451062745c2ac5db7193b954826",
       "version_major": 2,
       "version_minor": 0
      },
      "text/plain": [
       "  0%|          | 0/10590 [00:00<?, ?it/s]"
      ]
     },
     "metadata": {},
     "output_type": "display_data"
    },
    {
     "data": {
      "text/plain": [
       "0.032203746197243074"
      ]
     },
     "execution_count": 30,
     "metadata": {},
     "output_type": "execute_result"
    }
   ],
   "source": [
    "evaluate(cnn, loader_test, min_seq_len=4)"
   ]
  },
  {
   "cell_type": "code",
   "execution_count": 31,
   "id": "927c50dd",
   "metadata": {},
   "outputs": [
    {
     "name": "stdout",
     "output_type": "stream",
     "text": [
      "Total Training Time (total number of epochs: 20)\n"
     ]
    },
    {
     "data": {
      "application/vnd.jupyter.widget-view+json": {
       "model_id": "d47f73e858e44473b241b3a7eef56211",
       "version_major": 2,
       "version_minor": 0
      },
      "text/plain": [
       "  0%|          | 0/20 [00:00<?, ?it/s]"
      ]
     },
     "metadata": {},
     "output_type": "display_data"
    },
    {
     "data": {
      "application/vnd.jupyter.widget-view+json": {
       "model_id": "0a856c89bdba4936976d600d6efff27b",
       "version_major": 2,
       "version_minor": 0
      },
      "text/plain": [
       "  0%|          | 0/10590 [00:00<?, ?it/s]"
      ]
     },
     "metadata": {},
     "output_type": "display_data"
    },
    {
     "data": {
      "application/vnd.jupyter.widget-view+json": {
       "model_id": "adf11ac86a6447548a7c20d3465b86d9",
       "version_major": 2,
       "version_minor": 0
      },
      "text/plain": [
       "  0%|          | 0/10590 [00:00<?, ?it/s]"
      ]
     },
     "metadata": {},
     "output_type": "display_data"
    },
    {
     "data": {
      "application/vnd.jupyter.widget-view+json": {
       "model_id": "70089a6dcd294f48912b24f37de5e26a",
       "version_major": 2,
       "version_minor": 0
      },
      "text/plain": [
       "  0%|          | 0/10590 [00:00<?, ?it/s]"
      ]
     },
     "metadata": {},
     "output_type": "display_data"
    },
    {
     "name": "stdout",
     "output_type": "stream",
     "text": [
      "[Epoch 1] loss:\t1722.236, f1 train: 0.108, f1 test: 0.089 \n"
     ]
    },
    {
     "data": {
      "application/vnd.jupyter.widget-view+json": {
       "model_id": "ab4b57bf4d384601a3ef54a880388333",
       "version_major": 2,
       "version_minor": 0
      },
      "text/plain": [
       "  0%|          | 0/10590 [00:00<?, ?it/s]"
      ]
     },
     "metadata": {},
     "output_type": "display_data"
    },
    {
     "data": {
      "application/vnd.jupyter.widget-view+json": {
       "model_id": "ba6d18c3f58d49e1ab3fe45fc4c0f483",
       "version_major": 2,
       "version_minor": 0
      },
      "text/plain": [
       "  0%|          | 0/10590 [00:00<?, ?it/s]"
      ]
     },
     "metadata": {},
     "output_type": "display_data"
    },
    {
     "data": {
      "application/vnd.jupyter.widget-view+json": {
       "model_id": "537a68444ee948f6982dea8ae6a1b752",
       "version_major": 2,
       "version_minor": 0
      },
      "text/plain": [
       "  0%|          | 0/10590 [00:00<?, ?it/s]"
      ]
     },
     "metadata": {},
     "output_type": "display_data"
    },
    {
     "name": "stdout",
     "output_type": "stream",
     "text": [
      "[Epoch 2] loss:\t1647.061, f1 train: 0.123, f1 test: 0.101 \n"
     ]
    },
    {
     "data": {
      "application/vnd.jupyter.widget-view+json": {
       "model_id": "e774668b1b584333b4cb76889848c552",
       "version_major": 2,
       "version_minor": 0
      },
      "text/plain": [
       "  0%|          | 0/10590 [00:00<?, ?it/s]"
      ]
     },
     "metadata": {},
     "output_type": "display_data"
    },
    {
     "data": {
      "application/vnd.jupyter.widget-view+json": {
       "model_id": "cbb68b3b5c5d494ca1c091e6127371e9",
       "version_major": 2,
       "version_minor": 0
      },
      "text/plain": [
       "  0%|          | 0/10590 [00:00<?, ?it/s]"
      ]
     },
     "metadata": {},
     "output_type": "display_data"
    },
    {
     "data": {
      "application/vnd.jupyter.widget-view+json": {
       "model_id": "d31b84b5e5564dceb5b2f8c2e0209600",
       "version_major": 2,
       "version_minor": 0
      },
      "text/plain": [
       "  0%|          | 0/10590 [00:00<?, ?it/s]"
      ]
     },
     "metadata": {},
     "output_type": "display_data"
    },
    {
     "name": "stdout",
     "output_type": "stream",
     "text": [
      "[Epoch 3] loss:\t1556.453, f1 train: 0.197, f1 test: 0.125 \n"
     ]
    },
    {
     "data": {
      "application/vnd.jupyter.widget-view+json": {
       "model_id": "1fcdf1d0d1474c108cb75f866833d73d",
       "version_major": 2,
       "version_minor": 0
      },
      "text/plain": [
       "  0%|          | 0/10590 [00:00<?, ?it/s]"
      ]
     },
     "metadata": {},
     "output_type": "display_data"
    },
    {
     "data": {
      "application/vnd.jupyter.widget-view+json": {
       "model_id": "f9c2cf40bae042e7a41c5e48bb00eaac",
       "version_major": 2,
       "version_minor": 0
      },
      "text/plain": [
       "  0%|          | 0/10590 [00:00<?, ?it/s]"
      ]
     },
     "metadata": {},
     "output_type": "display_data"
    },
    {
     "data": {
      "application/vnd.jupyter.widget-view+json": {
       "model_id": "c7e2f1145e2d4f6fa5d52fa83281ce9b",
       "version_major": 2,
       "version_minor": 0
      },
      "text/plain": [
       "  0%|          | 0/10590 [00:00<?, ?it/s]"
      ]
     },
     "metadata": {},
     "output_type": "display_data"
    },
    {
     "name": "stdout",
     "output_type": "stream",
     "text": [
      "[Epoch 4] loss:\t1432.120, f1 train: 0.262, f1 test: 0.159 \n"
     ]
    },
    {
     "data": {
      "application/vnd.jupyter.widget-view+json": {
       "model_id": "047438a536534800b1c98dda9c3242ca",
       "version_major": 2,
       "version_minor": 0
      },
      "text/plain": [
       "  0%|          | 0/10590 [00:00<?, ?it/s]"
      ]
     },
     "metadata": {},
     "output_type": "display_data"
    },
    {
     "data": {
      "application/vnd.jupyter.widget-view+json": {
       "model_id": "f0949e26de904992827c304e61945085",
       "version_major": 2,
       "version_minor": 0
      },
      "text/plain": [
       "  0%|          | 0/10590 [00:00<?, ?it/s]"
      ]
     },
     "metadata": {},
     "output_type": "display_data"
    },
    {
     "data": {
      "application/vnd.jupyter.widget-view+json": {
       "model_id": "2c2e9891db0d4da39ebc0b5755c22982",
       "version_major": 2,
       "version_minor": 0
      },
      "text/plain": [
       "  0%|          | 0/10590 [00:00<?, ?it/s]"
      ]
     },
     "metadata": {},
     "output_type": "display_data"
    },
    {
     "name": "stdout",
     "output_type": "stream",
     "text": [
      "[Epoch 5] loss:\t1356.961, f1 train: 0.297, f1 test: 0.174 \n"
     ]
    },
    {
     "data": {
      "application/vnd.jupyter.widget-view+json": {
       "model_id": "f9428946c07d45dab8693f2054f369e0",
       "version_major": 2,
       "version_minor": 0
      },
      "text/plain": [
       "  0%|          | 0/10590 [00:00<?, ?it/s]"
      ]
     },
     "metadata": {},
     "output_type": "display_data"
    },
    {
     "data": {
      "application/vnd.jupyter.widget-view+json": {
       "model_id": "7c0ff72d12af44878ce27f393ab4fda8",
       "version_major": 2,
       "version_minor": 0
      },
      "text/plain": [
       "  0%|          | 0/10590 [00:00<?, ?it/s]"
      ]
     },
     "metadata": {},
     "output_type": "display_data"
    },
    {
     "data": {
      "application/vnd.jupyter.widget-view+json": {
       "model_id": "492b999ede164bc1955c811b29499bc8",
       "version_major": 2,
       "version_minor": 0
      },
      "text/plain": [
       "  0%|          | 0/10590 [00:00<?, ?it/s]"
      ]
     },
     "metadata": {},
     "output_type": "display_data"
    },
    {
     "name": "stdout",
     "output_type": "stream",
     "text": [
      "[Epoch 6] loss:\t1271.085, f1 train: 0.301, f1 test: 0.166 \n"
     ]
    },
    {
     "data": {
      "application/vnd.jupyter.widget-view+json": {
       "model_id": "b7339ce7e8d943d2a6c98cdeee260170",
       "version_major": 2,
       "version_minor": 0
      },
      "text/plain": [
       "  0%|          | 0/10590 [00:00<?, ?it/s]"
      ]
     },
     "metadata": {},
     "output_type": "display_data"
    },
    {
     "data": {
      "application/vnd.jupyter.widget-view+json": {
       "model_id": "835bd85c37ab48fb80f4b26dbc9cde00",
       "version_major": 2,
       "version_minor": 0
      },
      "text/plain": [
       "  0%|          | 0/10590 [00:00<?, ?it/s]"
      ]
     },
     "metadata": {},
     "output_type": "display_data"
    },
    {
     "data": {
      "application/vnd.jupyter.widget-view+json": {
       "model_id": "59d228e8031e46c780a084acc155e6b4",
       "version_major": 2,
       "version_minor": 0
      },
      "text/plain": [
       "  0%|          | 0/10590 [00:00<?, ?it/s]"
      ]
     },
     "metadata": {},
     "output_type": "display_data"
    },
    {
     "name": "stdout",
     "output_type": "stream",
     "text": [
      "[Epoch 7] loss:\t1237.634, f1 train: 0.322, f1 test: 0.167 \n"
     ]
    },
    {
     "data": {
      "application/vnd.jupyter.widget-view+json": {
       "model_id": "1ef6c07492de45da98117fbdc49ff112",
       "version_major": 2,
       "version_minor": 0
      },
      "text/plain": [
       "  0%|          | 0/10590 [00:00<?, ?it/s]"
      ]
     },
     "metadata": {},
     "output_type": "display_data"
    },
    {
     "data": {
      "application/vnd.jupyter.widget-view+json": {
       "model_id": "1defee1db3784fe69d14addb6b2b2328",
       "version_major": 2,
       "version_minor": 0
      },
      "text/plain": [
       "  0%|          | 0/10590 [00:00<?, ?it/s]"
      ]
     },
     "metadata": {},
     "output_type": "display_data"
    },
    {
     "data": {
      "application/vnd.jupyter.widget-view+json": {
       "model_id": "154cffdbb9b9433b97e77d72f436f6fb",
       "version_major": 2,
       "version_minor": 0
      },
      "text/plain": [
       "  0%|          | 0/10590 [00:00<?, ?it/s]"
      ]
     },
     "metadata": {},
     "output_type": "display_data"
    },
    {
     "name": "stdout",
     "output_type": "stream",
     "text": [
      "[Epoch 8] loss:\t1190.318, f1 train: 0.311, f1 test: 0.155 \n"
     ]
    },
    {
     "data": {
      "application/vnd.jupyter.widget-view+json": {
       "model_id": "88aac821cb7e45ae96a74b4812265e93",
       "version_major": 2,
       "version_minor": 0
      },
      "text/plain": [
       "  0%|          | 0/10590 [00:00<?, ?it/s]"
      ]
     },
     "metadata": {},
     "output_type": "display_data"
    },
    {
     "data": {
      "application/vnd.jupyter.widget-view+json": {
       "model_id": "45e7a432f1e047938ffdf8366308cd65",
       "version_major": 2,
       "version_minor": 0
      },
      "text/plain": [
       "  0%|          | 0/10590 [00:00<?, ?it/s]"
      ]
     },
     "metadata": {},
     "output_type": "display_data"
    },
    {
     "data": {
      "application/vnd.jupyter.widget-view+json": {
       "model_id": "89176388fdc84c6bb63721962ccf95a8",
       "version_major": 2,
       "version_minor": 0
      },
      "text/plain": [
       "  0%|          | 0/10590 [00:00<?, ?it/s]"
      ]
     },
     "metadata": {},
     "output_type": "display_data"
    },
    {
     "name": "stdout",
     "output_type": "stream",
     "text": [
      "[Epoch 9] loss:\t1163.965, f1 train: 0.322, f1 test: 0.153 \n"
     ]
    },
    {
     "data": {
      "application/vnd.jupyter.widget-view+json": {
       "model_id": "db25009960d543549426fcf6be3c208b",
       "version_major": 2,
       "version_minor": 0
      },
      "text/plain": [
       "  0%|          | 0/10590 [00:00<?, ?it/s]"
      ]
     },
     "metadata": {},
     "output_type": "display_data"
    },
    {
     "data": {
      "application/vnd.jupyter.widget-view+json": {
       "model_id": "f36e0d6345684eef851aa41115624faa",
       "version_major": 2,
       "version_minor": 0
      },
      "text/plain": [
       "  0%|          | 0/10590 [00:00<?, ?it/s]"
      ]
     },
     "metadata": {},
     "output_type": "display_data"
    },
    {
     "data": {
      "application/vnd.jupyter.widget-view+json": {
       "model_id": "664c22f0ad7c4cf4ab0b8bfc80d2ccb6",
       "version_major": 2,
       "version_minor": 0
      },
      "text/plain": [
       "  0%|          | 0/10590 [00:00<?, ?it/s]"
      ]
     },
     "metadata": {},
     "output_type": "display_data"
    },
    {
     "name": "stdout",
     "output_type": "stream",
     "text": [
      "[Epoch 10] loss:\t1152.157, f1 train: 0.339, f1 test: 0.161 \n"
     ]
    },
    {
     "data": {
      "application/vnd.jupyter.widget-view+json": {
       "model_id": "4b41874aa80745f69ac90a5a53adb5f2",
       "version_major": 2,
       "version_minor": 0
      },
      "text/plain": [
       "  0%|          | 0/10590 [00:00<?, ?it/s]"
      ]
     },
     "metadata": {},
     "output_type": "display_data"
    },
    {
     "data": {
      "application/vnd.jupyter.widget-view+json": {
       "model_id": "39442c99437043ca992e0a29cb9b3140",
       "version_major": 2,
       "version_minor": 0
      },
      "text/plain": [
       "  0%|          | 0/10590 [00:00<?, ?it/s]"
      ]
     },
     "metadata": {},
     "output_type": "display_data"
    },
    {
     "data": {
      "application/vnd.jupyter.widget-view+json": {
       "model_id": "687f1de771ad4215bae699cf17392607",
       "version_major": 2,
       "version_minor": 0
      },
      "text/plain": [
       "  0%|          | 0/10590 [00:00<?, ?it/s]"
      ]
     },
     "metadata": {},
     "output_type": "display_data"
    },
    {
     "name": "stdout",
     "output_type": "stream",
     "text": [
      "[Epoch 11] loss:\t1136.637, f1 train: 0.405, f1 test: 0.181 \n"
     ]
    },
    {
     "data": {
      "application/vnd.jupyter.widget-view+json": {
       "model_id": "e4f0630cd5c742f38a584ab814d0f659",
       "version_major": 2,
       "version_minor": 0
      },
      "text/plain": [
       "  0%|          | 0/10590 [00:00<?, ?it/s]"
      ]
     },
     "metadata": {},
     "output_type": "display_data"
    },
    {
     "data": {
      "application/vnd.jupyter.widget-view+json": {
       "model_id": "b18950bae21f453284ec2e1f9b5c2ec6",
       "version_major": 2,
       "version_minor": 0
      },
      "text/plain": [
       "  0%|          | 0/10590 [00:00<?, ?it/s]"
      ]
     },
     "metadata": {},
     "output_type": "display_data"
    },
    {
     "data": {
      "application/vnd.jupyter.widget-view+json": {
       "model_id": "a22fb7dabc584998a816e95762089f6a",
       "version_major": 2,
       "version_minor": 0
      },
      "text/plain": [
       "  0%|          | 0/10590 [00:00<?, ?it/s]"
      ]
     },
     "metadata": {},
     "output_type": "display_data"
    },
    {
     "name": "stdout",
     "output_type": "stream",
     "text": [
      "[Epoch 12] loss:\t1116.894, f1 train: 0.404, f1 test: 0.180 \n"
     ]
    },
    {
     "data": {
      "application/vnd.jupyter.widget-view+json": {
       "model_id": "4665cb5ac5014218ac359e6206072882",
       "version_major": 2,
       "version_minor": 0
      },
      "text/plain": [
       "  0%|          | 0/10590 [00:00<?, ?it/s]"
      ]
     },
     "metadata": {},
     "output_type": "display_data"
    },
    {
     "data": {
      "application/vnd.jupyter.widget-view+json": {
       "model_id": "0f2cfb81ec974a01949eb39ad3a94e39",
       "version_major": 2,
       "version_minor": 0
      },
      "text/plain": [
       "  0%|          | 0/10590 [00:00<?, ?it/s]"
      ]
     },
     "metadata": {},
     "output_type": "display_data"
    },
    {
     "data": {
      "application/vnd.jupyter.widget-view+json": {
       "model_id": "362a80731e6b4de88c04cac29f6aa362",
       "version_major": 2,
       "version_minor": 0
      },
      "text/plain": [
       "  0%|          | 0/10590 [00:00<?, ?it/s]"
      ]
     },
     "metadata": {},
     "output_type": "display_data"
    },
    {
     "name": "stdout",
     "output_type": "stream",
     "text": [
      "[Epoch 13] loss:\t1111.914, f1 train: 0.386, f1 test: 0.173 \n"
     ]
    },
    {
     "data": {
      "application/vnd.jupyter.widget-view+json": {
       "model_id": "b80976b698974696970718d797c8b295",
       "version_major": 2,
       "version_minor": 0
      },
      "text/plain": [
       "  0%|          | 0/10590 [00:00<?, ?it/s]"
      ]
     },
     "metadata": {},
     "output_type": "display_data"
    },
    {
     "data": {
      "application/vnd.jupyter.widget-view+json": {
       "model_id": "f733eaa63b9b4b30964c0456b770bb0a",
       "version_major": 2,
       "version_minor": 0
      },
      "text/plain": [
       "  0%|          | 0/10590 [00:00<?, ?it/s]"
      ]
     },
     "metadata": {},
     "output_type": "display_data"
    },
    {
     "data": {
      "application/vnd.jupyter.widget-view+json": {
       "model_id": "44a150dc517d436abe918a7b525188a2",
       "version_major": 2,
       "version_minor": 0
      },
      "text/plain": [
       "  0%|          | 0/10590 [00:00<?, ?it/s]"
      ]
     },
     "metadata": {},
     "output_type": "display_data"
    },
    {
     "name": "stdout",
     "output_type": "stream",
     "text": [
      "[Epoch 14] loss:\t1091.349, f1 train: 0.380, f1 test: 0.171 \n"
     ]
    },
    {
     "data": {
      "application/vnd.jupyter.widget-view+json": {
       "model_id": "3e06bd61adaa4f54a5eed00df3ddbc73",
       "version_major": 2,
       "version_minor": 0
      },
      "text/plain": [
       "  0%|          | 0/10590 [00:00<?, ?it/s]"
      ]
     },
     "metadata": {},
     "output_type": "display_data"
    },
    {
     "data": {
      "application/vnd.jupyter.widget-view+json": {
       "model_id": "d081d1fa8fef419db48befa5caafc616",
       "version_major": 2,
       "version_minor": 0
      },
      "text/plain": [
       "  0%|          | 0/10590 [00:00<?, ?it/s]"
      ]
     },
     "metadata": {},
     "output_type": "display_data"
    },
    {
     "data": {
      "application/vnd.jupyter.widget-view+json": {
       "model_id": "8825955a26894f7fa9c6ce2d60d94331",
       "version_major": 2,
       "version_minor": 0
      },
      "text/plain": [
       "  0%|          | 0/10590 [00:00<?, ?it/s]"
      ]
     },
     "metadata": {},
     "output_type": "display_data"
    },
    {
     "name": "stdout",
     "output_type": "stream",
     "text": [
      "[Epoch 15] loss:\t1108.046, f1 train: 0.416, f1 test: 0.188 \n"
     ]
    },
    {
     "data": {
      "application/vnd.jupyter.widget-view+json": {
       "model_id": "47e1fe055c7441ea9237703caaab0997",
       "version_major": 2,
       "version_minor": 0
      },
      "text/plain": [
       "  0%|          | 0/10590 [00:00<?, ?it/s]"
      ]
     },
     "metadata": {},
     "output_type": "display_data"
    },
    {
     "data": {
      "application/vnd.jupyter.widget-view+json": {
       "model_id": "d5ab502ed1f246958bd2cff6b5321e68",
       "version_major": 2,
       "version_minor": 0
      },
      "text/plain": [
       "  0%|          | 0/10590 [00:00<?, ?it/s]"
      ]
     },
     "metadata": {},
     "output_type": "display_data"
    },
    {
     "data": {
      "application/vnd.jupyter.widget-view+json": {
       "model_id": "b15bc8ecd6214b6dbff91e978a26c7de",
       "version_major": 2,
       "version_minor": 0
      },
      "text/plain": [
       "  0%|          | 0/10590 [00:00<?, ?it/s]"
      ]
     },
     "metadata": {},
     "output_type": "display_data"
    },
    {
     "name": "stdout",
     "output_type": "stream",
     "text": [
      "[Epoch 16] loss:\t1084.221, f1 train: 0.423, f1 test: 0.183 \n"
     ]
    },
    {
     "data": {
      "application/vnd.jupyter.widget-view+json": {
       "model_id": "bf5353401afa405abe303af8750dacca",
       "version_major": 2,
       "version_minor": 0
      },
      "text/plain": [
       "  0%|          | 0/10590 [00:00<?, ?it/s]"
      ]
     },
     "metadata": {},
     "output_type": "display_data"
    },
    {
     "data": {
      "application/vnd.jupyter.widget-view+json": {
       "model_id": "de6ad8272b9a40aca7d90619b2af64b5",
       "version_major": 2,
       "version_minor": 0
      },
      "text/plain": [
       "  0%|          | 0/10590 [00:00<?, ?it/s]"
      ]
     },
     "metadata": {},
     "output_type": "display_data"
    },
    {
     "data": {
      "application/vnd.jupyter.widget-view+json": {
       "model_id": "2ec7aef8d0d24fe9bf347ad871ae2df9",
       "version_major": 2,
       "version_minor": 0
      },
      "text/plain": [
       "  0%|          | 0/10590 [00:00<?, ?it/s]"
      ]
     },
     "metadata": {},
     "output_type": "display_data"
    },
    {
     "name": "stdout",
     "output_type": "stream",
     "text": [
      "[Epoch 17] loss:\t1075.596, f1 train: 0.425, f1 test: 0.187 \n"
     ]
    },
    {
     "data": {
      "application/vnd.jupyter.widget-view+json": {
       "model_id": "46b1b35d52c84cc79f93893c6b181266",
       "version_major": 2,
       "version_minor": 0
      },
      "text/plain": [
       "  0%|          | 0/10590 [00:00<?, ?it/s]"
      ]
     },
     "metadata": {},
     "output_type": "display_data"
    },
    {
     "data": {
      "application/vnd.jupyter.widget-view+json": {
       "model_id": "9e1930977f964e0db498140915f7251c",
       "version_major": 2,
       "version_minor": 0
      },
      "text/plain": [
       "  0%|          | 0/10590 [00:00<?, ?it/s]"
      ]
     },
     "metadata": {},
     "output_type": "display_data"
    },
    {
     "data": {
      "application/vnd.jupyter.widget-view+json": {
       "model_id": "7309595fe5a847f39c992e51f865fd66",
       "version_major": 2,
       "version_minor": 0
      },
      "text/plain": [
       "  0%|          | 0/10590 [00:00<?, ?it/s]"
      ]
     },
     "metadata": {},
     "output_type": "display_data"
    },
    {
     "name": "stdout",
     "output_type": "stream",
     "text": [
      "[Epoch 18] loss:\t1079.029, f1 train: 0.396, f1 test: 0.179 \n"
     ]
    },
    {
     "data": {
      "application/vnd.jupyter.widget-view+json": {
       "model_id": "39479e4d5baa44c6be93b054b4bb0379",
       "version_major": 2,
       "version_minor": 0
      },
      "text/plain": [
       "  0%|          | 0/10590 [00:00<?, ?it/s]"
      ]
     },
     "metadata": {},
     "output_type": "display_data"
    },
    {
     "data": {
      "application/vnd.jupyter.widget-view+json": {
       "model_id": "c4f81f0b70bd415dac9ce6378aaa2094",
       "version_major": 2,
       "version_minor": 0
      },
      "text/plain": [
       "  0%|          | 0/10590 [00:00<?, ?it/s]"
      ]
     },
     "metadata": {},
     "output_type": "display_data"
    },
    {
     "data": {
      "application/vnd.jupyter.widget-view+json": {
       "model_id": "4eabb8c679b246deb2ce6c55d205ebab",
       "version_major": 2,
       "version_minor": 0
      },
      "text/plain": [
       "  0%|          | 0/10590 [00:00<?, ?it/s]"
      ]
     },
     "metadata": {},
     "output_type": "display_data"
    },
    {
     "name": "stdout",
     "output_type": "stream",
     "text": [
      "[Epoch 19] loss:\t1078.454, f1 train: 0.409, f1 test: 0.177 \n"
     ]
    },
    {
     "data": {
      "application/vnd.jupyter.widget-view+json": {
       "model_id": "d8cea3ef3a824846bcf14f4039a02d23",
       "version_major": 2,
       "version_minor": 0
      },
      "text/plain": [
       "  0%|          | 0/10590 [00:00<?, ?it/s]"
      ]
     },
     "metadata": {},
     "output_type": "display_data"
    },
    {
     "data": {
      "application/vnd.jupyter.widget-view+json": {
       "model_id": "2ab2644d53ea49019e373ecf844ecb94",
       "version_major": 2,
       "version_minor": 0
      },
      "text/plain": [
       "  0%|          | 0/10590 [00:00<?, ?it/s]"
      ]
     },
     "metadata": {},
     "output_type": "display_data"
    },
    {
     "data": {
      "application/vnd.jupyter.widget-view+json": {
       "model_id": "25ada321f0c143e2b97c30885eeffa6f",
       "version_major": 2,
       "version_minor": 0
      },
      "text/plain": [
       "  0%|          | 0/10590 [00:00<?, ?it/s]"
      ]
     },
     "metadata": {},
     "output_type": "display_data"
    },
    {
     "name": "stdout",
     "output_type": "stream",
     "text": [
      "[Epoch 20] loss:\t1072.539, f1 train: 0.418, f1 test: 0.187 \n"
     ]
    }
   ],
   "source": [
    "num_epochs = 20\n",
    "\n",
    "#train(basic_rnn_classifier, loader, num_epochs, verbose=True)\n",
    "results = train(cnn, loader_train, loader_test, optimizer, criterion, num_epochs, min_seq_len=4, verbose=True)"
   ]
  },
  {
   "cell_type": "code",
   "execution_count": 32,
   "id": "ce231911",
   "metadata": {},
   "outputs": [
    {
     "data": {
      "image/png": "[encoded data removed]",
      "text/plain": [
       "<Figure size 640x480 with 1 Axes>"
      ]
     },
     "metadata": {},
     "output_type": "display_data"
    }
   ],
   "source": [
    "plot_training_results(results)"
   ]
  },
  {
   "cell_type": "code",
   "execution_count": null,
   "id": "e434d1d9",
   "metadata": {},
   "outputs": [],
   "source": []
  }
 ],
 "metadata": {
  "kernelspec": {
   "display_name": "Python 3 (ipykernel)",
   "language": "python",
   "name": "python3"
  },
  "language_info": {
   "codemirror_mode": {
    "name": "ipython",
    "version": 3
   },
   "file_extension": ".py",
   "mimetype": "text/x-python",
   "name": "python",
   "nbconvert_exporter": "python",
   "pygments_lexer": "ipython3",
   "version": "3.10.10"
  }
 },
 "nbformat": 4,
 "nbformat_minor": 5
}
